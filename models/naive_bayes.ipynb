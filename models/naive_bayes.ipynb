{
 "cells": [
  {
   "cell_type": "markdown",
   "id": "16df4626",
   "metadata": {
    "papermill": {
     "duration": 0.00567,
     "end_time": "2025-08-28T07:07:40.870262",
     "exception": false,
     "start_time": "2025-08-28T07:07:40.864592",
     "status": "completed"
    },
    "tags": []
   },
   "source": [
    "## **Naive Bayes**\n",
    "\n",
    "Naive Bayes is a probabilistic machine learning model based on Bayes’ Theorem. It assumes that all features are conditionally independent given the class label (the \"naive\" assumption). Despite its simplicity, Naive Bayes often performs surprisingly well.\n",
    "\n",
    "#### **Bayes' Theorem**\n",
    "The model is built on Bayes' Theorem:\n",
    "$$P(y|X) = \\dfrac{P(X|y)\\cdot P(y)}{P(X)}$$\n",
    "where:\n",
    "- $P(y|X)$: Posterior probability of class $y$ given features $X$.\n",
    "- $P(X|y)$: Likelihood (probability of features given class)\n",
    "- $P(y)$: Prior probability class $y$\n",
    "- $P(X)$: Marginal probability of features\n",
    "\n",
    "In this project we use 2 variants of Naive Bayes:\n",
    "1. Gaussian Naive Bayes\n",
    "    - Assumes features follow a **normal distribution**.\n",
    "    - Suitable for continuous data\n",
    "2. Bernoulli Naive Bayes\n",
    "    - Assumes features are **binary** (0/1)\n",
    "\n",
    "#### **Advantages**\n",
    "- Simple and easy to implement\n",
    "- Fast to train and predict, even on large datasets\n",
    "- Works well with high-dimensional data\n",
    "- Performs well with relative small training data\n",
    "\n",
    "#### **Limitations**\n",
    "- Strong independence assumption rarely holds in real-world data\n",
    "- Poor performance if features are highly correlated\n",
    "- Requires careful handling of zero probabilities (usually handled with **Laplace smoothing**)"
   ]
  },
  {
   "cell_type": "markdown",
   "id": "584e5cec",
   "metadata": {
    "papermill": {
     "duration": 0.004282,
     "end_time": "2025-08-28T07:07:40.879328",
     "exception": false,
     "start_time": "2025-08-28T07:07:40.875046",
     "status": "completed"
    },
    "tags": []
   },
   "source": [
    "### **Import necessary libraries**"
   ]
  },
  {
   "cell_type": "code",
   "execution_count": 1,
   "id": "4cd1a932",
   "metadata": {
    "execution": {
     "iopub.execute_input": "2025-08-28T07:07:40.890120Z",
     "iopub.status.busy": "2025-08-28T07:07:40.889571Z",
     "iopub.status.idle": "2025-08-28T07:07:44.644779Z",
     "shell.execute_reply": "2025-08-28T07:07:44.643604Z"
    },
    "papermill": {
     "duration": 3.762957,
     "end_time": "2025-08-28T07:07:44.646873",
     "exception": false,
     "start_time": "2025-08-28T07:07:40.883916",
     "status": "completed"
    },
    "tags": []
   },
   "outputs": [],
   "source": [
    "import os \n",
    "import sys\n",
    "sys.path.append(os.path.abspath(os.path.join('..')))\n",
    "\n",
    "import pandas as pd\n",
    "import numpy as np\n",
    "from sklearn.naive_bayes import GaussianNB, BernoulliNB\n",
    "from sklearn.model_selection import GridSearchCV\n",
    "from sklearn.metrics import accuracy_score, f1_score, recall_score, precision_score, confusion_matrix, ConfusionMatrixDisplay\n",
    "\n",
    "import matplotlib.pyplot as plt\n",
    "\n",
    "import warnings\n",
    "warnings.filterwarnings(\"ignore\")"
   ]
  },
  {
   "cell_type": "markdown",
   "id": "f7caa430",
   "metadata": {
    "papermill": {
     "duration": 0.004336,
     "end_time": "2025-08-28T07:07:44.656044",
     "exception": false,
     "start_time": "2025-08-28T07:07:44.651708",
     "status": "completed"
    },
    "tags": []
   },
   "source": [
    "### **Prepare train, test data**"
   ]
  },
  {
   "cell_type": "code",
   "execution_count": null,
   "id": "c4ec68fe",
   "metadata": {
    "execution": {
     "iopub.execute_input": "2025-08-28T07:07:44.666976Z",
     "iopub.status.busy": "2025-08-28T07:07:44.666285Z",
     "iopub.status.idle": "2025-08-28T07:07:45.468093Z",
     "shell.execute_reply": "2025-08-28T07:07:45.466901Z"
    },
    "papermill": {
     "duration": 0.809423,
     "end_time": "2025-08-28T07:07:45.470003",
     "exception": false,
     "start_time": "2025-08-28T07:07:44.660580",
     "status": "completed"
    },
    "tags": []
   },
   "outputs": [],
   "source": [
    "train_df = pd.read_csv('../data/train_data.csv')\n",
    "test_df = pd.read_csv('../data/test_data.csv')"
   ]
  },
  {
   "cell_type": "code",
   "execution_count": 3,
   "id": "7bc778b6",
   "metadata": {
    "execution": {
     "iopub.execute_input": "2025-08-28T07:07:45.481411Z",
     "iopub.status.busy": "2025-08-28T07:07:45.481037Z",
     "iopub.status.idle": "2025-08-28T07:07:45.518296Z",
     "shell.execute_reply": "2025-08-28T07:07:45.517171Z"
    },
    "papermill": {
     "duration": 0.045387,
     "end_time": "2025-08-28T07:07:45.520289",
     "exception": false,
     "start_time": "2025-08-28T07:07:45.474902",
     "status": "completed"
    },
    "tags": []
   },
   "outputs": [],
   "source": [
    "X_train = train_df.drop(columns=['diabetes'])\n",
    "y_train = train_df['diabetes']\n",
    "X_test = test_df.drop(columns=['diabetes'])\n",
    "y_test = test_df['diabetes']"
   ]
  },
  {
   "cell_type": "markdown",
   "id": "caf4d99a",
   "metadata": {
    "papermill": {
     "duration": 0.005397,
     "end_time": "2025-08-28T07:07:45.530613",
     "exception": false,
     "start_time": "2025-08-28T07:07:45.525216",
     "status": "completed"
    },
    "tags": []
   },
   "source": [
    "### **Initialize model**"
   ]
  },
  {
   "cell_type": "markdown",
   "id": "f5000b1b",
   "metadata": {
    "papermill": {
     "duration": 0.004381,
     "end_time": "2025-08-28T07:07:45.539642",
     "exception": false,
     "start_time": "2025-08-28T07:07:45.535261",
     "status": "completed"
    },
    "tags": []
   },
   "source": [
    "#### **Gaussian Naive Bayes**"
   ]
  },
  {
   "cell_type": "code",
   "execution_count": 4,
   "id": "a7689083",
   "metadata": {
    "execution": {
     "iopub.execute_input": "2025-08-28T07:07:45.550499Z",
     "iopub.status.busy": "2025-08-28T07:07:45.550203Z",
     "iopub.status.idle": "2025-08-28T07:07:45.554776Z",
     "shell.execute_reply": "2025-08-28T07:07:45.553899Z"
    },
    "papermill": {
     "duration": 0.012135,
     "end_time": "2025-08-28T07:07:45.556472",
     "exception": false,
     "start_time": "2025-08-28T07:07:45.544337",
     "status": "completed"
    },
    "tags": []
   },
   "outputs": [],
   "source": [
    "gaussian_model = GaussianNB()"
   ]
  },
  {
   "cell_type": "code",
   "execution_count": 5,
   "id": "cbab3d11",
   "metadata": {
    "execution": {
     "iopub.execute_input": "2025-08-28T07:07:45.568823Z",
     "iopub.status.busy": "2025-08-28T07:07:45.568508Z",
     "iopub.status.idle": "2025-08-28T07:07:45.733679Z",
     "shell.execute_reply": "2025-08-28T07:07:45.732588Z"
    },
    "papermill": {
     "duration": 0.173197,
     "end_time": "2025-08-28T07:07:45.735286",
     "exception": false,
     "start_time": "2025-08-28T07:07:45.562089",
     "status": "completed"
    },
    "tags": []
   },
   "outputs": [
    {
     "data": {
      "text/html": [
       "<style>#sk-container-id-1 {color: black;background-color: white;}#sk-container-id-1 pre{padding: 0;}#sk-container-id-1 div.sk-toggleable {background-color: white;}#sk-container-id-1 label.sk-toggleable__label {cursor: pointer;display: block;width: 100%;margin-bottom: 0;padding: 0.3em;box-sizing: border-box;text-align: center;}#sk-container-id-1 label.sk-toggleable__label-arrow:before {content: \"▸\";float: left;margin-right: 0.25em;color: #696969;}#sk-container-id-1 label.sk-toggleable__label-arrow:hover:before {color: black;}#sk-container-id-1 div.sk-estimator:hover label.sk-toggleable__label-arrow:before {color: black;}#sk-container-id-1 div.sk-toggleable__content {max-height: 0;max-width: 0;overflow: hidden;text-align: left;background-color: #f0f8ff;}#sk-container-id-1 div.sk-toggleable__content pre {margin: 0.2em;color: black;border-radius: 0.25em;background-color: #f0f8ff;}#sk-container-id-1 input.sk-toggleable__control:checked~div.sk-toggleable__content {max-height: 200px;max-width: 100%;overflow: auto;}#sk-container-id-1 input.sk-toggleable__control:checked~label.sk-toggleable__label-arrow:before {content: \"▾\";}#sk-container-id-1 div.sk-estimator input.sk-toggleable__control:checked~label.sk-toggleable__label {background-color: #d4ebff;}#sk-container-id-1 div.sk-label input.sk-toggleable__control:checked~label.sk-toggleable__label {background-color: #d4ebff;}#sk-container-id-1 input.sk-hidden--visually {border: 0;clip: rect(1px 1px 1px 1px);clip: rect(1px, 1px, 1px, 1px);height: 1px;margin: -1px;overflow: hidden;padding: 0;position: absolute;width: 1px;}#sk-container-id-1 div.sk-estimator {font-family: monospace;background-color: #f0f8ff;border: 1px dotted black;border-radius: 0.25em;box-sizing: border-box;margin-bottom: 0.5em;}#sk-container-id-1 div.sk-estimator:hover {background-color: #d4ebff;}#sk-container-id-1 div.sk-parallel-item::after {content: \"\";width: 100%;border-bottom: 1px solid gray;flex-grow: 1;}#sk-container-id-1 div.sk-label:hover label.sk-toggleable__label {background-color: #d4ebff;}#sk-container-id-1 div.sk-serial::before {content: \"\";position: absolute;border-left: 1px solid gray;box-sizing: border-box;top: 0;bottom: 0;left: 50%;z-index: 0;}#sk-container-id-1 div.sk-serial {display: flex;flex-direction: column;align-items: center;background-color: white;padding-right: 0.2em;padding-left: 0.2em;position: relative;}#sk-container-id-1 div.sk-item {position: relative;z-index: 1;}#sk-container-id-1 div.sk-parallel {display: flex;align-items: stretch;justify-content: center;background-color: white;position: relative;}#sk-container-id-1 div.sk-item::before, #sk-container-id-1 div.sk-parallel-item::before {content: \"\";position: absolute;border-left: 1px solid gray;box-sizing: border-box;top: 0;bottom: 0;left: 50%;z-index: -1;}#sk-container-id-1 div.sk-parallel-item {display: flex;flex-direction: column;z-index: 1;position: relative;background-color: white;}#sk-container-id-1 div.sk-parallel-item:first-child::after {align-self: flex-end;width: 50%;}#sk-container-id-1 div.sk-parallel-item:last-child::after {align-self: flex-start;width: 50%;}#sk-container-id-1 div.sk-parallel-item:only-child::after {width: 0;}#sk-container-id-1 div.sk-dashed-wrapped {border: 1px dashed gray;margin: 0 0.4em 0.5em 0.4em;box-sizing: border-box;padding-bottom: 0.4em;background-color: white;}#sk-container-id-1 div.sk-label label {font-family: monospace;font-weight: bold;display: inline-block;line-height: 1.2em;}#sk-container-id-1 div.sk-label-container {text-align: center;}#sk-container-id-1 div.sk-container {/* jupyter's `normalize.less` sets `[hidden] { display: none; }` but bootstrap.min.css set `[hidden] { display: none !important; }` so we also need the `!important` here to be able to override the default hidden behavior on the sphinx rendered scikit-learn.org. See: https://github.com/scikit-learn/scikit-learn/issues/21755 */display: inline-block !important;position: relative;}#sk-container-id-1 div.sk-text-repr-fallback {display: none;}</style><div id=\"sk-container-id-1\" class=\"sk-top-container\"><div class=\"sk-text-repr-fallback\"><pre>GaussianNB()</pre><b>In a Jupyter environment, please rerun this cell to show the HTML representation or trust the notebook. <br />On GitHub, the HTML representation is unable to render, please try loading this page with nbviewer.org.</b></div><div class=\"sk-container\" hidden><div class=\"sk-item\"><div class=\"sk-estimator sk-toggleable\"><input class=\"sk-toggleable__control sk-hidden--visually\" id=\"sk-estimator-id-1\" type=\"checkbox\" checked><label for=\"sk-estimator-id-1\" class=\"sk-toggleable__label sk-toggleable__label-arrow\">GaussianNB</label><div class=\"sk-toggleable__content\"><pre>GaussianNB()</pre></div></div></div></div></div>"
      ],
      "text/plain": [
       "GaussianNB()"
      ]
     },
     "execution_count": 5,
     "metadata": {},
     "output_type": "execute_result"
    }
   ],
   "source": [
    "gaussian_model.fit(X_train, y_train)"
   ]
  },
  {
   "cell_type": "code",
   "execution_count": 6,
   "id": "3220e9c9",
   "metadata": {
    "execution": {
     "iopub.execute_input": "2025-08-28T07:07:45.747277Z",
     "iopub.status.busy": "2025-08-28T07:07:45.746955Z",
     "iopub.status.idle": "2025-08-28T07:07:45.825201Z",
     "shell.execute_reply": "2025-08-28T07:07:45.824223Z"
    },
    "papermill": {
     "duration": 0.085995,
     "end_time": "2025-08-28T07:07:45.826922",
     "exception": false,
     "start_time": "2025-08-28T07:07:45.740927",
     "status": "completed"
    },
    "tags": []
   },
   "outputs": [],
   "source": [
    "gaussian_y_pred = gaussian_model.predict(X_test)"
   ]
  },
  {
   "cell_type": "code",
   "execution_count": 7,
   "id": "53fdc0fb",
   "metadata": {
    "execution": {
     "iopub.execute_input": "2025-08-28T07:07:45.838306Z",
     "iopub.status.busy": "2025-08-28T07:07:45.837958Z",
     "iopub.status.idle": "2025-08-28T07:07:45.844052Z",
     "shell.execute_reply": "2025-08-28T07:07:45.843165Z"
    },
    "papermill": {
     "duration": 0.013444,
     "end_time": "2025-08-28T07:07:45.845532",
     "exception": false,
     "start_time": "2025-08-28T07:07:45.832088",
     "status": "completed"
    },
    "tags": []
   },
   "outputs": [
    {
     "data": {
      "text/plain": [
       "array([0, 0, 1, ..., 1, 1, 1])"
      ]
     },
     "execution_count": 7,
     "metadata": {},
     "output_type": "execute_result"
    }
   ],
   "source": [
    "gaussian_y_pred"
   ]
  },
  {
   "cell_type": "code",
   "execution_count": 8,
   "id": "585520bf",
   "metadata": {
    "execution": {
     "iopub.execute_input": "2025-08-28T07:07:45.858369Z",
     "iopub.status.busy": "2025-08-28T07:07:45.857973Z",
     "iopub.status.idle": "2025-08-28T07:07:46.204468Z",
     "shell.execute_reply": "2025-08-28T07:07:46.203502Z"
    },
    "papermill": {
     "duration": 0.35505,
     "end_time": "2025-08-28T07:07:46.206403",
     "exception": false,
     "start_time": "2025-08-28T07:07:45.851353",
     "status": "completed"
    },
    "tags": []
   },
   "outputs": [
    {
     "name": "stdout",
     "output_type": "stream",
     "text": [
      "Accuracy:  0.880964289286786\n",
      "Recall:  0.7011764705882353\n",
      "Precision:  0.38903394255874674\n",
      "F1 Score:  0.5004198152812762\n"
     ]
    },
    {
     "data": {
      "image/png": "[encoded data removed]",
      "text/plain": [
       "<Figure size 640x480 with 2 Axes>"
      ]
     },
     "metadata": {},
     "output_type": "display_data"
    }
   ],
   "source": [
    "print(\"Accuracy: \", accuracy_score(y_test, gaussian_y_pred))\n",
    "print(\"Recall: \", recall_score(y_test, gaussian_y_pred))\n",
    "print(\"Precision: \", precision_score(y_test, gaussian_y_pred))\n",
    "print(\"F1 Score: \", f1_score(y_test, gaussian_y_pred))\n",
    "ConfusionMatrixDisplay(confusion_matrix(y_test, gaussian_y_pred)).plot(cmap=plt.cm.cividis)\n",
    "\n",
    "plt.title(\"Confusion Matrix for GaussianNB\", fontsize=14, weight='bold')\n",
    "plt.show()"
   ]
  },
  {
   "cell_type": "markdown",
   "id": "774dc299",
   "metadata": {
    "papermill": {
     "duration": 0.005748,
     "end_time": "2025-08-28T07:07:46.218449",
     "exception": false,
     "start_time": "2025-08-28T07:07:46.212701",
     "status": "completed"
    },
    "tags": []
   },
   "source": [
    "#### **Bernoulli Naive Bayes**"
   ]
  },
  {
   "cell_type": "code",
   "execution_count": 9,
   "id": "5f1d9b8f",
   "metadata": {
    "execution": {
     "iopub.execute_input": "2025-08-28T07:07:46.232848Z",
     "iopub.status.busy": "2025-08-28T07:07:46.232472Z",
     "iopub.status.idle": "2025-08-28T07:07:46.237997Z",
     "shell.execute_reply": "2025-08-28T07:07:46.236974Z"
    },
    "papermill": {
     "duration": 0.014364,
     "end_time": "2025-08-28T07:07:46.239516",
     "exception": false,
     "start_time": "2025-08-28T07:07:46.225152",
     "status": "completed"
    },
    "tags": []
   },
   "outputs": [],
   "source": [
    "bernoulli_model = BernoulliNB()"
   ]
  },
  {
   "cell_type": "code",
   "execution_count": 10,
   "id": "5042fd7c",
   "metadata": {
    "execution": {
     "iopub.execute_input": "2025-08-28T07:07:46.254266Z",
     "iopub.status.busy": "2025-08-28T07:07:46.253881Z",
     "iopub.status.idle": "2025-08-28T07:07:46.398634Z",
     "shell.execute_reply": "2025-08-28T07:07:46.397651Z"
    },
    "papermill": {
     "duration": 0.15431,
     "end_time": "2025-08-28T07:07:46.400501",
     "exception": false,
     "start_time": "2025-08-28T07:07:46.246191",
     "status": "completed"
    },
    "tags": []
   },
   "outputs": [
    {
     "data": {
      "text/html": [
       "<style>#sk-container-id-2 {color: black;background-color: white;}#sk-container-id-2 pre{padding: 0;}#sk-container-id-2 div.sk-toggleable {background-color: white;}#sk-container-id-2 label.sk-toggleable__label {cursor: pointer;display: block;width: 100%;margin-bottom: 0;padding: 0.3em;box-sizing: border-box;text-align: center;}#sk-container-id-2 label.sk-toggleable__label-arrow:before {content: \"▸\";float: left;margin-right: 0.25em;color: #696969;}#sk-container-id-2 label.sk-toggleable__label-arrow:hover:before {color: black;}#sk-container-id-2 div.sk-estimator:hover label.sk-toggleable__label-arrow:before {color: black;}#sk-container-id-2 div.sk-toggleable__content {max-height: 0;max-width: 0;overflow: hidden;text-align: left;background-color: #f0f8ff;}#sk-container-id-2 div.sk-toggleable__content pre {margin: 0.2em;color: black;border-radius: 0.25em;background-color: #f0f8ff;}#sk-container-id-2 input.sk-toggleable__control:checked~div.sk-toggleable__content {max-height: 200px;max-width: 100%;overflow: auto;}#sk-container-id-2 input.sk-toggleable__control:checked~label.sk-toggleable__label-arrow:before {content: \"▾\";}#sk-container-id-2 div.sk-estimator input.sk-toggleable__control:checked~label.sk-toggleable__label {background-color: #d4ebff;}#sk-container-id-2 div.sk-label input.sk-toggleable__control:checked~label.sk-toggleable__label {background-color: #d4ebff;}#sk-container-id-2 input.sk-hidden--visually {border: 0;clip: rect(1px 1px 1px 1px);clip: rect(1px, 1px, 1px, 1px);height: 1px;margin: -1px;overflow: hidden;padding: 0;position: absolute;width: 1px;}#sk-container-id-2 div.sk-estimator {font-family: monospace;background-color: #f0f8ff;border: 1px dotted black;border-radius: 0.25em;box-sizing: border-box;margin-bottom: 0.5em;}#sk-container-id-2 div.sk-estimator:hover {background-color: #d4ebff;}#sk-container-id-2 div.sk-parallel-item::after {content: \"\";width: 100%;border-bottom: 1px solid gray;flex-grow: 1;}#sk-container-id-2 div.sk-label:hover label.sk-toggleable__label {background-color: #d4ebff;}#sk-container-id-2 div.sk-serial::before {content: \"\";position: absolute;border-left: 1px solid gray;box-sizing: border-box;top: 0;bottom: 0;left: 50%;z-index: 0;}#sk-container-id-2 div.sk-serial {display: flex;flex-direction: column;align-items: center;background-color: white;padding-right: 0.2em;padding-left: 0.2em;position: relative;}#sk-container-id-2 div.sk-item {position: relative;z-index: 1;}#sk-container-id-2 div.sk-parallel {display: flex;align-items: stretch;justify-content: center;background-color: white;position: relative;}#sk-container-id-2 div.sk-item::before, #sk-container-id-2 div.sk-parallel-item::before {content: \"\";position: absolute;border-left: 1px solid gray;box-sizing: border-box;top: 0;bottom: 0;left: 50%;z-index: -1;}#sk-container-id-2 div.sk-parallel-item {display: flex;flex-direction: column;z-index: 1;position: relative;background-color: white;}#sk-container-id-2 div.sk-parallel-item:first-child::after {align-self: flex-end;width: 50%;}#sk-container-id-2 div.sk-parallel-item:last-child::after {align-self: flex-start;width: 50%;}#sk-container-id-2 div.sk-parallel-item:only-child::after {width: 0;}#sk-container-id-2 div.sk-dashed-wrapped {border: 1px dashed gray;margin: 0 0.4em 0.5em 0.4em;box-sizing: border-box;padding-bottom: 0.4em;background-color: white;}#sk-container-id-2 div.sk-label label {font-family: monospace;font-weight: bold;display: inline-block;line-height: 1.2em;}#sk-container-id-2 div.sk-label-container {text-align: center;}#sk-container-id-2 div.sk-container {/* jupyter's `normalize.less` sets `[hidden] { display: none; }` but bootstrap.min.css set `[hidden] { display: none !important; }` so we also need the `!important` here to be able to override the default hidden behavior on the sphinx rendered scikit-learn.org. See: https://github.com/scikit-learn/scikit-learn/issues/21755 */display: inline-block !important;position: relative;}#sk-container-id-2 div.sk-text-repr-fallback {display: none;}</style><div id=\"sk-container-id-2\" class=\"sk-top-container\"><div class=\"sk-text-repr-fallback\"><pre>BernoulliNB()</pre><b>In a Jupyter environment, please rerun this cell to show the HTML representation or trust the notebook. <br />On GitHub, the HTML representation is unable to render, please try loading this page with nbviewer.org.</b></div><div class=\"sk-container\" hidden><div class=\"sk-item\"><div class=\"sk-estimator sk-toggleable\"><input class=\"sk-toggleable__control sk-hidden--visually\" id=\"sk-estimator-id-2\" type=\"checkbox\" checked><label for=\"sk-estimator-id-2\" class=\"sk-toggleable__label sk-toggleable__label-arrow\">BernoulliNB</label><div class=\"sk-toggleable__content\"><pre>BernoulliNB()</pre></div></div></div></div></div>"
      ],
      "text/plain": [
       "BernoulliNB()"
      ]
     },
     "execution_count": 10,
     "metadata": {},
     "output_type": "execute_result"
    }
   ],
   "source": [
    "bernoulli_model.fit(X_train, y_train)"
   ]
  },
  {
   "cell_type": "code",
   "execution_count": 11,
   "id": "69f96b37",
   "metadata": {
    "execution": {
     "iopub.execute_input": "2025-08-28T07:07:46.415522Z",
     "iopub.status.busy": "2025-08-28T07:07:46.415194Z",
     "iopub.status.idle": "2025-08-28T07:07:46.450227Z",
     "shell.execute_reply": "2025-08-28T07:07:46.449131Z"
    },
    "papermill": {
     "duration": 0.044,
     "end_time": "2025-08-28T07:07:46.452262",
     "exception": false,
     "start_time": "2025-08-28T07:07:46.408262",
     "status": "completed"
    },
    "tags": []
   },
   "outputs": [],
   "source": [
    "bernoulli_y_pred = bernoulli_model.predict(X_test)"
   ]
  },
  {
   "cell_type": "code",
   "execution_count": 12,
   "id": "1982fa90",
   "metadata": {
    "execution": {
     "iopub.execute_input": "2025-08-28T07:07:46.468291Z",
     "iopub.status.busy": "2025-08-28T07:07:46.467961Z",
     "iopub.status.idle": "2025-08-28T07:07:46.474565Z",
     "shell.execute_reply": "2025-08-28T07:07:46.473425Z"
    },
    "papermill": {
     "duration": 0.016086,
     "end_time": "2025-08-28T07:07:46.476193",
     "exception": false,
     "start_time": "2025-08-28T07:07:46.460107",
     "status": "completed"
    },
    "tags": []
   },
   "outputs": [
    {
     "data": {
      "text/plain": [
       "array([0, 0, 1, ..., 1, 0, 0])"
      ]
     },
     "execution_count": 12,
     "metadata": {},
     "output_type": "execute_result"
    }
   ],
   "source": [
    "bernoulli_y_pred"
   ]
  },
  {
   "cell_type": "code",
   "execution_count": 13,
   "id": "ed1faf0b",
   "metadata": {
    "execution": {
     "iopub.execute_input": "2025-08-28T07:07:46.490710Z",
     "iopub.status.busy": "2025-08-28T07:07:46.490379Z",
     "iopub.status.idle": "2025-08-28T07:07:46.706698Z",
     "shell.execute_reply": "2025-08-28T07:07:46.705652Z"
    },
    "papermill": {
     "duration": 0.225332,
     "end_time": "2025-08-28T07:07:46.708556",
     "exception": false,
     "start_time": "2025-08-28T07:07:46.483224",
     "status": "completed"
    },
    "tags": []
   },
   "outputs": [
    {
     "name": "stdout",
     "output_type": "stream",
     "text": [
      "Accuracy:  0.9044713414024207\n",
      "Recall:  0.46588235294117647\n",
      "Precision:  0.4414715719063545\n",
      "F1 Score:  0.45334859759587864\n"
     ]
    },
    {
     "data": {
      "image/png": "[encoded data removed]",
      "text/plain": [
       "<Figure size 640x480 with 2 Axes>"
      ]
     },
     "metadata": {},
     "output_type": "display_data"
    }
   ],
   "source": [
    "print(\"Accuracy: \", accuracy_score(y_test, bernoulli_y_pred))\n",
    "print(\"Recall: \", recall_score(y_test, bernoulli_y_pred))\n",
    "print(\"Precision: \", precision_score(y_test, bernoulli_y_pred))\n",
    "print(\"F1 Score: \", f1_score(y_test, bernoulli_y_pred))\n",
    "ConfusionMatrixDisplay(confusion_matrix(y_test, bernoulli_y_pred)).plot(cmap=plt.cm.cividis)\n",
    "\n",
    "plt.title(\"Confusion Matrix for BernoulliNB\", fontsize=14, weight='bold')\n",
    "plt.show()"
   ]
  },
  {
   "cell_type": "markdown",
   "id": "8b401b94",
   "metadata": {
    "papermill": {
     "duration": 0.007128,
     "end_time": "2025-08-28T07:07:46.723373",
     "exception": false,
     "start_time": "2025-08-28T07:07:46.716245",
     "status": "completed"
    },
    "tags": []
   },
   "source": [
    "### **Fine-tune hyperparameters**"
   ]
  },
  {
   "cell_type": "markdown",
   "id": "64aaac38",
   "metadata": {
    "papermill": {
     "duration": 0.006436,
     "end_time": "2025-08-28T07:07:46.737216",
     "exception": false,
     "start_time": "2025-08-28T07:07:46.730780",
     "status": "completed"
    },
    "tags": []
   },
   "source": [
    "#### **Fine-tune Gaussian Naive Bayes**"
   ]
  },
  {
   "cell_type": "code",
   "execution_count": 14,
   "id": "dc6da1c2",
   "metadata": {
    "execution": {
     "iopub.execute_input": "2025-08-28T07:07:46.751844Z",
     "iopub.status.busy": "2025-08-28T07:07:46.751494Z",
     "iopub.status.idle": "2025-08-28T07:07:46.756019Z",
     "shell.execute_reply": "2025-08-28T07:07:46.755060Z"
    },
    "papermill": {
     "duration": 0.013889,
     "end_time": "2025-08-28T07:07:46.757722",
     "exception": false,
     "start_time": "2025-08-28T07:07:46.743833",
     "status": "completed"
    },
    "tags": []
   },
   "outputs": [],
   "source": [
    "finetuned_gaussian_model = GaussianNB()"
   ]
  },
  {
   "cell_type": "code",
   "execution_count": null,
   "id": "e19b25c5",
   "metadata": {
    "execution": {
     "iopub.execute_input": "2025-08-28T07:07:46.773448Z",
     "iopub.status.busy": "2025-08-28T07:07:46.773109Z",
     "iopub.status.idle": "2025-08-28T07:14:41.444381Z",
     "shell.execute_reply": "2025-08-28T07:14:41.443337Z"
    },
    "papermill": {
     "duration": 414.681581,
     "end_time": "2025-08-28T07:14:41.446200",
     "exception": false,
     "start_time": "2025-08-28T07:07:46.764619",
     "status": "completed"
    },
    "tags": []
   },
   "outputs": [],
   "source": [
    "params_grid = {\n",
    "    'var_smoothing': np.logspace(-12, 1, num=1000)\n",
    "}\n",
    "\n",
    "grid = GridSearchCV(finetuned_gaussian_model, params_grid, cv=5, scoring=\"accuracy\", n_jobs=-1, verbose=2)\n",
    "grid.fit(X_train, y_train)"
   ]
  },
  {
   "cell_type": "code",
   "execution_count": 16,
   "id": "abff219f",
   "metadata": {
    "execution": {
     "iopub.execute_input": "2025-08-28T07:14:41.482006Z",
     "iopub.status.busy": "2025-08-28T07:14:41.481630Z",
     "iopub.status.idle": "2025-08-28T07:14:41.488905Z",
     "shell.execute_reply": "2025-08-28T07:14:41.487447Z"
    },
    "papermill": {
     "duration": 0.028021,
     "end_time": "2025-08-28T07:14:41.491073",
     "exception": false,
     "start_time": "2025-08-28T07:14:41.463052",
     "status": "completed"
    },
    "tags": []
   },
   "outputs": [
    {
     "name": "stdout",
     "output_type": "stream",
     "text": [
      "Best parameters: {'var_smoothing': 0.20338003058469842}\n",
      "Best CV score: 0.9549603756926197\n"
     ]
    }
   ],
   "source": [
    "print(\"Best parameters:\", grid.best_params_)\n",
    "print(\"Best CV score:\", grid.best_score_)"
   ]
  },
  {
   "cell_type": "code",
   "execution_count": 17,
   "id": "42353a84",
   "metadata": {
    "execution": {
     "iopub.execute_input": "2025-08-28T07:14:41.597827Z",
     "iopub.status.busy": "2025-08-28T07:14:41.597487Z",
     "iopub.status.idle": "2025-08-28T07:14:41.601929Z",
     "shell.execute_reply": "2025-08-28T07:14:41.600987Z"
    },
    "papermill": {
     "duration": 0.096416,
     "end_time": "2025-08-28T07:14:41.603583",
     "exception": false,
     "start_time": "2025-08-28T07:14:41.507167",
     "status": "completed"
    },
    "tags": []
   },
   "outputs": [],
   "source": [
    "best_gaussian_model = GaussianNB(\n",
    "    **grid.best_params_\n",
    ")"
   ]
  },
  {
   "cell_type": "code",
   "execution_count": 18,
   "id": "c3a5888b",
   "metadata": {
    "execution": {
     "iopub.execute_input": "2025-08-28T07:14:41.636968Z",
     "iopub.status.busy": "2025-08-28T07:14:41.636609Z",
     "iopub.status.idle": "2025-08-28T07:14:41.776466Z",
     "shell.execute_reply": "2025-08-28T07:14:41.775561Z"
    },
    "papermill": {
     "duration": 0.158473,
     "end_time": "2025-08-28T07:14:41.778163",
     "exception": false,
     "start_time": "2025-08-28T07:14:41.619690",
     "status": "completed"
    },
    "tags": []
   },
   "outputs": [
    {
     "data": {
      "text/html": [
       "<style>#sk-container-id-4 {color: black;background-color: white;}#sk-container-id-4 pre{padding: 0;}#sk-container-id-4 div.sk-toggleable {background-color: white;}#sk-container-id-4 label.sk-toggleable__label {cursor: pointer;display: block;width: 100%;margin-bottom: 0;padding: 0.3em;box-sizing: border-box;text-align: center;}#sk-container-id-4 label.sk-toggleable__label-arrow:before {content: \"▸\";float: left;margin-right: 0.25em;color: #696969;}#sk-container-id-4 label.sk-toggleable__label-arrow:hover:before {color: black;}#sk-container-id-4 div.sk-estimator:hover label.sk-toggleable__label-arrow:before {color: black;}#sk-container-id-4 div.sk-toggleable__content {max-height: 0;max-width: 0;overflow: hidden;text-align: left;background-color: #f0f8ff;}#sk-container-id-4 div.sk-toggleable__content pre {margin: 0.2em;color: black;border-radius: 0.25em;background-color: #f0f8ff;}#sk-container-id-4 input.sk-toggleable__control:checked~div.sk-toggleable__content {max-height: 200px;max-width: 100%;overflow: auto;}#sk-container-id-4 input.sk-toggleable__control:checked~label.sk-toggleable__label-arrow:before {content: \"▾\";}#sk-container-id-4 div.sk-estimator input.sk-toggleable__control:checked~label.sk-toggleable__label {background-color: #d4ebff;}#sk-container-id-4 div.sk-label input.sk-toggleable__control:checked~label.sk-toggleable__label {background-color: #d4ebff;}#sk-container-id-4 input.sk-hidden--visually {border: 0;clip: rect(1px 1px 1px 1px);clip: rect(1px, 1px, 1px, 1px);height: 1px;margin: -1px;overflow: hidden;padding: 0;position: absolute;width: 1px;}#sk-container-id-4 div.sk-estimator {font-family: monospace;background-color: #f0f8ff;border: 1px dotted black;border-radius: 0.25em;box-sizing: border-box;margin-bottom: 0.5em;}#sk-container-id-4 div.sk-estimator:hover {background-color: #d4ebff;}#sk-container-id-4 div.sk-parallel-item::after {content: \"\";width: 100%;border-bottom: 1px solid gray;flex-grow: 1;}#sk-container-id-4 div.sk-label:hover label.sk-toggleable__label {background-color: #d4ebff;}#sk-container-id-4 div.sk-serial::before {content: \"\";position: absolute;border-left: 1px solid gray;box-sizing: border-box;top: 0;bottom: 0;left: 50%;z-index: 0;}#sk-container-id-4 div.sk-serial {display: flex;flex-direction: column;align-items: center;background-color: white;padding-right: 0.2em;padding-left: 0.2em;position: relative;}#sk-container-id-4 div.sk-item {position: relative;z-index: 1;}#sk-container-id-4 div.sk-parallel {display: flex;align-items: stretch;justify-content: center;background-color: white;position: relative;}#sk-container-id-4 div.sk-item::before, #sk-container-id-4 div.sk-parallel-item::before {content: \"\";position: absolute;border-left: 1px solid gray;box-sizing: border-box;top: 0;bottom: 0;left: 50%;z-index: -1;}#sk-container-id-4 div.sk-parallel-item {display: flex;flex-direction: column;z-index: 1;position: relative;background-color: white;}#sk-container-id-4 div.sk-parallel-item:first-child::after {align-self: flex-end;width: 50%;}#sk-container-id-4 div.sk-parallel-item:last-child::after {align-self: flex-start;width: 50%;}#sk-container-id-4 div.sk-parallel-item:only-child::after {width: 0;}#sk-container-id-4 div.sk-dashed-wrapped {border: 1px dashed gray;margin: 0 0.4em 0.5em 0.4em;box-sizing: border-box;padding-bottom: 0.4em;background-color: white;}#sk-container-id-4 div.sk-label label {font-family: monospace;font-weight: bold;display: inline-block;line-height: 1.2em;}#sk-container-id-4 div.sk-label-container {text-align: center;}#sk-container-id-4 div.sk-container {/* jupyter's `normalize.less` sets `[hidden] { display: none; }` but bootstrap.min.css set `[hidden] { display: none !important; }` so we also need the `!important` here to be able to override the default hidden behavior on the sphinx rendered scikit-learn.org. See: https://github.com/scikit-learn/scikit-learn/issues/21755 */display: inline-block !important;position: relative;}#sk-container-id-4 div.sk-text-repr-fallback {display: none;}</style><div id=\"sk-container-id-4\" class=\"sk-top-container\"><div class=\"sk-text-repr-fallback\"><pre>GaussianNB(var_smoothing=0.20338003058469842)</pre><b>In a Jupyter environment, please rerun this cell to show the HTML representation or trust the notebook. <br />On GitHub, the HTML representation is unable to render, please try loading this page with nbviewer.org.</b></div><div class=\"sk-container\" hidden><div class=\"sk-item\"><div class=\"sk-estimator sk-toggleable\"><input class=\"sk-toggleable__control sk-hidden--visually\" id=\"sk-estimator-id-6\" type=\"checkbox\" checked><label for=\"sk-estimator-id-6\" class=\"sk-toggleable__label sk-toggleable__label-arrow\">GaussianNB</label><div class=\"sk-toggleable__content\"><pre>GaussianNB(var_smoothing=0.20338003058469842)</pre></div></div></div></div></div>"
      ],
      "text/plain": [
       "GaussianNB(var_smoothing=0.20338003058469842)"
      ]
     },
     "execution_count": 18,
     "metadata": {},
     "output_type": "execute_result"
    }
   ],
   "source": [
    "best_gaussian_model.fit(X_train, y_train)"
   ]
  },
  {
   "cell_type": "code",
   "execution_count": 19,
   "id": "963c2a58",
   "metadata": {
    "execution": {
     "iopub.execute_input": "2025-08-28T07:14:41.813090Z",
     "iopub.status.busy": "2025-08-28T07:14:41.812733Z",
     "iopub.status.idle": "2025-08-28T07:14:41.849342Z",
     "shell.execute_reply": "2025-08-28T07:14:41.848531Z"
    },
    "papermill": {
     "duration": 0.05627,
     "end_time": "2025-08-28T07:14:41.851114",
     "exception": false,
     "start_time": "2025-08-28T07:14:41.794844",
     "status": "completed"
    },
    "tags": []
   },
   "outputs": [],
   "source": [
    "best_gaussian_y_pred = best_gaussian_model.predict(X_test)"
   ]
  },
  {
   "cell_type": "code",
   "execution_count": 20,
   "id": "89a376a9",
   "metadata": {
    "execution": {
     "iopub.execute_input": "2025-08-28T07:14:41.888776Z",
     "iopub.status.busy": "2025-08-28T07:14:41.888460Z",
     "iopub.status.idle": "2025-08-28T07:14:42.101067Z",
     "shell.execute_reply": "2025-08-28T07:14:42.100118Z"
    },
    "papermill": {
     "duration": 0.232385,
     "end_time": "2025-08-28T07:14:42.102608",
     "exception": false,
     "start_time": "2025-08-28T07:14:41.870223",
     "status": "completed"
    },
    "tags": []
   },
   "outputs": [
    {
     "name": "stdout",
     "output_type": "stream",
     "text": [
      "Accuracy:  0.9563369010703211\n",
      "Recall:  0.5794117647058824\n",
      "Precision:  0.8617672790901137\n",
      "F1 Score:  0.6929300035174113\n"
     ]
    },
    {
     "data": {
      "image/png": "[encoded data removed]",
      "text/plain": [
       "<Figure size 640x480 with 2 Axes>"
      ]
     },
     "metadata": {},
     "output_type": "display_data"
    }
   ],
   "source": [
    "print(\"Accuracy: \", accuracy_score(y_test, best_gaussian_y_pred))\n",
    "print(\"Recall: \", recall_score(y_test, best_gaussian_y_pred))\n",
    "print(\"Precision: \", precision_score(y_test, best_gaussian_y_pred))\n",
    "print(\"F1 Score: \", f1_score(y_test, best_gaussian_y_pred))\n",
    "ConfusionMatrixDisplay(confusion_matrix(y_test, best_gaussian_y_pred)).plot(cmap=plt.cm.cividis)\n",
    "\n",
    "plt.title(\"Confusion Matrix for GaussianNB\", fontsize=14, weight='bold')\n",
    "plt.show()"
   ]
  },
  {
   "cell_type": "markdown",
   "id": "2e2d4e82",
   "metadata": {
    "papermill": {
     "duration": 0.022211,
     "end_time": "2025-08-28T07:14:42.142920",
     "exception": false,
     "start_time": "2025-08-28T07:14:42.120709",
     "status": "completed"
    },
    "tags": []
   },
   "source": [
    "#### **Fine-tune Bernoulli Naive Bayes**"
   ]
  },
  {
   "cell_type": "code",
   "execution_count": 21,
   "id": "56ceca6e",
   "metadata": {
    "execution": {
     "iopub.execute_input": "2025-08-28T07:14:42.178566Z",
     "iopub.status.busy": "2025-08-28T07:14:42.178257Z",
     "iopub.status.idle": "2025-08-28T07:14:42.182513Z",
     "shell.execute_reply": "2025-08-28T07:14:42.181624Z"
    },
    "papermill": {
     "duration": 0.023954,
     "end_time": "2025-08-28T07:14:42.184023",
     "exception": false,
     "start_time": "2025-08-28T07:14:42.160069",
     "status": "completed"
    },
    "tags": []
   },
   "outputs": [],
   "source": [
    "finetuned_bernoulli_model = BernoulliNB()"
   ]
  },
  {
   "cell_type": "code",
   "execution_count": null,
   "id": "f16d1e77",
   "metadata": {
    "execution": {
     "iopub.execute_input": "2025-08-28T07:14:42.220354Z",
     "iopub.status.busy": "2025-08-28T07:14:42.220001Z",
     "iopub.status.idle": "2025-08-28T07:15:56.458615Z",
     "shell.execute_reply": "2025-08-28T07:15:56.457726Z"
    },
    "papermill": {
     "duration": 74.259078,
     "end_time": "2025-08-28T07:15:56.460236",
     "exception": false,
     "start_time": "2025-08-28T07:14:42.201158",
     "status": "completed"
    },
    "tags": []
   },
   "outputs": [],
   "source": [
    "params_grid = {\n",
    "    'alpha': [0.0001, 0.0002, 0.0005, 0.001, 0.002, 0.005, 0.01, 0.02, 0.05, 0.1, 0.2, 0.5, 1.0, 2.0, 5.0, 10, 100, 1000],\n",
    "    'force_alpha': [True, False],\n",
    "    'binarize': [None, 0.4, 0.5, 0.6],\n",
    "    'fit_prior': [True, False],\n",
    "}\n",
    "\n",
    "grid = GridSearchCV(finetuned_bernoulli_model, params_grid, cv=5, scoring=\"accuracy\", n_jobs=-1, verbose=2)\n",
    "grid.fit(X_train, y_train)"
   ]
  },
  {
   "cell_type": "code",
   "execution_count": 23,
   "id": "5bd65cd0",
   "metadata": {
    "execution": {
     "iopub.execute_input": "2025-08-28T07:15:56.513355Z",
     "iopub.status.busy": "2025-08-28T07:15:56.513032Z",
     "iopub.status.idle": "2025-08-28T07:15:56.518171Z",
     "shell.execute_reply": "2025-08-28T07:15:56.517348Z"
    },
    "papermill": {
     "duration": 0.032731,
     "end_time": "2025-08-28T07:15:56.519593",
     "exception": false,
     "start_time": "2025-08-28T07:15:56.486862",
     "status": "completed"
    },
    "tags": []
   },
   "outputs": [
    {
     "name": "stdout",
     "output_type": "stream",
     "text": [
      "Best parameters: {'alpha': 100, 'binarize': 0.6, 'fit_prior': True, 'force_alpha': True}\n",
      "Best CV score: 0.9251756568763302\n"
     ]
    }
   ],
   "source": [
    "print(\"Best parameters:\", grid.best_params_)\n",
    "print(\"Best CV score:\", grid.best_score_)"
   ]
  },
  {
   "cell_type": "code",
   "execution_count": 24,
   "id": "c4931787",
   "metadata": {
    "execution": {
     "iopub.execute_input": "2025-08-28T07:15:56.570311Z",
     "iopub.status.busy": "2025-08-28T07:15:56.569970Z",
     "iopub.status.idle": "2025-08-28T07:15:56.574031Z",
     "shell.execute_reply": "2025-08-28T07:15:56.573203Z"
    },
    "papermill": {
     "duration": 0.03137,
     "end_time": "2025-08-28T07:15:56.575437",
     "exception": false,
     "start_time": "2025-08-28T07:15:56.544067",
     "status": "completed"
    },
    "tags": []
   },
   "outputs": [],
   "source": [
    "best_bernoulli_model = BernoulliNB(\n",
    "    **grid.best_params_\n",
    ")"
   ]
  },
  {
   "cell_type": "code",
   "execution_count": 25,
   "id": "0b23ca1d",
   "metadata": {
    "execution": {
     "iopub.execute_input": "2025-08-28T07:15:56.624649Z",
     "iopub.status.busy": "2025-08-28T07:15:56.624353Z",
     "iopub.status.idle": "2025-08-28T07:15:56.755681Z",
     "shell.execute_reply": "2025-08-28T07:15:56.754734Z"
    },
    "papermill": {
     "duration": 0.157708,
     "end_time": "2025-08-28T07:15:56.757323",
     "exception": false,
     "start_time": "2025-08-28T07:15:56.599615",
     "status": "completed"
    },
    "tags": []
   },
   "outputs": [
    {
     "data": {
      "text/html": [
       "<style>#sk-container-id-6 {color: black;background-color: white;}#sk-container-id-6 pre{padding: 0;}#sk-container-id-6 div.sk-toggleable {background-color: white;}#sk-container-id-6 label.sk-toggleable__label {cursor: pointer;display: block;width: 100%;margin-bottom: 0;padding: 0.3em;box-sizing: border-box;text-align: center;}#sk-container-id-6 label.sk-toggleable__label-arrow:before {content: \"▸\";float: left;margin-right: 0.25em;color: #696969;}#sk-container-id-6 label.sk-toggleable__label-arrow:hover:before {color: black;}#sk-container-id-6 div.sk-estimator:hover label.sk-toggleable__label-arrow:before {color: black;}#sk-container-id-6 div.sk-toggleable__content {max-height: 0;max-width: 0;overflow: hidden;text-align: left;background-color: #f0f8ff;}#sk-container-id-6 div.sk-toggleable__content pre {margin: 0.2em;color: black;border-radius: 0.25em;background-color: #f0f8ff;}#sk-container-id-6 input.sk-toggleable__control:checked~div.sk-toggleable__content {max-height: 200px;max-width: 100%;overflow: auto;}#sk-container-id-6 input.sk-toggleable__control:checked~label.sk-toggleable__label-arrow:before {content: \"▾\";}#sk-container-id-6 div.sk-estimator input.sk-toggleable__control:checked~label.sk-toggleable__label {background-color: #d4ebff;}#sk-container-id-6 div.sk-label input.sk-toggleable__control:checked~label.sk-toggleable__label {background-color: #d4ebff;}#sk-container-id-6 input.sk-hidden--visually {border: 0;clip: rect(1px 1px 1px 1px);clip: rect(1px, 1px, 1px, 1px);height: 1px;margin: -1px;overflow: hidden;padding: 0;position: absolute;width: 1px;}#sk-container-id-6 div.sk-estimator {font-family: monospace;background-color: #f0f8ff;border: 1px dotted black;border-radius: 0.25em;box-sizing: border-box;margin-bottom: 0.5em;}#sk-container-id-6 div.sk-estimator:hover {background-color: #d4ebff;}#sk-container-id-6 div.sk-parallel-item::after {content: \"\";width: 100%;border-bottom: 1px solid gray;flex-grow: 1;}#sk-container-id-6 div.sk-label:hover label.sk-toggleable__label {background-color: #d4ebff;}#sk-container-id-6 div.sk-serial::before {content: \"\";position: absolute;border-left: 1px solid gray;box-sizing: border-box;top: 0;bottom: 0;left: 50%;z-index: 0;}#sk-container-id-6 div.sk-serial {display: flex;flex-direction: column;align-items: center;background-color: white;padding-right: 0.2em;padding-left: 0.2em;position: relative;}#sk-container-id-6 div.sk-item {position: relative;z-index: 1;}#sk-container-id-6 div.sk-parallel {display: flex;align-items: stretch;justify-content: center;background-color: white;position: relative;}#sk-container-id-6 div.sk-item::before, #sk-container-id-6 div.sk-parallel-item::before {content: \"\";position: absolute;border-left: 1px solid gray;box-sizing: border-box;top: 0;bottom: 0;left: 50%;z-index: -1;}#sk-container-id-6 div.sk-parallel-item {display: flex;flex-direction: column;z-index: 1;position: relative;background-color: white;}#sk-container-id-6 div.sk-parallel-item:first-child::after {align-self: flex-end;width: 50%;}#sk-container-id-6 div.sk-parallel-item:last-child::after {align-self: flex-start;width: 50%;}#sk-container-id-6 div.sk-parallel-item:only-child::after {width: 0;}#sk-container-id-6 div.sk-dashed-wrapped {border: 1px dashed gray;margin: 0 0.4em 0.5em 0.4em;box-sizing: border-box;padding-bottom: 0.4em;background-color: white;}#sk-container-id-6 div.sk-label label {font-family: monospace;font-weight: bold;display: inline-block;line-height: 1.2em;}#sk-container-id-6 div.sk-label-container {text-align: center;}#sk-container-id-6 div.sk-container {/* jupyter's `normalize.less` sets `[hidden] { display: none; }` but bootstrap.min.css set `[hidden] { display: none !important; }` so we also need the `!important` here to be able to override the default hidden behavior on the sphinx rendered scikit-learn.org. See: https://github.com/scikit-learn/scikit-learn/issues/21755 */display: inline-block !important;position: relative;}#sk-container-id-6 div.sk-text-repr-fallback {display: none;}</style><div id=\"sk-container-id-6\" class=\"sk-top-container\"><div class=\"sk-text-repr-fallback\"><pre>BernoulliNB(alpha=100, binarize=0.6, force_alpha=True)</pre><b>In a Jupyter environment, please rerun this cell to show the HTML representation or trust the notebook. <br />On GitHub, the HTML representation is unable to render, please try loading this page with nbviewer.org.</b></div><div class=\"sk-container\" hidden><div class=\"sk-item\"><div class=\"sk-estimator sk-toggleable\"><input class=\"sk-toggleable__control sk-hidden--visually\" id=\"sk-estimator-id-10\" type=\"checkbox\" checked><label for=\"sk-estimator-id-10\" class=\"sk-toggleable__label sk-toggleable__label-arrow\">BernoulliNB</label><div class=\"sk-toggleable__content\"><pre>BernoulliNB(alpha=100, binarize=0.6, force_alpha=True)</pre></div></div></div></div></div>"
      ],
      "text/plain": [
       "BernoulliNB(alpha=100, binarize=0.6, force_alpha=True)"
      ]
     },
     "execution_count": 25,
     "metadata": {},
     "output_type": "execute_result"
    }
   ],
   "source": [
    "best_bernoulli_model.fit(X_train, y_train)"
   ]
  },
  {
   "cell_type": "code",
   "execution_count": 26,
   "id": "19ef6150",
   "metadata": {
    "execution": {
     "iopub.execute_input": "2025-08-28T07:15:56.810250Z",
     "iopub.status.busy": "2025-08-28T07:15:56.809856Z",
     "iopub.status.idle": "2025-08-28T07:15:56.840611Z",
     "shell.execute_reply": "2025-08-28T07:15:56.839545Z"
    },
    "papermill": {
     "duration": 0.058835,
     "end_time": "2025-08-28T07:15:56.843262",
     "exception": false,
     "start_time": "2025-08-28T07:15:56.784427",
     "status": "completed"
    },
    "tags": []
   },
   "outputs": [],
   "source": [
    "best_bernoulli_y_pred = best_bernoulli_model.predict(X_test)"
   ]
  },
  {
   "cell_type": "code",
   "execution_count": 27,
   "id": "3a14f05a",
   "metadata": {
    "execution": {
     "iopub.execute_input": "2025-08-28T07:15:56.896597Z",
     "iopub.status.busy": "2025-08-28T07:15:56.896288Z",
     "iopub.status.idle": "2025-08-28T07:15:57.098315Z",
     "shell.execute_reply": "2025-08-28T07:15:57.097269Z"
    },
    "papermill": {
     "duration": 0.229066,
     "end_time": "2025-08-28T07:15:57.099732",
     "exception": false,
     "start_time": "2025-08-28T07:15:56.870666",
     "status": "completed"
    },
    "tags": []
   },
   "outputs": [
    {
     "name": "stdout",
     "output_type": "stream",
     "text": [
      "Accuracy:  0.9248274482344704\n",
      "Recall:  0.41294117647058826\n",
      "Precision:  0.5816072908036454\n",
      "F1 Score:  0.48297213622291024\n"
     ]
    },
    {
     "data": {
      "image/png": "[encoded data removed]",
      "text/plain": [
       "<Figure size 640x480 with 2 Axes>"
      ]
     },
     "metadata": {},
     "output_type": "display_data"
    }
   ],
   "source": [
    "print(\"Accuracy: \", accuracy_score(y_test, best_bernoulli_y_pred))\n",
    "print(\"Recall: \", recall_score(y_test, best_bernoulli_y_pred))\n",
    "print(\"Precision: \", precision_score(y_test, best_bernoulli_y_pred))\n",
    "print(\"F1 Score: \", f1_score(y_test, best_bernoulli_y_pred))\n",
    "ConfusionMatrixDisplay(confusion_matrix(y_test, best_bernoulli_y_pred)).plot(cmap=plt.cm.cividis)\n",
    "\n",
    "plt.title(\"Confusion Matrix for BernoulliNB\", fontsize=14, weight='bold')\n",
    "plt.show()"
   ]
  }
 ],
 "metadata": {
  "kaggle": {
   "accelerator": "none",
   "dataSources": [
    {
     "datasetId": 8144579,
     "sourceId": 12874877,
     "sourceType": "datasetVersion"
    }
   ],
   "dockerImageVersionId": 31089,
   "isGpuEnabled": false,
   "isInternetEnabled": true,
   "language": "python",
   "sourceType": "notebook"
  },
  "kernelspec": {
   "display_name": "env",
   "language": "python",
   "name": "python3"
  },
  "language_info": {
   "codemirror_mode": {
    "name": "ipython",
    "version": 3
   },
   "file_extension": ".py",
   "mimetype": "text/x-python",
   "name": "python",
   "nbconvert_exporter": "python",
   "pygments_lexer": "ipython3",
   "version": "3.11.9"
  },
  "papermill": {
   "default_parameters": {},
   "duration": 504.725827,
   "end_time": "2025-08-28T07:15:59.747460",
   "environment_variables": {},
   "exception": null,
   "input_path": "__notebook__.ipynb",
   "output_path": "__notebook__.ipynb",
   "parameters": {},
   "start_time": "2025-08-28T07:07:35.021633",
   "version": "2.6.0"
  }
 },
 "nbformat": 4,
 "nbformat_minor": 5
}
