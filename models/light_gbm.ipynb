{
 "cells": [
  {
   "cell_type": "markdown",
   "id": "ffb7333a",
   "metadata": {
    "papermill": {
     "duration": 0.005052,
     "end_time": "2025-08-31T17:57:49.427740",
     "exception": false,
     "start_time": "2025-08-31T17:57:49.422688",
     "status": "completed"
    },
    "tags": []
   },
   "source": [
    "## **LightGBM**\n",
    "LightGBM (Light Gradient Boosting Machine) is a high-performance, distributed gradient boosting framework developed by Microsoft. It is designed to be fast, memory-efficient, and scalable, making it well-suited for large datasets and high-dimensional features. Like XGBoost, it is based on gradient boosting decision trees but introduces optimizations to improve speed and reduce memory usage.\n",
    "\n",
    "#### **How It Works**\n",
    "1. *Gradient Boosting Framework* - Builds decision trees sequentially to minimize a loss function.\n",
    "2. *Leaf-Wise Tree Growth* - Unlike traditional level-wise tree growth, LightGBM grows trees **leaf-wise with depth constraints**, leading to better accuracy\n",
    "3. *Histogram-Based Splitting* - Continuous features are bucketed into discrete bins, reducing memory usage and speeding up training\n",
    "4. *Parallel and GPU Learning* - Supports multi-core CPUs and GPU acceleration for faster computation\n",
    "\n",
    "#### **Advantages**\n",
    "- Extremely fast training due to histogram-based algorithm\n",
    "- Memory-efficient with large datasets\n",
    "- Supports categorical features directly (no need for one-hot encoding)\n",
    "- High accuracy and strong generalization\n",
    "\n",
    "#### **Limitations**\n",
    "- More sensitive to hyperparameter tuning (especially with small datasets)\n",
    "- Leaf-wise growth may lead to overfitting if not controlled with regularization\n",
    "- Less interpretable compared to simpler models like Logistic Regression or single Decision Tree"
   ]
  },
  {
   "cell_type": "markdown",
   "id": "1d39aa39",
   "metadata": {
    "papermill": {
     "duration": 0.003694,
     "end_time": "2025-08-31T17:57:49.435882",
     "exception": false,
     "start_time": "2025-08-31T17:57:49.432188",
     "status": "completed"
    },
    "tags": []
   },
   "source": [
    "### **Import necessary libraries**"
   ]
  },
  {
   "cell_type": "code",
   "execution_count": 1,
   "id": "5626bac7",
   "metadata": {
    "execution": {
     "iopub.execute_input": "2025-08-31T17:57:49.445634Z",
     "iopub.status.busy": "2025-08-31T17:57:49.445337Z",
     "iopub.status.idle": "2025-08-31T17:57:57.774240Z",
     "shell.execute_reply": "2025-08-31T17:57:57.773325Z"
    },
    "papermill": {
     "duration": 8.33634,
     "end_time": "2025-08-31T17:57:57.776152",
     "exception": false,
     "start_time": "2025-08-31T17:57:49.439812",
     "status": "completed"
    },
    "tags": []
   },
   "outputs": [],
   "source": [
    "import os \n",
    "import sys\n",
    "sys.path.append(os.path.abspath(os.path.join('..')))\n",
    "\n",
    "import pandas as pd\n",
    "import numpy as np\n",
    "\n",
    "from lightgbm import LGBMClassifier\n",
    "from sklearn.model_selection import GridSearchCV\n",
    "import optuna\n",
    "optuna.logging.set_verbosity(optuna.logging.WARNING)\n",
    "from sklearn.metrics import accuracy_score, f1_score, recall_score, precision_score, confusion_matrix, ConfusionMatrixDisplay\n",
    "\n",
    "import matplotlib.pyplot as plt\n",
    "\n",
    "import warnings\n",
    "warnings.filterwarnings(\"ignore\")"
   ]
  },
  {
   "cell_type": "markdown",
   "id": "86e930b6",
   "metadata": {
    "papermill": {
     "duration": 0.003785,
     "end_time": "2025-08-31T17:57:57.784566",
     "exception": false,
     "start_time": "2025-08-31T17:57:57.780781",
     "status": "completed"
    },
    "tags": []
   },
   "source": [
    "### **Prepare train, test data**"
   ]
  },
  {
   "cell_type": "code",
   "execution_count": 2,
   "id": "f6fa4fdb",
   "metadata": {
    "execution": {
     "iopub.execute_input": "2025-08-31T17:57:57.794022Z",
     "iopub.status.busy": "2025-08-31T17:57:57.793378Z",
     "iopub.status.idle": "2025-08-31T17:57:58.657143Z",
     "shell.execute_reply": "2025-08-31T17:57:58.655957Z"
    },
    "papermill": {
     "duration": 0.870367,
     "end_time": "2025-08-31T17:57:58.658931",
     "exception": false,
     "start_time": "2025-08-31T17:57:57.788564",
     "status": "completed"
    },
    "tags": []
   },
   "outputs": [],
   "source": [
    "train_df = pd.read_csv('/kaggle/input/diabetes-dataset/train_data.csv')\n",
    "test_df = pd.read_csv('/kaggle/input/diabetes-dataset/test_data.csv')"
   ]
  },
  {
   "cell_type": "code",
   "execution_count": 3,
   "id": "76e368aa",
   "metadata": {
    "execution": {
     "iopub.execute_input": "2025-08-31T17:57:58.668134Z",
     "iopub.status.busy": "2025-08-31T17:57:58.667850Z",
     "iopub.status.idle": "2025-08-31T17:57:58.703474Z",
     "shell.execute_reply": "2025-08-31T17:57:58.702509Z"
    },
    "papermill": {
     "duration": 0.042002,
     "end_time": "2025-08-31T17:57:58.705068",
     "exception": false,
     "start_time": "2025-08-31T17:57:58.663066",
     "status": "completed"
    },
    "tags": []
   },
   "outputs": [],
   "source": [
    "X_train = train_df.drop(columns=['diabetes'])\n",
    "y_train = train_df['diabetes']\n",
    "X_test = test_df.drop(columns=['diabetes'])\n",
    "y_test = test_df['diabetes']"
   ]
  },
  {
   "cell_type": "code",
   "execution_count": 4,
   "id": "7a5f4cbc",
   "metadata": {
    "execution": {
     "iopub.execute_input": "2025-08-31T17:57:58.714944Z",
     "iopub.status.busy": "2025-08-31T17:57:58.714044Z",
     "iopub.status.idle": "2025-08-31T17:57:58.742469Z",
     "shell.execute_reply": "2025-08-31T17:57:58.741345Z"
    },
    "papermill": {
     "duration": 0.034869,
     "end_time": "2025-08-31T17:57:58.744226",
     "exception": false,
     "start_time": "2025-08-31T17:57:58.709357",
     "status": "completed"
    },
    "tags": []
   },
   "outputs": [],
   "source": [
    "import re\n",
    "\n",
    "def clean_col(col):\n",
    "    return re.sub(r'[^A-Za-z0-9_]+', '_', col)\n",
    "\n",
    "X_train = X_train.rename(columns=clean_col)\n",
    "X_test = X_test.rename(columns=clean_col)"
   ]
  },
  {
   "cell_type": "markdown",
   "id": "f1a6537a",
   "metadata": {
    "papermill": {
     "duration": 0.00448,
     "end_time": "2025-08-31T17:57:58.752887",
     "exception": false,
     "start_time": "2025-08-31T17:57:58.748407",
     "status": "completed"
    },
    "tags": []
   },
   "source": [
    "### **Initialize model**"
   ]
  },
  {
   "cell_type": "code",
   "execution_count": 5,
   "id": "d0885fe1",
   "metadata": {
    "execution": {
     "iopub.execute_input": "2025-08-31T17:57:58.761783Z",
     "iopub.status.busy": "2025-08-31T17:57:58.761481Z",
     "iopub.status.idle": "2025-08-31T17:57:58.765485Z",
     "shell.execute_reply": "2025-08-31T17:57:58.764664Z"
    },
    "papermill": {
     "duration": 0.010154,
     "end_time": "2025-08-31T17:57:58.766886",
     "exception": false,
     "start_time": "2025-08-31T17:57:58.756732",
     "status": "completed"
    },
    "tags": []
   },
   "outputs": [],
   "source": [
    "model = LGBMClassifier()"
   ]
  },
  {
   "cell_type": "code",
   "execution_count": 6,
   "id": "42a278e8",
   "metadata": {
    "execution": {
     "iopub.execute_input": "2025-08-31T17:57:58.776912Z",
     "iopub.status.busy": "2025-08-31T17:57:58.775965Z",
     "iopub.status.idle": "2025-08-31T17:57:59.378127Z",
     "shell.execute_reply": "2025-08-31T17:57:59.377052Z"
    },
    "papermill": {
     "duration": 0.608313,
     "end_time": "2025-08-31T17:57:59.379622",
     "exception": false,
     "start_time": "2025-08-31T17:57:58.771309",
     "status": "completed"
    },
    "tags": []
   },
   "outputs": [
    {
     "name": "stdout",
     "output_type": "stream",
     "text": [
      "[LightGBM] [Info] Number of positive: 6800, number of negative: 73174\n",
      "[LightGBM] [Info] Auto-choosing row-wise multi-threading, the overhead of testing was 0.004109 seconds.\n",
      "You can set `force_row_wise=true` to remove the overhead.\n",
      "And if memory is not enough, you can set `force_col_wise=true`.\n",
      "[LightGBM] [Info] Total Bins 528\n",
      "[LightGBM] [Info] Number of data points in the train set: 79974, number of used features: 70\n",
      "[LightGBM] [Info] [binary:BoostFromScore]: pavg=0.085028 -> initscore=-2.375918\n",
      "[LightGBM] [Info] Start training from score -2.375918\n"
     ]
    },
    {
     "data": {
      "text/html": [
       "<style>#sk-container-id-1 {color: black;background-color: white;}#sk-container-id-1 pre{padding: 0;}#sk-container-id-1 div.sk-toggleable {background-color: white;}#sk-container-id-1 label.sk-toggleable__label {cursor: pointer;display: block;width: 100%;margin-bottom: 0;padding: 0.3em;box-sizing: border-box;text-align: center;}#sk-container-id-1 label.sk-toggleable__label-arrow:before {content: \"▸\";float: left;margin-right: 0.25em;color: #696969;}#sk-container-id-1 label.sk-toggleable__label-arrow:hover:before {color: black;}#sk-container-id-1 div.sk-estimator:hover label.sk-toggleable__label-arrow:before {color: black;}#sk-container-id-1 div.sk-toggleable__content {max-height: 0;max-width: 0;overflow: hidden;text-align: left;background-color: #f0f8ff;}#sk-container-id-1 div.sk-toggleable__content pre {margin: 0.2em;color: black;border-radius: 0.25em;background-color: #f0f8ff;}#sk-container-id-1 input.sk-toggleable__control:checked~div.sk-toggleable__content {max-height: 200px;max-width: 100%;overflow: auto;}#sk-container-id-1 input.sk-toggleable__control:checked~label.sk-toggleable__label-arrow:before {content: \"▾\";}#sk-container-id-1 div.sk-estimator input.sk-toggleable__control:checked~label.sk-toggleable__label {background-color: #d4ebff;}#sk-container-id-1 div.sk-label input.sk-toggleable__control:checked~label.sk-toggleable__label {background-color: #d4ebff;}#sk-container-id-1 input.sk-hidden--visually {border: 0;clip: rect(1px 1px 1px 1px);clip: rect(1px, 1px, 1px, 1px);height: 1px;margin: -1px;overflow: hidden;padding: 0;position: absolute;width: 1px;}#sk-container-id-1 div.sk-estimator {font-family: monospace;background-color: #f0f8ff;border: 1px dotted black;border-radius: 0.25em;box-sizing: border-box;margin-bottom: 0.5em;}#sk-container-id-1 div.sk-estimator:hover {background-color: #d4ebff;}#sk-container-id-1 div.sk-parallel-item::after {content: \"\";width: 100%;border-bottom: 1px solid gray;flex-grow: 1;}#sk-container-id-1 div.sk-label:hover label.sk-toggleable__label {background-color: #d4ebff;}#sk-container-id-1 div.sk-serial::before {content: \"\";position: absolute;border-left: 1px solid gray;box-sizing: border-box;top: 0;bottom: 0;left: 50%;z-index: 0;}#sk-container-id-1 div.sk-serial {display: flex;flex-direction: column;align-items: center;background-color: white;padding-right: 0.2em;padding-left: 0.2em;position: relative;}#sk-container-id-1 div.sk-item {position: relative;z-index: 1;}#sk-container-id-1 div.sk-parallel {display: flex;align-items: stretch;justify-content: center;background-color: white;position: relative;}#sk-container-id-1 div.sk-item::before, #sk-container-id-1 div.sk-parallel-item::before {content: \"\";position: absolute;border-left: 1px solid gray;box-sizing: border-box;top: 0;bottom: 0;left: 50%;z-index: -1;}#sk-container-id-1 div.sk-parallel-item {display: flex;flex-direction: column;z-index: 1;position: relative;background-color: white;}#sk-container-id-1 div.sk-parallel-item:first-child::after {align-self: flex-end;width: 50%;}#sk-container-id-1 div.sk-parallel-item:last-child::after {align-self: flex-start;width: 50%;}#sk-container-id-1 div.sk-parallel-item:only-child::after {width: 0;}#sk-container-id-1 div.sk-dashed-wrapped {border: 1px dashed gray;margin: 0 0.4em 0.5em 0.4em;box-sizing: border-box;padding-bottom: 0.4em;background-color: white;}#sk-container-id-1 div.sk-label label {font-family: monospace;font-weight: bold;display: inline-block;line-height: 1.2em;}#sk-container-id-1 div.sk-label-container {text-align: center;}#sk-container-id-1 div.sk-container {/* jupyter's `normalize.less` sets `[hidden] { display: none; }` but bootstrap.min.css set `[hidden] { display: none !important; }` so we also need the `!important` here to be able to override the default hidden behavior on the sphinx rendered scikit-learn.org. See: https://github.com/scikit-learn/scikit-learn/issues/21755 */display: inline-block !important;position: relative;}#sk-container-id-1 div.sk-text-repr-fallback {display: none;}</style><div id=\"sk-container-id-1\" class=\"sk-top-container\"><div class=\"sk-text-repr-fallback\"><pre>LGBMClassifier()</pre><b>In a Jupyter environment, please rerun this cell to show the HTML representation or trust the notebook. <br />On GitHub, the HTML representation is unable to render, please try loading this page with nbviewer.org.</b></div><div class=\"sk-container\" hidden><div class=\"sk-item\"><div class=\"sk-estimator sk-toggleable\"><input class=\"sk-toggleable__control sk-hidden--visually\" id=\"sk-estimator-id-1\" type=\"checkbox\" checked><label for=\"sk-estimator-id-1\" class=\"sk-toggleable__label sk-toggleable__label-arrow\">LGBMClassifier</label><div class=\"sk-toggleable__content\"><pre>LGBMClassifier()</pre></div></div></div></div></div>"
      ],
      "text/plain": [
       "LGBMClassifier()"
      ]
     },
     "execution_count": 6,
     "metadata": {},
     "output_type": "execute_result"
    }
   ],
   "source": [
    "model.fit(X_train, y_train)"
   ]
  },
  {
   "cell_type": "code",
   "execution_count": 7,
   "id": "de003865",
   "metadata": {
    "execution": {
     "iopub.execute_input": "2025-08-31T17:57:59.389367Z",
     "iopub.status.busy": "2025-08-31T17:57:59.389061Z",
     "iopub.status.idle": "2025-08-31T17:57:59.457865Z",
     "shell.execute_reply": "2025-08-31T17:57:59.457087Z"
    },
    "papermill": {
     "duration": 0.075329,
     "end_time": "2025-08-31T17:57:59.459540",
     "exception": false,
     "start_time": "2025-08-31T17:57:59.384211",
     "status": "completed"
    },
    "tags": []
   },
   "outputs": [],
   "source": [
    "y_pred = model.predict(X_test)"
   ]
  },
  {
   "cell_type": "code",
   "execution_count": 8,
   "id": "e40955a0",
   "metadata": {
    "execution": {
     "iopub.execute_input": "2025-08-31T17:57:59.470126Z",
     "iopub.status.busy": "2025-08-31T17:57:59.469458Z",
     "iopub.status.idle": "2025-08-31T17:57:59.474926Z",
     "shell.execute_reply": "2025-08-31T17:57:59.474244Z"
    },
    "papermill": {
     "duration": 0.011969,
     "end_time": "2025-08-31T17:57:59.476263",
     "exception": false,
     "start_time": "2025-08-31T17:57:59.464294",
     "status": "completed"
    },
    "tags": []
   },
   "outputs": [
    {
     "data": {
      "text/plain": [
       "array([0, 0, 1, ..., 1, 0, 0])"
      ]
     },
     "execution_count": 8,
     "metadata": {},
     "output_type": "execute_result"
    }
   ],
   "source": [
    "y_pred"
   ]
  },
  {
   "cell_type": "code",
   "execution_count": 9,
   "id": "c11cb08a",
   "metadata": {
    "execution": {
     "iopub.execute_input": "2025-08-31T17:57:59.486161Z",
     "iopub.status.busy": "2025-08-31T17:57:59.485757Z",
     "iopub.status.idle": "2025-08-31T17:57:59.830276Z",
     "shell.execute_reply": "2025-08-31T17:57:59.829516Z"
    },
    "papermill": {
     "duration": 0.351121,
     "end_time": "2025-08-31T17:57:59.831854",
     "exception": false,
     "start_time": "2025-08-31T17:57:59.480733",
     "status": "completed"
    },
    "tags": []
   },
   "outputs": [
    {
     "name": "stdout",
     "output_type": "stream",
     "text": [
      "Accuracy:  0.9719915974792438\n",
      "Recall:  0.69\n",
      "Precision:  0.972636815920398\n",
      "F1 Score:  0.8072952512044046\n"
     ]
    },
    {
     "data": {
      "image/png": "[encoded data removed]",
      "text/plain": [
       "<Figure size 640x480 with 2 Axes>"
      ]
     },
     "metadata": {},
     "output_type": "display_data"
    }
   ],
   "source": [
    "print(\"Accuracy: \", accuracy_score(y_test, y_pred))\n",
    "print(\"Recall: \", recall_score(y_test, y_pred))\n",
    "print(\"Precision: \", precision_score(y_test, y_pred))\n",
    "print(\"F1 Score: \", f1_score(y_test, y_pred))\n",
    "ConfusionMatrixDisplay(confusion_matrix(y_test, y_pred)).plot(cmap=plt.cm.cividis)\n",
    "\n",
    "plt.title(\"Confusion Matrix for Decision Tree\", fontsize=14, weight='bold')\n",
    "plt.show()"
   ]
  },
  {
   "cell_type": "markdown",
   "id": "1c0d6ebe",
   "metadata": {
    "papermill": {
     "duration": 0.00463,
     "end_time": "2025-08-31T17:57:59.841691",
     "exception": false,
     "start_time": "2025-08-31T17:57:59.837061",
     "status": "completed"
    },
    "tags": []
   },
   "source": [
    "### **Fine-tune hyperparameters**"
   ]
  },
  {
   "cell_type": "code",
   "execution_count": 10,
   "id": "32d6d9c0",
   "metadata": {
    "execution": {
     "iopub.execute_input": "2025-08-31T17:57:59.852904Z",
     "iopub.status.busy": "2025-08-31T17:57:59.852153Z",
     "iopub.status.idle": "2025-08-31T17:57:59.856368Z",
     "shell.execute_reply": "2025-08-31T17:57:59.855541Z"
    },
    "papermill": {
     "duration": 0.011169,
     "end_time": "2025-08-31T17:57:59.857647",
     "exception": false,
     "start_time": "2025-08-31T17:57:59.846478",
     "status": "completed"
    },
    "tags": []
   },
   "outputs": [],
   "source": [
    "finetuned_model = LGBMClassifier(random_state=42)"
   ]
  },
  {
   "cell_type": "code",
   "execution_count": 11,
   "id": "a7e08c93",
   "metadata": {
    "execution": {
     "iopub.execute_input": "2025-08-31T17:57:59.868304Z",
     "iopub.status.busy": "2025-08-31T17:57:59.867995Z",
     "iopub.status.idle": "2025-09-01T04:58:02.986618Z",
     "shell.execute_reply": "2025-09-01T04:58:02.985697Z"
    },
    "papermill": {
     "duration": 39603.132474,
     "end_time": "2025-09-01T04:58:02.995073",
     "exception": false,
     "start_time": "2025-08-31T17:57:59.862599",
     "status": "completed"
    },
    "tags": []
   },
   "outputs": [
    {
     "name": "stdout",
     "output_type": "stream",
     "text": [
      "Optuna Best Params: {'n_estimators': 1240, 'learning_rate': 0.013119868528607649, 'num_leaves': 84, 'max_depth': 3, 'subsample': 0.8596928193511121, 'colsample_bytree': 0.7037525824091245, 'reg_alpha': 0.8147709299386455, 'reg_lambda': 0.6537010254922306}\n",
      "Optuna Best Accuracy: 0.9726417925377613\n"
     ]
    }
   ],
   "source": [
    "def objective(trial):\n",
    "    params = {\n",
    "        \"n_estimators\": trial.suggest_int(\"n_estimators\", 300, 1500),\n",
    "        \"learning_rate\": trial.suggest_float(\"learning_rate\", 0.01, 0.3, log=True),\n",
    "        \"num_leaves\": trial.suggest_int(\"num_leaves\", 20, 200),\n",
    "        \"max_depth\": trial.suggest_int(\"max_depth\", 3, 12),\n",
    "        \"subsample\": trial.suggest_float(\"subsample\", 0.6, 1.0),\n",
    "        \"colsample_bytree\": trial.suggest_float(\"colsample_bytree\", 0.6, 1.0),\n",
    "        \"reg_alpha\": trial.suggest_float(\"reg_alpha\", 0.0, 1.0),\n",
    "        \"reg_lambda\": trial.suggest_float(\"reg_lambda\", 0.0, 1.0),\n",
    "        \"verbose\": -1,\n",
    "    }\n",
    "\n",
    "    model = LGBMClassifier(\n",
    "        **params,\n",
    "        random_state=42\n",
    "    )\n",
    "\n",
    "    model.fit(\n",
    "        X_train, y_train,\n",
    "        eval_set=[(X_test, y_test)],\n",
    "        eval_metric=\"logloss\",\n",
    "    )\n",
    "\n",
    "    preds = model.predict(X_test)\n",
    "    return accuracy_score(y_test, preds)\n",
    "\n",
    "study = optuna.create_study(direction=\"maximize\")\n",
    "study.optimize(objective, n_trials=100000, timeout=39600)\n",
    "\n",
    "print(\"Optuna Best Params:\", study.best_trial.params)\n",
    "print(\"Optuna Best Accuracy:\", study.best_value)"
   ]
  },
  {
   "cell_type": "code",
   "execution_count": 12,
   "id": "488fa708",
   "metadata": {
    "execution": {
     "iopub.execute_input": "2025-09-01T04:58:03.006569Z",
     "iopub.status.busy": "2025-09-01T04:58:03.006285Z",
     "iopub.status.idle": "2025-09-01T04:58:03.010771Z",
     "shell.execute_reply": "2025-09-01T04:58:03.010085Z"
    },
    "papermill": {
     "duration": 0.011788,
     "end_time": "2025-09-01T04:58:03.012112",
     "exception": false,
     "start_time": "2025-09-01T04:58:03.000324",
     "status": "completed"
    },
    "tags": []
   },
   "outputs": [],
   "source": [
    "best_model = LGBMClassifier(\n",
    "    **study.best_params,\n",
    "    verbose=-1,\n",
    "    random_state=42\n",
    ")"
   ]
  },
  {
   "cell_type": "code",
   "execution_count": 13,
   "id": "62b2de03",
   "metadata": {
    "execution": {
     "iopub.execute_input": "2025-09-01T04:58:03.023385Z",
     "iopub.status.busy": "2025-09-01T04:58:03.023115Z",
     "iopub.status.idle": "2025-09-01T04:58:06.199985Z",
     "shell.execute_reply": "2025-09-01T04:58:06.199110Z"
    },
    "papermill": {
     "duration": 3.184336,
     "end_time": "2025-09-01T04:58:06.201697",
     "exception": false,
     "start_time": "2025-09-01T04:58:03.017361",
     "status": "completed"
    },
    "tags": []
   },
   "outputs": [
    {
     "data": {
      "text/html": [
       "<style>#sk-container-id-2 {color: black;background-color: white;}#sk-container-id-2 pre{padding: 0;}#sk-container-id-2 div.sk-toggleable {background-color: white;}#sk-container-id-2 label.sk-toggleable__label {cursor: pointer;display: block;width: 100%;margin-bottom: 0;padding: 0.3em;box-sizing: border-box;text-align: center;}#sk-container-id-2 label.sk-toggleable__label-arrow:before {content: \"▸\";float: left;margin-right: 0.25em;color: #696969;}#sk-container-id-2 label.sk-toggleable__label-arrow:hover:before {color: black;}#sk-container-id-2 div.sk-estimator:hover label.sk-toggleable__label-arrow:before {color: black;}#sk-container-id-2 div.sk-toggleable__content {max-height: 0;max-width: 0;overflow: hidden;text-align: left;background-color: #f0f8ff;}#sk-container-id-2 div.sk-toggleable__content pre {margin: 0.2em;color: black;border-radius: 0.25em;background-color: #f0f8ff;}#sk-container-id-2 input.sk-toggleable__control:checked~div.sk-toggleable__content {max-height: 200px;max-width: 100%;overflow: auto;}#sk-container-id-2 input.sk-toggleable__control:checked~label.sk-toggleable__label-arrow:before {content: \"▾\";}#sk-container-id-2 div.sk-estimator input.sk-toggleable__control:checked~label.sk-toggleable__label {background-color: #d4ebff;}#sk-container-id-2 div.sk-label input.sk-toggleable__control:checked~label.sk-toggleable__label {background-color: #d4ebff;}#sk-container-id-2 input.sk-hidden--visually {border: 0;clip: rect(1px 1px 1px 1px);clip: rect(1px, 1px, 1px, 1px);height: 1px;margin: -1px;overflow: hidden;padding: 0;position: absolute;width: 1px;}#sk-container-id-2 div.sk-estimator {font-family: monospace;background-color: #f0f8ff;border: 1px dotted black;border-radius: 0.25em;box-sizing: border-box;margin-bottom: 0.5em;}#sk-container-id-2 div.sk-estimator:hover {background-color: #d4ebff;}#sk-container-id-2 div.sk-parallel-item::after {content: \"\";width: 100%;border-bottom: 1px solid gray;flex-grow: 1;}#sk-container-id-2 div.sk-label:hover label.sk-toggleable__label {background-color: #d4ebff;}#sk-container-id-2 div.sk-serial::before {content: \"\";position: absolute;border-left: 1px solid gray;box-sizing: border-box;top: 0;bottom: 0;left: 50%;z-index: 0;}#sk-container-id-2 div.sk-serial {display: flex;flex-direction: column;align-items: center;background-color: white;padding-right: 0.2em;padding-left: 0.2em;position: relative;}#sk-container-id-2 div.sk-item {position: relative;z-index: 1;}#sk-container-id-2 div.sk-parallel {display: flex;align-items: stretch;justify-content: center;background-color: white;position: relative;}#sk-container-id-2 div.sk-item::before, #sk-container-id-2 div.sk-parallel-item::before {content: \"\";position: absolute;border-left: 1px solid gray;box-sizing: border-box;top: 0;bottom: 0;left: 50%;z-index: -1;}#sk-container-id-2 div.sk-parallel-item {display: flex;flex-direction: column;z-index: 1;position: relative;background-color: white;}#sk-container-id-2 div.sk-parallel-item:first-child::after {align-self: flex-end;width: 50%;}#sk-container-id-2 div.sk-parallel-item:last-child::after {align-self: flex-start;width: 50%;}#sk-container-id-2 div.sk-parallel-item:only-child::after {width: 0;}#sk-container-id-2 div.sk-dashed-wrapped {border: 1px dashed gray;margin: 0 0.4em 0.5em 0.4em;box-sizing: border-box;padding-bottom: 0.4em;background-color: white;}#sk-container-id-2 div.sk-label label {font-family: monospace;font-weight: bold;display: inline-block;line-height: 1.2em;}#sk-container-id-2 div.sk-label-container {text-align: center;}#sk-container-id-2 div.sk-container {/* jupyter's `normalize.less` sets `[hidden] { display: none; }` but bootstrap.min.css set `[hidden] { display: none !important; }` so we also need the `!important` here to be able to override the default hidden behavior on the sphinx rendered scikit-learn.org. See: https://github.com/scikit-learn/scikit-learn/issues/21755 */display: inline-block !important;position: relative;}#sk-container-id-2 div.sk-text-repr-fallback {display: none;}</style><div id=\"sk-container-id-2\" class=\"sk-top-container\"><div class=\"sk-text-repr-fallback\"><pre>LGBMClassifier(colsample_bytree=0.7037525824091245,\n",
       "               learning_rate=0.013119868528607649, max_depth=3,\n",
       "               n_estimators=1240, num_leaves=84, random_state=42,\n",
       "               reg_alpha=0.8147709299386455, reg_lambda=0.6537010254922306,\n",
       "               subsample=0.8596928193511121, verbose=-1)</pre><b>In a Jupyter environment, please rerun this cell to show the HTML representation or trust the notebook. <br />On GitHub, the HTML representation is unable to render, please try loading this page with nbviewer.org.</b></div><div class=\"sk-container\" hidden><div class=\"sk-item\"><div class=\"sk-estimator sk-toggleable\"><input class=\"sk-toggleable__control sk-hidden--visually\" id=\"sk-estimator-id-2\" type=\"checkbox\" checked><label for=\"sk-estimator-id-2\" class=\"sk-toggleable__label sk-toggleable__label-arrow\">LGBMClassifier</label><div class=\"sk-toggleable__content\"><pre>LGBMClassifier(colsample_bytree=0.7037525824091245,\n",
       "               learning_rate=0.013119868528607649, max_depth=3,\n",
       "               n_estimators=1240, num_leaves=84, random_state=42,\n",
       "               reg_alpha=0.8147709299386455, reg_lambda=0.6537010254922306,\n",
       "               subsample=0.8596928193511121, verbose=-1)</pre></div></div></div></div></div>"
      ],
      "text/plain": [
       "LGBMClassifier(colsample_bytree=0.7037525824091245,\n",
       "               learning_rate=0.013119868528607649, max_depth=3,\n",
       "               n_estimators=1240, num_leaves=84, random_state=42,\n",
       "               reg_alpha=0.8147709299386455, reg_lambda=0.6537010254922306,\n",
       "               subsample=0.8596928193511121, verbose=-1)"
      ]
     },
     "execution_count": 13,
     "metadata": {},
     "output_type": "execute_result"
    }
   ],
   "source": [
    "best_model.fit(X_train, y_train)"
   ]
  },
  {
   "cell_type": "code",
   "execution_count": 14,
   "id": "e11536cd",
   "metadata": {
    "execution": {
     "iopub.execute_input": "2025-09-01T04:58:06.214969Z",
     "iopub.status.busy": "2025-09-01T04:58:06.214483Z",
     "iopub.status.idle": "2025-09-01T04:58:06.910501Z",
     "shell.execute_reply": "2025-09-01T04:58:06.909581Z"
    },
    "papermill": {
     "duration": 0.703697,
     "end_time": "2025-09-01T04:58:06.912123",
     "exception": false,
     "start_time": "2025-09-01T04:58:06.208426",
     "status": "completed"
    },
    "tags": []
   },
   "outputs": [],
   "source": [
    "best_y_pred = best_model.predict(X_test)"
   ]
  },
  {
   "cell_type": "code",
   "execution_count": 15,
   "id": "bc0e116a",
   "metadata": {
    "execution": {
     "iopub.execute_input": "2025-09-01T04:58:06.923669Z",
     "iopub.status.busy": "2025-09-01T04:58:06.923411Z",
     "iopub.status.idle": "2025-09-01T04:58:07.119186Z",
     "shell.execute_reply": "2025-09-01T04:58:07.118438Z"
    },
    "papermill": {
     "duration": 0.203014,
     "end_time": "2025-09-01T04:58:07.120564",
     "exception": false,
     "start_time": "2025-09-01T04:58:06.917550",
     "status": "completed"
    },
    "tags": []
   },
   "outputs": [
    {
     "name": "stdout",
     "output_type": "stream",
     "text": [
      "Accuracy:  0.9726417925377613\n",
      "Recall:  0.6876470588235294\n",
      "Precision:  0.9864978902953586\n",
      "F1 Score:  0.8103986135181975\n"
     ]
    },
    {
     "data": {
      "image/png": "[encoded data removed]",
      "text/plain": [
       "<Figure size 640x480 with 2 Axes>"
      ]
     },
     "metadata": {},
     "output_type": "display_data"
    }
   ],
   "source": [
    "print(\"Accuracy: \", accuracy_score(y_test, best_y_pred))\n",
    "print(\"Recall: \", recall_score(y_test, best_y_pred))\n",
    "print(\"Precision: \", precision_score(y_test, best_y_pred))\n",
    "print(\"F1 Score: \", f1_score(y_test, best_y_pred))\n",
    "ConfusionMatrixDisplay(confusion_matrix(y_test, best_y_pred)).plot(cmap=plt.cm.cividis)\n",
    "\n",
    "plt.title(\"Confusion Matrix for LightGBM\", fontsize=14, weight='bold')\n",
    "plt.show()"
   ]
  },
  {
   "cell_type": "markdown",
   "id": "e72c17c9",
   "metadata": {
    "papermill": {
     "duration": 0.005601,
     "end_time": "2025-09-01T04:58:07.132305",
     "exception": false,
     "start_time": "2025-09-01T04:58:07.126704",
     "status": "completed"
    },
    "tags": []
   },
   "source": [
    "### **Save model**"
   ]
  },
  {
   "cell_type": "code",
   "execution_count": 16,
   "id": "6b80a098",
   "metadata": {
    "execution": {
     "iopub.execute_input": "2025-09-01T04:58:07.145067Z",
     "iopub.status.busy": "2025-09-01T04:58:07.144443Z",
     "iopub.status.idle": "2025-09-01T04:58:07.171911Z",
     "shell.execute_reply": "2025-09-01T04:58:07.171074Z"
    },
    "papermill": {
     "duration": 0.035441,
     "end_time": "2025-09-01T04:58:07.173343",
     "exception": false,
     "start_time": "2025-09-01T04:58:07.137902",
     "status": "completed"
    },
    "tags": []
   },
   "outputs": [
    {
     "data": {
      "text/plain": [
       "['lgbm_model.pkl']"
      ]
     },
     "execution_count": 16,
     "metadata": {},
     "output_type": "execute_result"
    }
   ],
   "source": [
    "import joblib\n",
    "joblib.dump(best_model, \"lgbm_model.pkl\")"
   ]
  },
  {
   "cell_type": "markdown",
   "id": "4372e520",
   "metadata": {
    "papermill": {
     "duration": 0.005656,
     "end_time": "2025-09-01T04:58:07.186410",
     "exception": false,
     "start_time": "2025-09-01T04:58:07.180754",
     "status": "completed"
    },
    "tags": []
   },
   "source": [
    "### **Load model**"
   ]
  },
  {
   "cell_type": "code",
   "execution_count": 17,
   "id": "5ffa30ac",
   "metadata": {
    "execution": {
     "iopub.execute_input": "2025-09-01T04:58:07.199230Z",
     "iopub.status.busy": "2025-09-01T04:58:07.198423Z",
     "iopub.status.idle": "2025-09-01T04:58:07.211549Z",
     "shell.execute_reply": "2025-09-01T04:58:07.210681Z"
    },
    "papermill": {
     "duration": 0.021016,
     "end_time": "2025-09-01T04:58:07.212980",
     "exception": false,
     "start_time": "2025-09-01T04:58:07.191964",
     "status": "completed"
    },
    "tags": []
   },
   "outputs": [],
   "source": [
    "model = joblib.load(\"lgbm_model.pkl\")"
   ]
  },
  {
   "cell_type": "code",
   "execution_count": 18,
   "id": "dd96871c",
   "metadata": {
    "execution": {
     "iopub.execute_input": "2025-09-01T04:58:07.225942Z",
     "iopub.status.busy": "2025-09-01T04:58:07.225614Z",
     "iopub.status.idle": "2025-09-01T04:58:07.858708Z",
     "shell.execute_reply": "2025-09-01T04:58:07.857817Z"
    },
    "papermill": {
     "duration": 0.641188,
     "end_time": "2025-09-01T04:58:07.860308",
     "exception": false,
     "start_time": "2025-09-01T04:58:07.219120",
     "status": "completed"
    },
    "tags": []
   },
   "outputs": [],
   "source": [
    "y_pred = model.predict(X_test)"
   ]
  },
  {
   "cell_type": "code",
   "execution_count": 19,
   "id": "b117232e",
   "metadata": {
    "execution": {
     "iopub.execute_input": "2025-09-01T04:58:07.873488Z",
     "iopub.status.busy": "2025-09-01T04:58:07.873206Z",
     "iopub.status.idle": "2025-09-01T04:58:08.071348Z",
     "shell.execute_reply": "2025-09-01T04:58:08.070319Z"
    },
    "papermill": {
     "duration": 0.206115,
     "end_time": "2025-09-01T04:58:08.072636",
     "exception": false,
     "start_time": "2025-09-01T04:58:07.866521",
     "status": "completed"
    },
    "tags": []
   },
   "outputs": [
    {
     "name": "stdout",
     "output_type": "stream",
     "text": [
      "Accuracy:  0.9726417925377613\n",
      "Recall:  0.6876470588235294\n",
      "Precision:  0.9864978902953586\n",
      "F1 Score:  0.8103986135181975\n"
     ]
    },
    {
     "data": {
      "image/png": "[encoded data removed]",
      "text/plain": [
       "<Figure size 640x480 with 2 Axes>"
      ]
     },
     "metadata": {},
     "output_type": "display_data"
    }
   ],
   "source": [
    "print(\"Accuracy: \", accuracy_score(y_test, y_pred))\n",
    "print(\"Recall: \", recall_score(y_test, y_pred))\n",
    "print(\"Precision: \", precision_score(y_test, y_pred))\n",
    "print(\"F1 Score: \", f1_score(y_test, y_pred))\n",
    "ConfusionMatrixDisplay(confusion_matrix(y_test, y_pred)).plot(cmap=plt.cm.cividis)\n",
    "\n",
    "plt.title(\"Confusion Matrix for LightGBM\", fontsize=14, weight='bold')\n",
    "plt.show()"
   ]
  }
 ],
 "metadata": {
  "kaggle": {
   "accelerator": "none",
   "dataSources": [
    {
     "datasetId": 8144579,
     "sourceId": 12874877,
     "sourceType": "datasetVersion"
    }
   ],
   "dockerImageVersionId": 31089,
   "isGpuEnabled": false,
   "isInternetEnabled": true,
   "language": "python",
   "sourceType": "notebook"
  },
  "kernelspec": {
   "display_name": "env",
   "language": "python",
   "name": "python3"
  },
  "language_info": {
   "codemirror_mode": {
    "name": "ipython",
    "version": 3
   },
   "file_extension": ".py",
   "mimetype": "text/x-python",
   "name": "python",
   "nbconvert_exporter": "python",
   "pygments_lexer": "ipython3",
   "version": "3.11.9"
  },
  "papermill": {
   "default_parameters": {},
   "duration": 39624.678186,
   "end_time": "2025-09-01T04:58:09.142733",
   "environment_variables": {},
   "exception": null,
   "input_path": "__notebook__.ipynb",
   "output_path": "__notebook__.ipynb",
   "parameters": {},
   "start_time": "2025-08-31T17:57:44.464547",
   "version": "2.6.0"
  }
 },
 "nbformat": 4,
 "nbformat_minor": 5
}
