{
 "cells": [
  {
   "cell_type": "markdown",
   "id": "e56712f4",
   "metadata": {},
   "source": [
    "## **CatBoost**\n",
    "\n",
    "CatBoost (Categorical Boosting) is a gradient boosting library developed by Yandex. It is designed to handle categorical features efficiently without the need for extensive preprocessing like one-hot encoding. CatBoost is known for its ease of use, high accuracy, and resistance to overfitting, making it a strong competitor to XGBoost and LightGBM.\n",
    "\n",
    "#### **How It Works**\n",
    "1. *Gradient Boosting on Decision Trees* - Builds an ensemble of trees sequentially to minimize a loss function\n",
    "2. *Ordered Boosting* - Uses a permutation-driven method to reduce prediction shift and overfitting\n",
    "3. *Efficient Handling of Categorical Features* - Converts categorical features into numerical values using statistics from the dataset (target-based encoding with built-in safeguards)\n",
    "4. *Symmetric Trees* - Grows balanced, symmetric trees that improve prediction speed and reduce memory usage\n",
    "\n",
    "#### **Advantages**\n",
    "- Minimal data preprocessing (handles categorical, numerical, and missing values automatically)\n",
    "- Robust against overfitting due to ordered boosting\n",
    "- Often achieves strong performance with default parameters\n",
    "- Supports multi-class classification, ranking, and regression\n",
    "\n",
    "\n",
    "#### **Limmitations**\n",
    "- Training can be slower than LightGBM on very large datasets\n",
    "- Less mature ecosystem compared to XGBoost and LightGBM\n",
    "- Still a \"black box\" model, less interpretable than single Decision Tree"
   ]
  },
  {
   "cell_type": "markdown",
   "id": "6116d117",
   "metadata": {},
   "source": [
    "### **Import necessary libraries**"
   ]
  },
  {
   "cell_type": "code",
   "execution_count": 1,
   "id": "4cf0cde1",
   "metadata": {},
   "outputs": [
    {
     "name": "stderr",
     "output_type": "stream",
     "text": [
      "e:\\diabetes-classification\\env\\Lib\\site-packages\\tqdm\\auto.py:21: TqdmWarning: IProgress not found. Please update jupyter and ipywidgets. See https://ipywidgets.readthedocs.io/en/stable/user_install.html\n",
      "  from .autonotebook import tqdm as notebook_tqdm\n"
     ]
    }
   ],
   "source": [
    "import os \n",
    "import sys\n",
    "sys.path.append(os.path.abspath(os.path.join('..')))\n",
    "\n",
    "import pandas as pd\n",
    "import numpy as np\n",
    "\n",
    "from catboost import CatBoostClassifier\n",
    "from sklearn.model_selection import GridSearchCV\n",
    "import optuna\n",
    "from sklearn.metrics import accuracy_score, f1_score, recall_score, precision_score, confusion_matrix, ConfusionMatrixDisplay\n",
    "\n",
    "import matplotlib.pyplot as plt\n",
    "\n",
    "import warnings\n",
    "warnings.filterwarnings(\"ignore\")"
   ]
  },
  {
   "cell_type": "markdown",
   "id": "2a776ab8",
   "metadata": {},
   "source": [
    "### **Prepare train, test data**"
   ]
  },
  {
   "cell_type": "code",
   "execution_count": 2,
   "id": "2dd4013b",
   "metadata": {},
   "outputs": [],
   "source": [
    "train_df = pd.read_csv('../data/train_data.csv')\n",
    "test_df = pd.read_csv('../data/test_data.csv')"
   ]
  },
  {
   "cell_type": "code",
   "execution_count": 3,
   "id": "ae6258af",
   "metadata": {},
   "outputs": [],
   "source": [
    "X_train = train_df.drop(columns=['diabetes'])\n",
    "y_train = train_df['diabetes']\n",
    "X_test = test_df.drop(columns=['diabetes'])\n",
    "y_test = test_df['diabetes']"
   ]
  },
  {
   "cell_type": "markdown",
   "id": "c63e766e",
   "metadata": {},
   "source": [
    "### **Initialize model**"
   ]
  },
  {
   "cell_type": "code",
   "execution_count": 4,
   "id": "f7cdb580",
   "metadata": {},
   "outputs": [],
   "source": [
    "model = CatBoostClassifier()"
   ]
  },
  {
   "cell_type": "code",
   "execution_count": 5,
   "id": "d8c3c499",
   "metadata": {},
   "outputs": [
    {
     "data": {
      "text/plain": [
       "<catboost.core.CatBoostClassifier at 0x1de812cb790>"
      ]
     },
     "execution_count": 5,
     "metadata": {},
     "output_type": "execute_result"
    }
   ],
   "source": [
    "model.fit(X_train, y_train, eval_set=(X_test, y_test), use_best_model=True, verbose=0)"
   ]
  },
  {
   "cell_type": "code",
   "execution_count": 6,
   "id": "cdd7af93",
   "metadata": {},
   "outputs": [],
   "source": [
    "y_pred = model.predict(X_test)"
   ]
  },
  {
   "cell_type": "code",
   "execution_count": 7,
   "id": "2bc9f74f",
   "metadata": {},
   "outputs": [
    {
     "data": {
      "text/plain": [
       "array([0, 0, 1, ..., 1, 0, 0], shape=(19994,))"
      ]
     },
     "execution_count": 7,
     "metadata": {},
     "output_type": "execute_result"
    }
   ],
   "source": [
    "y_pred"
   ]
  },
  {
   "cell_type": "code",
   "execution_count": 8,
   "id": "8fe3832f",
   "metadata": {},
   "outputs": [
    {
     "name": "stdout",
     "output_type": "stream",
     "text": [
      "Accuracy:  0.9717415224567371\n",
      "Recall:  0.6847058823529412\n",
      "Precision:  0.9756915339480302\n",
      "F1 Score:  0.8047010024196336\n"
     ]
    },
    {
     "data": {
      "image/png": "[encoded data removed]",
      "text/plain": [
       "<Figure size 640x480 with 2 Axes>"
      ]
     },
     "metadata": {},
     "output_type": "display_data"
    }
   ],
   "source": [
    "print(\"Accuracy: \", accuracy_score(y_test, y_pred))\n",
    "print(\"Recall: \", recall_score(y_test, y_pred))\n",
    "print(\"Precision: \", precision_score(y_test, y_pred))\n",
    "print(\"F1 Score: \", f1_score(y_test, y_pred))\n",
    "ConfusionMatrixDisplay(confusion_matrix(y_test, y_pred)).plot(cmap=plt.cm.cividis)\n",
    "\n",
    "plt.title(\"Confusion Matrix for CatBoost\", fontsize=14, weight='bold')\n",
    "plt.show()"
   ]
  },
  {
   "cell_type": "markdown",
   "id": "21eb7fc7",
   "metadata": {},
   "source": [
    "### **Fine-tune hyperparameters**"
   ]
  },
  {
   "cell_type": "code",
   "execution_count": 9,
   "id": "7be61b40",
   "metadata": {},
   "outputs": [],
   "source": [
    "# def objective(trial):\n",
    "#     params = {\n",
    "#         \"iterations\": trial.suggest_int(\"iterations\", 200, 1000),\n",
    "#         \"depth\": trial.suggest_int(\"depth\", 3, 10),\n",
    "#         \"learning_rate\": trial.suggest_float(\"learning_rate\", 1e-3, 0.3, log=True),\n",
    "#         \"l2_leaf_reg\": trial.suggest_float(\"l2_leaf_reg\", 1, 10),\n",
    "#         \"border_count\": trial.suggest_int(\"border_count\", 32, 255),\n",
    "#         \"subsample\": trial.suggest_float(\"subsample\", 0.5, 1.0),\n",
    "#         \"random_strength\": trial.suggest_float(\"random_strength\", 0, 10),\n",
    "#         \"bagging_temperature\": trial.suggest_float(\"bagging_temperature\", 0, 10),\n",
    "#         \"od_type\": \"Iter\",\n",
    "#         \"od_wait\": 20,\n",
    "#         \"verbose\": 0,\n",
    "#         \"loss_function\": \"Logloss\",\n",
    "#         \"eval_metric\": \"Accuracy\"\n",
    "#     }\n",
    "\n",
    "#     model = CatBoostClassifier(\n",
    "#         **params,\n",
    "#         random_state=42\n",
    "#     )\n",
    "\n",
    "#     model.fit(\n",
    "#         X_train, y_train,\n",
    "#         eval_set=[(X_test, y_test)],\n",
    "#     )\n",
    "\n",
    "#     preds = model.predict(X_test)\n",
    "#     return accuracy_score(y_test, preds)\n",
    "\n",
    "\n",
    "# # Run optimization\n",
    "# study = optuna.create_study(direction=\"maximize\")\n",
    "# study.optimize(objective, n_trials=10000, timeout=39600)  # 10000 trials or 11 hours\n",
    "\n",
    "# print(\"Best parameters:\", study.best_params)\n",
    "# print(\"Best CV accuracy:\", study.best_value)"
   ]
  },
  {
   "cell_type": "markdown",
   "id": "0bae9293",
   "metadata": {},
   "source": [
    "We found the best params is: `{'iterations': 292, 'depth': 10, 'learning_rate': 0.24279522906072473, 'l2_leaf_reg': 2.3045763969228004, 'border_count': 251, 'subsample': 0.6977028919084041, 'random_strength': 0.8571984222128668, 'bagging_temperature': 9.197443355871247}`"
   ]
  },
  {
   "cell_type": "code",
   "execution_count": 10,
   "id": "4cf01cbb",
   "metadata": {},
   "outputs": [],
   "source": [
    "best_params = {'iterations': 292, 'depth': 10, 'learning_rate': 0.24279522906072473, 'l2_leaf_reg': 2.3045763969228004, 'border_count': 251, 'subsample': 0.6977028919084041, 'random_strength': 0.8571984222128668, 'bagging_temperature': 9.197443355871247}"
   ]
  },
  {
   "cell_type": "code",
   "execution_count": 11,
   "id": "717f88c2",
   "metadata": {},
   "outputs": [],
   "source": [
    "best_model = CatBoostClassifier(\n",
    "    **best_params,\n",
    "    random_state=42\n",
    ")"
   ]
  },
  {
   "cell_type": "code",
   "execution_count": 12,
   "id": "33ebdd5a",
   "metadata": {},
   "outputs": [
    {
     "data": {
      "text/plain": [
       "<catboost.core.CatBoostClassifier at 0x1de8141b1d0>"
      ]
     },
     "execution_count": 12,
     "metadata": {},
     "output_type": "execute_result"
    }
   ],
   "source": [
    "best_model.fit(X_train, y_train, eval_set=(X_test, y_test), use_best_model=True, verbose=0)"
   ]
  },
  {
   "cell_type": "code",
   "execution_count": 13,
   "id": "31cc651d",
   "metadata": {},
   "outputs": [],
   "source": [
    "best_y_pred = best_model.predict(X_test)"
   ]
  },
  {
   "cell_type": "code",
   "execution_count": 14,
   "id": "8b726a4f",
   "metadata": {},
   "outputs": [
    {
     "name": "stdout",
     "output_type": "stream",
     "text": [
      "Accuracy:  0.9728918675602681\n",
      "Recall:  0.6947058823529412\n",
      "Precision:  0.9808970099667774\n",
      "F1 Score:  0.8133608815426997\n"
     ]
    },
    {
     "data": {
      "image/png": "[encoded data removed]",
      "text/plain": [
       "<Figure size 640x480 with 2 Axes>"
      ]
     },
     "metadata": {},
     "output_type": "display_data"
    }
   ],
   "source": [
    "print(\"Accuracy: \", accuracy_score(y_test, best_y_pred))\n",
    "print(\"Recall: \", recall_score(y_test, best_y_pred))\n",
    "print(\"Precision: \", precision_score(y_test, best_y_pred))\n",
    "print(\"F1 Score: \", f1_score(y_test, best_y_pred))\n",
    "ConfusionMatrixDisplay(confusion_matrix(y_test, best_y_pred)).plot(cmap=plt.cm.cividis)\n",
    "\n",
    "plt.title(\"Confusion Matrix for Decision Tree\", fontsize=14, weight='bold')\n",
    "plt.show()"
   ]
  },
  {
   "cell_type": "markdown",
   "id": "aab666f3",
   "metadata": {},
   "source": [
    "### **Save model**"
   ]
  },
  {
   "cell_type": "code",
   "execution_count": 15,
   "id": "3e98bea3",
   "metadata": {},
   "outputs": [
    {
     "data": {
      "text/plain": [
       "['../checkpoints/catboost.pkl']"
      ]
     },
     "execution_count": 15,
     "metadata": {},
     "output_type": "execute_result"
    }
   ],
   "source": [
    "import joblib \n",
    "joblib.dump(best_model, '../checkpoints/catboost.pkl')"
   ]
  }
 ],
 "metadata": {
  "kernelspec": {
   "display_name": "env",
   "language": "python",
   "name": "python3"
  },
  "language_info": {
   "codemirror_mode": {
    "name": "ipython",
    "version": 3
   },
   "file_extension": ".py",
   "mimetype": "text/x-python",
   "name": "python",
   "nbconvert_exporter": "python",
   "pygments_lexer": "ipython3",
   "version": "3.11.9"
  }
 },
 "nbformat": 4,
 "nbformat_minor": 5
}
