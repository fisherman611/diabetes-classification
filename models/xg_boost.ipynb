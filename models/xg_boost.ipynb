{
 "cells": [
  {
   "cell_type": "markdown",
   "id": "e0115cf6",
   "metadata": {
    "papermill": {
     "duration": 0.00604,
     "end_time": "2025-08-31T18:02:55.927954",
     "exception": false,
     "start_time": "2025-08-31T18:02:55.921914",
     "status": "completed"
    },
    "tags": []
   },
   "source": [
    "## **XGBoost**\n",
    "\n",
    "XGBoost (Extreme Gradient Boosting) is a powerful and efficient implementation of gradient boosted decision trees. It is designed for speed and performance, making it one of the most popular algorithms in machine learning competitions (e.g., Kaggle). XGBoost builds models sequentially, where each new tree corrects the errors of the previous ones, optimizing both accuracy and generalization.\n",
    "\n",
    "#### **How It Works**\n",
    "- *Gradient Boosting Framework* - Trees are built iteratively, minimizing a loss function\n",
    "- *Regularization* - Includes $L_1$ (Lasso) and $L_2$ (Ridge) penalties to reduce overfitting\n",
    "- *Shrinkage (Learning Rate)* - Each tree's contribution is scaled by a factor to improve generalization\n",
    "- *Column Subsampling* - Randomly samples features to prevent overfitting (similarto Random Forest)\n",
    "- *Parallelization* - Optimized for distributed computing, making it faster than traditional gradient boosting.\n",
    "\n",
    "#### **Advantages**\n",
    "- High predictive accuracy\n",
    "- Regularization helps prevent overfitting\n",
    "- Scales well to large datasets with efficient memory usage\n",
    "- Flexible - supports custom loss functions and evaluation metrics\n",
    "\n",
    "#### **Limitations**\n",
    "- More complex than simpler models (e.g. Logistic Regression, Naive Bayes, etc.)\n",
    "- Requires careful hyperparameters tuning for optimal performance\n",
    "- Can be computationally expensive for very large-scale datasets"
   ]
  },
  {
   "cell_type": "markdown",
   "id": "7694e42a",
   "metadata": {
    "papermill": {
     "duration": 0.004938,
     "end_time": "2025-08-31T18:03:01.701444",
     "exception": false,
     "start_time": "2025-08-31T18:03:01.696506",
     "status": "completed"
    },
    "tags": []
   },
   "source": [
    "### **Import necessary libraries**"
   ]
  },
  {
   "cell_type": "code",
   "execution_count": 2,
   "id": "31c938f0",
   "metadata": {
    "execution": {
     "iopub.execute_input": "2025-08-31T18:03:01.713636Z",
     "iopub.status.busy": "2025-08-31T18:03:01.713214Z",
     "iopub.status.idle": "2025-08-31T18:03:07.096805Z",
     "shell.execute_reply": "2025-08-31T18:03:07.095389Z"
    },
    "papermill": {
     "duration": 5.391927,
     "end_time": "2025-08-31T18:03:07.098648",
     "exception": false,
     "start_time": "2025-08-31T18:03:01.706721",
     "status": "completed"
    },
    "tags": []
   },
   "outputs": [],
   "source": [
    "import os \n",
    "import sys\n",
    "sys.path.append(os.path.abspath(os.path.join('..')))\n",
    "\n",
    "import pandas as pd\n",
    "import numpy as np\n",
    "\n",
    "from xgboost import XGBClassifier\n",
    "from sklearn.model_selection import GridSearchCV\n",
    "import optuna\n",
    "optuna.logging.set_verbosity(optuna.logging.WARNING)\n",
    "from sklearn.metrics import accuracy_score, f1_score, recall_score, precision_score, confusion_matrix, ConfusionMatrixDisplay\n",
    "\n",
    "import matplotlib.pyplot as plt\n",
    "\n",
    "import warnings\n",
    "warnings.filterwarnings(\"ignore\")"
   ]
  },
  {
   "cell_type": "markdown",
   "id": "c4ab3ee1",
   "metadata": {
    "papermill": {
     "duration": 0.004941,
     "end_time": "2025-08-31T18:03:07.108566",
     "exception": false,
     "start_time": "2025-08-31T18:03:07.103625",
     "status": "completed"
    },
    "tags": []
   },
   "source": [
    "### **Prepare train, test data**"
   ]
  },
  {
   "cell_type": "code",
   "execution_count": 3,
   "id": "4e49e843",
   "metadata": {
    "execution": {
     "iopub.execute_input": "2025-08-31T18:03:07.120810Z",
     "iopub.status.busy": "2025-08-31T18:03:07.119896Z",
     "iopub.status.idle": "2025-08-31T18:03:08.017964Z",
     "shell.execute_reply": "2025-08-31T18:03:08.016878Z"
    },
    "papermill": {
     "duration": 0.906413,
     "end_time": "2025-08-31T18:03:08.020221",
     "exception": false,
     "start_time": "2025-08-31T18:03:07.113808",
     "status": "completed"
    },
    "tags": []
   },
   "outputs": [],
   "source": [
    "train_df = pd.read_csv('/kaggle/input/diabetes-dataset/train_data.csv')\n",
    "test_df = pd.read_csv('/kaggle/input/diabetes-dataset/test_data.csv')"
   ]
  },
  {
   "cell_type": "code",
   "execution_count": 4,
   "id": "1dde745f",
   "metadata": {
    "execution": {
     "iopub.execute_input": "2025-08-31T18:03:08.031691Z",
     "iopub.status.busy": "2025-08-31T18:03:08.031347Z",
     "iopub.status.idle": "2025-08-31T18:03:08.072578Z",
     "shell.execute_reply": "2025-08-31T18:03:08.071448Z"
    },
    "papermill": {
     "duration": 0.049038,
     "end_time": "2025-08-31T18:03:08.074455",
     "exception": false,
     "start_time": "2025-08-31T18:03:08.025417",
     "status": "completed"
    },
    "tags": []
   },
   "outputs": [],
   "source": [
    "X_train = train_df.drop(columns=['diabetes'])\n",
    "y_train = train_df['diabetes']\n",
    "X_test = test_df.drop(columns=['diabetes'])\n",
    "y_test = test_df['diabetes']"
   ]
  },
  {
   "cell_type": "markdown",
   "id": "39c1cab4",
   "metadata": {
    "papermill": {
     "duration": 0.00426,
     "end_time": "2025-08-31T18:03:08.084131",
     "exception": false,
     "start_time": "2025-08-31T18:03:08.079871",
     "status": "completed"
    },
    "tags": []
   },
   "source": [
    "### **Initialize model**"
   ]
  },
  {
   "cell_type": "code",
   "execution_count": 5,
   "id": "aac83bf8",
   "metadata": {
    "execution": {
     "iopub.execute_input": "2025-08-31T18:03:08.094679Z",
     "iopub.status.busy": "2025-08-31T18:03:08.094331Z",
     "iopub.status.idle": "2025-08-31T18:03:08.098903Z",
     "shell.execute_reply": "2025-08-31T18:03:08.097945Z"
    },
    "papermill": {
     "duration": 0.011587,
     "end_time": "2025-08-31T18:03:08.100580",
     "exception": false,
     "start_time": "2025-08-31T18:03:08.088993",
     "status": "completed"
    },
    "tags": []
   },
   "outputs": [],
   "source": [
    "model = XGBClassifier()"
   ]
  },
  {
   "cell_type": "code",
   "execution_count": 6,
   "id": "1940633b",
   "metadata": {
    "execution": {
     "iopub.execute_input": "2025-08-31T18:03:08.111708Z",
     "iopub.status.busy": "2025-08-31T18:03:08.111222Z",
     "iopub.status.idle": "2025-08-31T18:03:09.174211Z",
     "shell.execute_reply": "2025-08-31T18:03:09.172870Z"
    },
    "papermill": {
     "duration": 1.070638,
     "end_time": "2025-08-31T18:03:09.176168",
     "exception": false,
     "start_time": "2025-08-31T18:03:08.105530",
     "status": "completed"
    },
    "tags": []
   },
   "outputs": [
    {
     "data": {
      "text/html": [
       "<style>#sk-container-id-1 {color: black;background-color: white;}#sk-container-id-1 pre{padding: 0;}#sk-container-id-1 div.sk-toggleable {background-color: white;}#sk-container-id-1 label.sk-toggleable__label {cursor: pointer;display: block;width: 100%;margin-bottom: 0;padding: 0.3em;box-sizing: border-box;text-align: center;}#sk-container-id-1 label.sk-toggleable__label-arrow:before {content: \"▸\";float: left;margin-right: 0.25em;color: #696969;}#sk-container-id-1 label.sk-toggleable__label-arrow:hover:before {color: black;}#sk-container-id-1 div.sk-estimator:hover label.sk-toggleable__label-arrow:before {color: black;}#sk-container-id-1 div.sk-toggleable__content {max-height: 0;max-width: 0;overflow: hidden;text-align: left;background-color: #f0f8ff;}#sk-container-id-1 div.sk-toggleable__content pre {margin: 0.2em;color: black;border-radius: 0.25em;background-color: #f0f8ff;}#sk-container-id-1 input.sk-toggleable__control:checked~div.sk-toggleable__content {max-height: 200px;max-width: 100%;overflow: auto;}#sk-container-id-1 input.sk-toggleable__control:checked~label.sk-toggleable__label-arrow:before {content: \"▾\";}#sk-container-id-1 div.sk-estimator input.sk-toggleable__control:checked~label.sk-toggleable__label {background-color: #d4ebff;}#sk-container-id-1 div.sk-label input.sk-toggleable__control:checked~label.sk-toggleable__label {background-color: #d4ebff;}#sk-container-id-1 input.sk-hidden--visually {border: 0;clip: rect(1px 1px 1px 1px);clip: rect(1px, 1px, 1px, 1px);height: 1px;margin: -1px;overflow: hidden;padding: 0;position: absolute;width: 1px;}#sk-container-id-1 div.sk-estimator {font-family: monospace;background-color: #f0f8ff;border: 1px dotted black;border-radius: 0.25em;box-sizing: border-box;margin-bottom: 0.5em;}#sk-container-id-1 div.sk-estimator:hover {background-color: #d4ebff;}#sk-container-id-1 div.sk-parallel-item::after {content: \"\";width: 100%;border-bottom: 1px solid gray;flex-grow: 1;}#sk-container-id-1 div.sk-label:hover label.sk-toggleable__label {background-color: #d4ebff;}#sk-container-id-1 div.sk-serial::before {content: \"\";position: absolute;border-left: 1px solid gray;box-sizing: border-box;top: 0;bottom: 0;left: 50%;z-index: 0;}#sk-container-id-1 div.sk-serial {display: flex;flex-direction: column;align-items: center;background-color: white;padding-right: 0.2em;padding-left: 0.2em;position: relative;}#sk-container-id-1 div.sk-item {position: relative;z-index: 1;}#sk-container-id-1 div.sk-parallel {display: flex;align-items: stretch;justify-content: center;background-color: white;position: relative;}#sk-container-id-1 div.sk-item::before, #sk-container-id-1 div.sk-parallel-item::before {content: \"\";position: absolute;border-left: 1px solid gray;box-sizing: border-box;top: 0;bottom: 0;left: 50%;z-index: -1;}#sk-container-id-1 div.sk-parallel-item {display: flex;flex-direction: column;z-index: 1;position: relative;background-color: white;}#sk-container-id-1 div.sk-parallel-item:first-child::after {align-self: flex-end;width: 50%;}#sk-container-id-1 div.sk-parallel-item:last-child::after {align-self: flex-start;width: 50%;}#sk-container-id-1 div.sk-parallel-item:only-child::after {width: 0;}#sk-container-id-1 div.sk-dashed-wrapped {border: 1px dashed gray;margin: 0 0.4em 0.5em 0.4em;box-sizing: border-box;padding-bottom: 0.4em;background-color: white;}#sk-container-id-1 div.sk-label label {font-family: monospace;font-weight: bold;display: inline-block;line-height: 1.2em;}#sk-container-id-1 div.sk-label-container {text-align: center;}#sk-container-id-1 div.sk-container {/* jupyter's `normalize.less` sets `[hidden] { display: none; }` but bootstrap.min.css set `[hidden] { display: none !important; }` so we also need the `!important` here to be able to override the default hidden behavior on the sphinx rendered scikit-learn.org. See: https://github.com/scikit-learn/scikit-learn/issues/21755 */display: inline-block !important;position: relative;}#sk-container-id-1 div.sk-text-repr-fallback {display: none;}</style><div id=\"sk-container-id-1\" class=\"sk-top-container\"><div class=\"sk-text-repr-fallback\"><pre>XGBClassifier(base_score=None, booster=None, callbacks=None,\n",
       "              colsample_bylevel=None, colsample_bynode=None,\n",
       "              colsample_bytree=None, device=None, early_stopping_rounds=None,\n",
       "              enable_categorical=False, eval_metric=None, feature_types=None,\n",
       "              gamma=None, grow_policy=None, importance_type=None,\n",
       "              interaction_constraints=None, learning_rate=None, max_bin=None,\n",
       "              max_cat_threshold=None, max_cat_to_onehot=None,\n",
       "              max_delta_step=None, max_depth=None, max_leaves=None,\n",
       "              min_child_weight=None, missing=nan, monotone_constraints=None,\n",
       "              multi_strategy=None, n_estimators=None, n_jobs=None,\n",
       "              num_parallel_tree=None, random_state=None, ...)</pre><b>In a Jupyter environment, please rerun this cell to show the HTML representation or trust the notebook. <br />On GitHub, the HTML representation is unable to render, please try loading this page with nbviewer.org.</b></div><div class=\"sk-container\" hidden><div class=\"sk-item\"><div class=\"sk-estimator sk-toggleable\"><input class=\"sk-toggleable__control sk-hidden--visually\" id=\"sk-estimator-id-1\" type=\"checkbox\" checked><label for=\"sk-estimator-id-1\" class=\"sk-toggleable__label sk-toggleable__label-arrow\">XGBClassifier</label><div class=\"sk-toggleable__content\"><pre>XGBClassifier(base_score=None, booster=None, callbacks=None,\n",
       "              colsample_bylevel=None, colsample_bynode=None,\n",
       "              colsample_bytree=None, device=None, early_stopping_rounds=None,\n",
       "              enable_categorical=False, eval_metric=None, feature_types=None,\n",
       "              gamma=None, grow_policy=None, importance_type=None,\n",
       "              interaction_constraints=None, learning_rate=None, max_bin=None,\n",
       "              max_cat_threshold=None, max_cat_to_onehot=None,\n",
       "              max_delta_step=None, max_depth=None, max_leaves=None,\n",
       "              min_child_weight=None, missing=nan, monotone_constraints=None,\n",
       "              multi_strategy=None, n_estimators=None, n_jobs=None,\n",
       "              num_parallel_tree=None, random_state=None, ...)</pre></div></div></div></div></div>"
      ],
      "text/plain": [
       "XGBClassifier(base_score=None, booster=None, callbacks=None,\n",
       "              colsample_bylevel=None, colsample_bynode=None,\n",
       "              colsample_bytree=None, device=None, early_stopping_rounds=None,\n",
       "              enable_categorical=False, eval_metric=None, feature_types=None,\n",
       "              gamma=None, grow_policy=None, importance_type=None,\n",
       "              interaction_constraints=None, learning_rate=None, max_bin=None,\n",
       "              max_cat_threshold=None, max_cat_to_onehot=None,\n",
       "              max_delta_step=None, max_depth=None, max_leaves=None,\n",
       "              min_child_weight=None, missing=nan, monotone_constraints=None,\n",
       "              multi_strategy=None, n_estimators=None, n_jobs=None,\n",
       "              num_parallel_tree=None, random_state=None, ...)"
      ]
     },
     "execution_count": 6,
     "metadata": {},
     "output_type": "execute_result"
    }
   ],
   "source": [
    "model.fit(X_train, y_train)"
   ]
  },
  {
   "cell_type": "code",
   "execution_count": 7,
   "id": "c5511d33",
   "metadata": {
    "execution": {
     "iopub.execute_input": "2025-08-31T18:03:09.187488Z",
     "iopub.status.busy": "2025-08-31T18:03:09.187160Z",
     "iopub.status.idle": "2025-08-31T18:03:09.232106Z",
     "shell.execute_reply": "2025-08-31T18:03:09.231446Z"
    },
    "papermill": {
     "duration": 0.052669,
     "end_time": "2025-08-31T18:03:09.234098",
     "exception": false,
     "start_time": "2025-08-31T18:03:09.181429",
     "status": "completed"
    },
    "tags": []
   },
   "outputs": [],
   "source": [
    "y_pred = model.predict(X_test)"
   ]
  },
  {
   "cell_type": "code",
   "execution_count": 8,
   "id": "5edd44ed",
   "metadata": {
    "execution": {
     "iopub.execute_input": "2025-08-31T18:03:09.247602Z",
     "iopub.status.busy": "2025-08-31T18:03:09.247224Z",
     "iopub.status.idle": "2025-08-31T18:03:09.254148Z",
     "shell.execute_reply": "2025-08-31T18:03:09.253192Z"
    },
    "papermill": {
     "duration": 0.015639,
     "end_time": "2025-08-31T18:03:09.256100",
     "exception": false,
     "start_time": "2025-08-31T18:03:09.240461",
     "status": "completed"
    },
    "tags": []
   },
   "outputs": [
    {
     "data": {
      "text/plain": [
       "array([0, 0, 1, ..., 1, 0, 0])"
      ]
     },
     "execution_count": 8,
     "metadata": {},
     "output_type": "execute_result"
    }
   ],
   "source": [
    "y_pred"
   ]
  },
  {
   "cell_type": "code",
   "execution_count": 9,
   "id": "13226f49",
   "metadata": {
    "execution": {
     "iopub.execute_input": "2025-08-31T18:03:09.268009Z",
     "iopub.status.busy": "2025-08-31T18:03:09.267015Z",
     "iopub.status.idle": "2025-08-31T18:03:09.636962Z",
     "shell.execute_reply": "2025-08-31T18:03:09.635644Z"
    },
    "papermill": {
     "duration": 0.377527,
     "end_time": "2025-08-31T18:03:09.638789",
     "exception": false,
     "start_time": "2025-08-31T18:03:09.261262",
     "status": "completed"
    },
    "tags": []
   },
   "outputs": [
    {
     "name": "stdout",
     "output_type": "stream",
     "text": [
      "Accuracy:  0.9712413724117235\n",
      "Recall:  0.6976470588235294\n",
      "Precision:  0.9510825982357658\n",
      "F1 Score:  0.8048863250763488\n"
     ]
    },
    {
     "data": {
      "image/png": "[encoded data removed]",
      "text/plain": [
       "<Figure size 640x480 with 2 Axes>"
      ]
     },
     "metadata": {},
     "output_type": "display_data"
    }
   ],
   "source": [
    "print(\"Accuracy: \", accuracy_score(y_test, y_pred))\n",
    "print(\"Recall: \", recall_score(y_test, y_pred))\n",
    "print(\"Precision: \", precision_score(y_test, y_pred))\n",
    "print(\"F1 Score: \", f1_score(y_test, y_pred))\n",
    "ConfusionMatrixDisplay(confusion_matrix(y_test, y_pred)).plot(cmap=plt.cm.cividis)\n",
    "\n",
    "plt.title(\"Confusion Matrix for XGBoost\", fontsize=14, weight='bold')\n",
    "plt.show()"
   ]
  },
  {
   "cell_type": "markdown",
   "id": "a2a293af",
   "metadata": {
    "papermill": {
     "duration": 0.005081,
     "end_time": "2025-08-31T18:03:09.649940",
     "exception": false,
     "start_time": "2025-08-31T18:03:09.644859",
     "status": "completed"
    },
    "tags": []
   },
   "source": [
    "### **Fine-tune hyperparameters**"
   ]
  },
  {
   "cell_type": "code",
   "execution_count": 10,
   "id": "fecf6110",
   "metadata": {
    "execution": {
     "iopub.execute_input": "2025-08-31T18:03:09.662381Z",
     "iopub.status.busy": "2025-08-31T18:03:09.662070Z",
     "iopub.status.idle": "2025-09-01T05:03:10.771639Z",
     "shell.execute_reply": "2025-09-01T05:03:10.770871Z"
    },
    "papermill": {
     "duration": 39601.12963,
     "end_time": "2025-09-01T05:03:10.785430",
     "exception": false,
     "start_time": "2025-08-31T18:03:09.655800",
     "status": "completed"
    },
    "tags": []
   },
   "outputs": [
    {
     "name": "stdout",
     "output_type": "stream",
     "text": [
      "Best parameters: {'n_estimators': 782, 'max_depth': 12, 'learning_rate': 0.009333120474551022, 'subsample': 0.7875035475730751, 'colsample_bytree': 0.9120209185457265, 'gamma': 4.3108706300263036, 'min_child_weight': 1, 'reg_alpha': 1.4213556873200199e-05, 'reg_lambda': 5.352743316340335e-07}\n",
      "Best CV accuracy: 0.9729418825647694\n"
     ]
    }
   ],
   "source": [
    "def objective(trial):\n",
    "    params = {\n",
    "        \"n_estimators\": trial.suggest_int(\"n_estimators\", 100, 1000),\n",
    "        \"max_depth\": trial.suggest_int(\"max_depth\", 3, 12),\n",
    "        \"learning_rate\": trial.suggest_float(\"learning_rate\", 1e-3, 0.3, log=True),\n",
    "        \"subsample\": trial.suggest_float(\"subsample\", 0.5, 1.0),\n",
    "        \"colsample_bytree\": trial.suggest_float(\"colsample_bytree\", 0.5, 1.0),\n",
    "        \"gamma\": trial.suggest_float(\"gamma\", 0, 10),\n",
    "        \"min_child_weight\": trial.suggest_int(\"min_child_weight\", 1, 10),\n",
    "        \"reg_alpha\": trial.suggest_float(\"reg_alpha\", 1e-8, 10.0, log=True),\n",
    "        \"reg_lambda\": trial.suggest_float(\"reg_lambda\", 1e-8, 10.0, log=True),\n",
    "        \"use_label_encoder\": False,\n",
    "        \"eval_metric\": \"auc\",\n",
    "        'verbosity': 0\n",
    "    }\n",
    "\n",
    "    model = XGBClassifier(**params, n_jobs=-1, random_state=42)\n",
    "\n",
    "    model.fit(\n",
    "        X_train, y_train,\n",
    "    )\n",
    "\n",
    "    preds = model.predict(X_test)\n",
    "    return accuracy_score(y_test, preds)\n",
    "\n",
    "study = optuna.create_study(direction=\"maximize\")\n",
    "study.optimize(objective, n_trials=100000, timeout=39600)  # 50 trials or 10 mins\n",
    "\n",
    "print(\"Best parameters:\", study.best_params)\n",
    "print(\"Best CV accuracy:\", study.best_value)"
   ]
  },
  {
   "cell_type": "code",
   "execution_count": 11,
   "id": "456505c6",
   "metadata": {
    "execution": {
     "iopub.execute_input": "2025-09-01T05:03:10.799879Z",
     "iopub.status.busy": "2025-09-01T05:03:10.799504Z",
     "iopub.status.idle": "2025-09-01T05:03:10.804624Z",
     "shell.execute_reply": "2025-09-01T05:03:10.803557Z"
    },
    "papermill": {
     "duration": 0.013927,
     "end_time": "2025-09-01T05:03:10.806232",
     "exception": false,
     "start_time": "2025-09-01T05:03:10.792305",
     "status": "completed"
    },
    "tags": []
   },
   "outputs": [],
   "source": [
    "best_model = XGBClassifier(\n",
    "    **study.best_params, \n",
    "    eval_metric='auc', \n",
    "    use_label_encoder=False, \n",
    "    n_jobs=-1, \n",
    "    verbosity=0,\n",
    "    random_state=42\n",
    ")"
   ]
  },
  {
   "cell_type": "code",
   "execution_count": 12,
   "id": "80d18651",
   "metadata": {
    "execution": {
     "iopub.execute_input": "2025-09-01T05:03:10.819111Z",
     "iopub.status.busy": "2025-09-01T05:03:10.818801Z",
     "iopub.status.idle": "2025-09-01T05:03:17.219706Z",
     "shell.execute_reply": "2025-09-01T05:03:17.218952Z"
    },
    "papermill": {
     "duration": 6.410297,
     "end_time": "2025-09-01T05:03:17.222336",
     "exception": false,
     "start_time": "2025-09-01T05:03:10.812039",
     "status": "completed"
    },
    "tags": []
   },
   "outputs": [
    {
     "data": {
      "text/html": [
       "<style>#sk-container-id-2 {color: black;background-color: white;}#sk-container-id-2 pre{padding: 0;}#sk-container-id-2 div.sk-toggleable {background-color: white;}#sk-container-id-2 label.sk-toggleable__label {cursor: pointer;display: block;width: 100%;margin-bottom: 0;padding: 0.3em;box-sizing: border-box;text-align: center;}#sk-container-id-2 label.sk-toggleable__label-arrow:before {content: \"▸\";float: left;margin-right: 0.25em;color: #696969;}#sk-container-id-2 label.sk-toggleable__label-arrow:hover:before {color: black;}#sk-container-id-2 div.sk-estimator:hover label.sk-toggleable__label-arrow:before {color: black;}#sk-container-id-2 div.sk-toggleable__content {max-height: 0;max-width: 0;overflow: hidden;text-align: left;background-color: #f0f8ff;}#sk-container-id-2 div.sk-toggleable__content pre {margin: 0.2em;color: black;border-radius: 0.25em;background-color: #f0f8ff;}#sk-container-id-2 input.sk-toggleable__control:checked~div.sk-toggleable__content {max-height: 200px;max-width: 100%;overflow: auto;}#sk-container-id-2 input.sk-toggleable__control:checked~label.sk-toggleable__label-arrow:before {content: \"▾\";}#sk-container-id-2 div.sk-estimator input.sk-toggleable__control:checked~label.sk-toggleable__label {background-color: #d4ebff;}#sk-container-id-2 div.sk-label input.sk-toggleable__control:checked~label.sk-toggleable__label {background-color: #d4ebff;}#sk-container-id-2 input.sk-hidden--visually {border: 0;clip: rect(1px 1px 1px 1px);clip: rect(1px, 1px, 1px, 1px);height: 1px;margin: -1px;overflow: hidden;padding: 0;position: absolute;width: 1px;}#sk-container-id-2 div.sk-estimator {font-family: monospace;background-color: #f0f8ff;border: 1px dotted black;border-radius: 0.25em;box-sizing: border-box;margin-bottom: 0.5em;}#sk-container-id-2 div.sk-estimator:hover {background-color: #d4ebff;}#sk-container-id-2 div.sk-parallel-item::after {content: \"\";width: 100%;border-bottom: 1px solid gray;flex-grow: 1;}#sk-container-id-2 div.sk-label:hover label.sk-toggleable__label {background-color: #d4ebff;}#sk-container-id-2 div.sk-serial::before {content: \"\";position: absolute;border-left: 1px solid gray;box-sizing: border-box;top: 0;bottom: 0;left: 50%;z-index: 0;}#sk-container-id-2 div.sk-serial {display: flex;flex-direction: column;align-items: center;background-color: white;padding-right: 0.2em;padding-left: 0.2em;position: relative;}#sk-container-id-2 div.sk-item {position: relative;z-index: 1;}#sk-container-id-2 div.sk-parallel {display: flex;align-items: stretch;justify-content: center;background-color: white;position: relative;}#sk-container-id-2 div.sk-item::before, #sk-container-id-2 div.sk-parallel-item::before {content: \"\";position: absolute;border-left: 1px solid gray;box-sizing: border-box;top: 0;bottom: 0;left: 50%;z-index: -1;}#sk-container-id-2 div.sk-parallel-item {display: flex;flex-direction: column;z-index: 1;position: relative;background-color: white;}#sk-container-id-2 div.sk-parallel-item:first-child::after {align-self: flex-end;width: 50%;}#sk-container-id-2 div.sk-parallel-item:last-child::after {align-self: flex-start;width: 50%;}#sk-container-id-2 div.sk-parallel-item:only-child::after {width: 0;}#sk-container-id-2 div.sk-dashed-wrapped {border: 1px dashed gray;margin: 0 0.4em 0.5em 0.4em;box-sizing: border-box;padding-bottom: 0.4em;background-color: white;}#sk-container-id-2 div.sk-label label {font-family: monospace;font-weight: bold;display: inline-block;line-height: 1.2em;}#sk-container-id-2 div.sk-label-container {text-align: center;}#sk-container-id-2 div.sk-container {/* jupyter's `normalize.less` sets `[hidden] { display: none; }` but bootstrap.min.css set `[hidden] { display: none !important; }` so we also need the `!important` here to be able to override the default hidden behavior on the sphinx rendered scikit-learn.org. See: https://github.com/scikit-learn/scikit-learn/issues/21755 */display: inline-block !important;position: relative;}#sk-container-id-2 div.sk-text-repr-fallback {display: none;}</style><div id=\"sk-container-id-2\" class=\"sk-top-container\"><div class=\"sk-text-repr-fallback\"><pre>XGBClassifier(base_score=None, booster=None, callbacks=None,\n",
       "              colsample_bylevel=None, colsample_bynode=None,\n",
       "              colsample_bytree=0.9120209185457265, device=None,\n",
       "              early_stopping_rounds=None, enable_categorical=False,\n",
       "              eval_metric=&#x27;auc&#x27;, feature_types=None, gamma=4.3108706300263036,\n",
       "              grow_policy=None, importance_type=None,\n",
       "              interaction_constraints=None, learning_rate=0.009333120474551022,\n",
       "              max_bin=None, max_cat_threshold=None, max_cat_to_onehot=None,\n",
       "              max_delta_step=None, max_depth=12, max_leaves=None,\n",
       "              min_child_weight=1, missing=nan, monotone_constraints=None,\n",
       "              multi_strategy=None, n_estimators=782, n_jobs=-1,\n",
       "              num_parallel_tree=None, random_state=42, ...)</pre><b>In a Jupyter environment, please rerun this cell to show the HTML representation or trust the notebook. <br />On GitHub, the HTML representation is unable to render, please try loading this page with nbviewer.org.</b></div><div class=\"sk-container\" hidden><div class=\"sk-item\"><div class=\"sk-estimator sk-toggleable\"><input class=\"sk-toggleable__control sk-hidden--visually\" id=\"sk-estimator-id-2\" type=\"checkbox\" checked><label for=\"sk-estimator-id-2\" class=\"sk-toggleable__label sk-toggleable__label-arrow\">XGBClassifier</label><div class=\"sk-toggleable__content\"><pre>XGBClassifier(base_score=None, booster=None, callbacks=None,\n",
       "              colsample_bylevel=None, colsample_bynode=None,\n",
       "              colsample_bytree=0.9120209185457265, device=None,\n",
       "              early_stopping_rounds=None, enable_categorical=False,\n",
       "              eval_metric=&#x27;auc&#x27;, feature_types=None, gamma=4.3108706300263036,\n",
       "              grow_policy=None, importance_type=None,\n",
       "              interaction_constraints=None, learning_rate=0.009333120474551022,\n",
       "              max_bin=None, max_cat_threshold=None, max_cat_to_onehot=None,\n",
       "              max_delta_step=None, max_depth=12, max_leaves=None,\n",
       "              min_child_weight=1, missing=nan, monotone_constraints=None,\n",
       "              multi_strategy=None, n_estimators=782, n_jobs=-1,\n",
       "              num_parallel_tree=None, random_state=42, ...)</pre></div></div></div></div></div>"
      ],
      "text/plain": [
       "XGBClassifier(base_score=None, booster=None, callbacks=None,\n",
       "              colsample_bylevel=None, colsample_bynode=None,\n",
       "              colsample_bytree=0.9120209185457265, device=None,\n",
       "              early_stopping_rounds=None, enable_categorical=False,\n",
       "              eval_metric='auc', feature_types=None, gamma=4.3108706300263036,\n",
       "              grow_policy=None, importance_type=None,\n",
       "              interaction_constraints=None, learning_rate=0.009333120474551022,\n",
       "              max_bin=None, max_cat_threshold=None, max_cat_to_onehot=None,\n",
       "              max_delta_step=None, max_depth=12, max_leaves=None,\n",
       "              min_child_weight=1, missing=nan, monotone_constraints=None,\n",
       "              multi_strategy=None, n_estimators=782, n_jobs=-1,\n",
       "              num_parallel_tree=None, random_state=42, ...)"
      ]
     },
     "execution_count": 12,
     "metadata": {},
     "output_type": "execute_result"
    }
   ],
   "source": [
    "best_model.fit(X_train, y_train)"
   ]
  },
  {
   "cell_type": "code",
   "execution_count": 13,
   "id": "aeef7a45",
   "metadata": {
    "execution": {
     "iopub.execute_input": "2025-09-01T05:03:17.235528Z",
     "iopub.status.busy": "2025-09-01T05:03:17.235188Z",
     "iopub.status.idle": "2025-09-01T05:03:17.421154Z",
     "shell.execute_reply": "2025-09-01T05:03:17.420458Z"
    },
    "papermill": {
     "duration": 0.19462,
     "end_time": "2025-09-01T05:03:17.423021",
     "exception": false,
     "start_time": "2025-09-01T05:03:17.228401",
     "status": "completed"
    },
    "tags": []
   },
   "outputs": [],
   "source": [
    "best_y_pred = best_model.predict(X_test)"
   ]
  },
  {
   "cell_type": "code",
   "execution_count": 14,
   "id": "d9241dce",
   "metadata": {
    "execution": {
     "iopub.execute_input": "2025-09-01T05:03:17.439550Z",
     "iopub.status.busy": "2025-09-01T05:03:17.439133Z",
     "iopub.status.idle": "2025-09-01T05:03:17.655604Z",
     "shell.execute_reply": "2025-09-01T05:03:17.654448Z"
    },
    "papermill": {
     "duration": 0.225907,
     "end_time": "2025-09-01T05:03:17.657298",
     "exception": false,
     "start_time": "2025-09-01T05:03:17.431391",
     "status": "completed"
    },
    "tags": []
   },
   "outputs": [
    {
     "name": "stdout",
     "output_type": "stream",
     "text": [
      "Accuracy:  0.9729418825647694\n",
      "Recall:  0.6888235294117647\n",
      "Precision:  0.9898562975486053\n",
      "F1 Score:  0.8123482483524107\n"
     ]
    },
    {
     "data": {
      "image/png": "[encoded data removed]",
      "text/plain": [
       "<Figure size 640x480 with 2 Axes>"
      ]
     },
     "metadata": {},
     "output_type": "display_data"
    }
   ],
   "source": [
    "print(\"Accuracy: \", accuracy_score(y_test, best_y_pred))\n",
    "print(\"Recall: \", recall_score(y_test, best_y_pred))\n",
    "print(\"Precision: \", precision_score(y_test, best_y_pred))\n",
    "print(\"F1 Score: \", f1_score(y_test, best_y_pred))\n",
    "ConfusionMatrixDisplay(confusion_matrix(y_test, best_y_pred)).plot(cmap=plt.cm.cividis)\n",
    "\n",
    "plt.title(\"Confusion Matrix for XGBoost\", fontsize=14, weight='bold')\n",
    "plt.show()"
   ]
  },
  {
   "cell_type": "markdown",
   "id": "6c5fb7ce",
   "metadata": {
    "papermill": {
     "duration": 0.00668,
     "end_time": "2025-09-01T05:03:17.671316",
     "exception": false,
     "start_time": "2025-09-01T05:03:17.664636",
     "status": "completed"
    },
    "tags": []
   },
   "source": [
    "### **Save model**"
   ]
  },
  {
   "cell_type": "code",
   "execution_count": 15,
   "id": "45829096",
   "metadata": {
    "execution": {
     "iopub.execute_input": "2025-09-01T05:03:17.686596Z",
     "iopub.status.busy": "2025-09-01T05:03:17.686268Z",
     "iopub.status.idle": "2025-09-01T05:03:17.711830Z",
     "shell.execute_reply": "2025-09-01T05:03:17.710748Z"
    },
    "papermill": {
     "duration": 0.035296,
     "end_time": "2025-09-01T05:03:17.713681",
     "exception": false,
     "start_time": "2025-09-01T05:03:17.678385",
     "status": "completed"
    },
    "tags": []
   },
   "outputs": [
    {
     "data": {
      "text/plain": [
       "['xgb_model.pkl']"
      ]
     },
     "execution_count": 15,
     "metadata": {},
     "output_type": "execute_result"
    }
   ],
   "source": [
    "import joblib\n",
    "joblib.dump(best_model, \"xgb_model.pkl\")"
   ]
  },
  {
   "cell_type": "markdown",
   "id": "a19572b5",
   "metadata": {
    "papermill": {
     "duration": 0.006127,
     "end_time": "2025-09-01T05:03:17.726382",
     "exception": false,
     "start_time": "2025-09-01T05:03:17.720255",
     "status": "completed"
    },
    "tags": []
   },
   "source": [
    "### **Load model**"
   ]
  },
  {
   "cell_type": "code",
   "execution_count": 16,
   "id": "5e7bcb50",
   "metadata": {
    "execution": {
     "iopub.execute_input": "2025-09-01T05:03:17.742101Z",
     "iopub.status.busy": "2025-09-01T05:03:17.741759Z",
     "iopub.status.idle": "2025-09-01T05:03:17.771753Z",
     "shell.execute_reply": "2025-09-01T05:03:17.771002Z"
    },
    "papermill": {
     "duration": 0.040357,
     "end_time": "2025-09-01T05:03:17.773989",
     "exception": false,
     "start_time": "2025-09-01T05:03:17.733632",
     "status": "completed"
    },
    "tags": []
   },
   "outputs": [],
   "source": [
    "model = joblib.load(\"xgb_model.pkl\")"
   ]
  },
  {
   "cell_type": "code",
   "execution_count": 17,
   "id": "87202e75",
   "metadata": {
    "execution": {
     "iopub.execute_input": "2025-09-01T05:03:17.796302Z",
     "iopub.status.busy": "2025-09-01T05:03:17.794173Z",
     "iopub.status.idle": "2025-09-01T05:03:17.989835Z",
     "shell.execute_reply": "2025-09-01T05:03:17.989137Z"
    },
    "papermill": {
     "duration": 0.208898,
     "end_time": "2025-09-01T05:03:17.991726",
     "exception": false,
     "start_time": "2025-09-01T05:03:17.782828",
     "status": "completed"
    },
    "tags": []
   },
   "outputs": [],
   "source": [
    "y_pred = model.predict(X_test)"
   ]
  },
  {
   "cell_type": "code",
   "execution_count": 18,
   "id": "e9a89833",
   "metadata": {
    "execution": {
     "iopub.execute_input": "2025-09-01T05:03:18.009156Z",
     "iopub.status.busy": "2025-09-01T05:03:18.008832Z",
     "iopub.status.idle": "2025-09-01T05:03:18.225403Z",
     "shell.execute_reply": "2025-09-01T05:03:18.224351Z"
    },
    "papermill": {
     "duration": 0.226938,
     "end_time": "2025-09-01T05:03:18.227245",
     "exception": false,
     "start_time": "2025-09-01T05:03:18.000307",
     "status": "completed"
    },
    "tags": []
   },
   "outputs": [
    {
     "name": "stdout",
     "output_type": "stream",
     "text": [
      "Accuracy:  0.9729418825647694\n",
      "Recall:  0.6888235294117647\n",
      "Precision:  0.9898562975486053\n",
      "F1 Score:  0.8123482483524107\n"
     ]
    },
    {
     "data": {
      "image/png": "[encoded data removed]",
      "text/plain": [
       "<Figure size 640x480 with 2 Axes>"
      ]
     },
     "metadata": {},
     "output_type": "display_data"
    }
   ],
   "source": [
    "print(\"Accuracy: \", accuracy_score(y_test, y_pred))\n",
    "print(\"Recall: \", recall_score(y_test, y_pred))\n",
    "print(\"Precision: \", precision_score(y_test, y_pred))\n",
    "print(\"F1 Score: \", f1_score(y_test, y_pred))\n",
    "ConfusionMatrixDisplay(confusion_matrix(y_test, y_pred)).plot(cmap=plt.cm.cividis)\n",
    "\n",
    "plt.title(\"Confusion Matrix for XGBoost\", fontsize=14, weight='bold')\n",
    "plt.show()"
   ]
  }
 ],
 "metadata": {
  "kaggle": {
   "accelerator": "none",
   "dataSources": [
    {
     "datasetId": 8145041,
     "sourceId": 12875545,
     "sourceType": "datasetVersion"
    }
   ],
   "dockerImageVersionId": 31089,
   "isGpuEnabled": false,
   "isInternetEnabled": true,
   "language": "python",
   "sourceType": "notebook"
  },
  "kernelspec": {
   "display_name": "env",
   "language": "python",
   "name": "python3"
  },
  "language_info": {
   "codemirror_mode": {
    "name": "ipython",
    "version": 3
   },
   "file_extension": ".py",
   "mimetype": "text/x-python",
   "name": "python",
   "nbconvert_exporter": "python",
   "pygments_lexer": "ipython3",
   "version": "3.11.9"
  },
  "papermill": {
   "default_parameters": {},
   "duration": 39629.531141,
   "end_time": "2025-09-01T05:03:19.207650",
   "environment_variables": {},
   "exception": null,
   "input_path": "__notebook__.ipynb",
   "output_path": "__notebook__.ipynb",
   "parameters": {},
   "start_time": "2025-08-31T18:02:49.676509",
   "version": "2.6.0"
  }
 },
 "nbformat": 4,
 "nbformat_minor": 5
}
