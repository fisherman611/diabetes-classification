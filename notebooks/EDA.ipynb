{
 "cells": [
  {
   "cell_type": "markdown",
   "id": "8220d063",
   "metadata": {},
   "source": [
    "## **Exploratory Data Analysis**"
   ]
  },
  {
   "cell_type": "markdown",
   "id": "c1967e80",
   "metadata": {},
   "source": [
    "### **Import necessary libraries**"
   ]
  },
  {
   "cell_type": "code",
   "execution_count": 1,
   "id": "34955028",
   "metadata": {},
   "outputs": [],
   "source": [
    "import pandas as pd\n",
    "import numpy as np\n",
    "import os\n",
    "import sys\n",
    "sys.path.append(os.path.abspath(os.path.join('..')))\n",
    "\n",
    "import matplotlib.pyplot as plt\n",
    "import seaborn as sns\n",
    "\n",
    "import warnings\n",
    "warnings.filterwarnings(\"ignore\")"
   ]
  },
  {
   "cell_type": "markdown",
   "id": "04cec340",
   "metadata": {},
   "source": [
    "### **Overview the dataset**"
   ]
  },
  {
   "cell_type": "code",
   "execution_count": 2,
   "id": "f551d5e4",
   "metadata": {},
   "outputs": [],
   "source": [
    "df = pd.read_csv('../data/diabetes_dataset_with_notes.csv')"
   ]
  },
  {
   "cell_type": "code",
   "execution_count": 3,
   "id": "143c0ba3",
   "metadata": {},
   "outputs": [
    {
     "data": {
      "text/plain": [
       "(100000, 17)"
      ]
     },
     "execution_count": 3,
     "metadata": {},
     "output_type": "execute_result"
    }
   ],
   "source": [
    "df.shape"
   ]
  },
  {
   "cell_type": "markdown",
   "id": "45d2dd40",
   "metadata": {},
   "source": [
    "We can see that, this dataset has 100,000 rows and 17 columns!!"
   ]
  },
  {
   "cell_type": "code",
   "execution_count": 4,
   "id": "d00b93ec",
   "metadata": {},
   "outputs": [
    {
     "data": {
      "text/html": [
       "<div>\n",
       "<style scoped>\n",
       "    .dataframe tbody tr th:only-of-type {\n",
       "        vertical-align: middle;\n",
       "    }\n",
       "\n",
       "    .dataframe tbody tr th {\n",
       "        vertical-align: top;\n",
       "    }\n",
       "\n",
       "    .dataframe thead th {\n",
       "        text-align: right;\n",
       "    }\n",
       "</style>\n",
       "<table border=\"1\" class=\"dataframe\">\n",
       "  <thead>\n",
       "    <tr style=\"text-align: right;\">\n",
       "      <th></th>\n",
       "      <th>year</th>\n",
       "      <th>gender</th>\n",
       "      <th>age</th>\n",
       "      <th>location</th>\n",
       "      <th>race:AfricanAmerican</th>\n",
       "      <th>race:Asian</th>\n",
       "      <th>race:Caucasian</th>\n",
       "      <th>race:Hispanic</th>\n",
       "      <th>race:Other</th>\n",
       "      <th>hypertension</th>\n",
       "      <th>heart_disease</th>\n",
       "      <th>smoking_history</th>\n",
       "      <th>bmi</th>\n",
       "      <th>hbA1c_level</th>\n",
       "      <th>blood_glucose_level</th>\n",
       "      <th>diabetes</th>\n",
       "      <th>clinical_notes</th>\n",
       "    </tr>\n",
       "  </thead>\n",
       "  <tbody>\n",
       "    <tr>\n",
       "      <th>0</th>\n",
       "      <td>2020</td>\n",
       "      <td>Female</td>\n",
       "      <td>32.0</td>\n",
       "      <td>Alabama</td>\n",
       "      <td>0</td>\n",
       "      <td>0</td>\n",
       "      <td>0</td>\n",
       "      <td>0</td>\n",
       "      <td>1</td>\n",
       "      <td>0</td>\n",
       "      <td>0</td>\n",
       "      <td>never</td>\n",
       "      <td>27.32</td>\n",
       "      <td>5.0</td>\n",
       "      <td>100</td>\n",
       "      <td>0</td>\n",
       "      <td>Overweight, advised dietary and exercise modif...</td>\n",
       "    </tr>\n",
       "    <tr>\n",
       "      <th>1</th>\n",
       "      <td>2015</td>\n",
       "      <td>Female</td>\n",
       "      <td>29.0</td>\n",
       "      <td>Alabama</td>\n",
       "      <td>0</td>\n",
       "      <td>1</td>\n",
       "      <td>0</td>\n",
       "      <td>0</td>\n",
       "      <td>0</td>\n",
       "      <td>0</td>\n",
       "      <td>0</td>\n",
       "      <td>never</td>\n",
       "      <td>19.95</td>\n",
       "      <td>5.0</td>\n",
       "      <td>90</td>\n",
       "      <td>0</td>\n",
       "      <td>Healthy BMI range.</td>\n",
       "    </tr>\n",
       "    <tr>\n",
       "      <th>2</th>\n",
       "      <td>2015</td>\n",
       "      <td>Male</td>\n",
       "      <td>18.0</td>\n",
       "      <td>Alabama</td>\n",
       "      <td>0</td>\n",
       "      <td>0</td>\n",
       "      <td>0</td>\n",
       "      <td>0</td>\n",
       "      <td>1</td>\n",
       "      <td>0</td>\n",
       "      <td>0</td>\n",
       "      <td>never</td>\n",
       "      <td>23.76</td>\n",
       "      <td>4.8</td>\n",
       "      <td>160</td>\n",
       "      <td>0</td>\n",
       "      <td>Young patient, generally lower risk but needs ...</td>\n",
       "    </tr>\n",
       "    <tr>\n",
       "      <th>3</th>\n",
       "      <td>2015</td>\n",
       "      <td>Male</td>\n",
       "      <td>41.0</td>\n",
       "      <td>Alabama</td>\n",
       "      <td>0</td>\n",
       "      <td>0</td>\n",
       "      <td>1</td>\n",
       "      <td>0</td>\n",
       "      <td>0</td>\n",
       "      <td>0</td>\n",
       "      <td>0</td>\n",
       "      <td>never</td>\n",
       "      <td>27.32</td>\n",
       "      <td>4.0</td>\n",
       "      <td>159</td>\n",
       "      <td>0</td>\n",
       "      <td>Overweight, advised dietary and exercise modif...</td>\n",
       "    </tr>\n",
       "    <tr>\n",
       "      <th>4</th>\n",
       "      <td>2016</td>\n",
       "      <td>Female</td>\n",
       "      <td>52.0</td>\n",
       "      <td>Alabama</td>\n",
       "      <td>1</td>\n",
       "      <td>0</td>\n",
       "      <td>0</td>\n",
       "      <td>0</td>\n",
       "      <td>0</td>\n",
       "      <td>0</td>\n",
       "      <td>0</td>\n",
       "      <td>never</td>\n",
       "      <td>23.75</td>\n",
       "      <td>6.5</td>\n",
       "      <td>90</td>\n",
       "      <td>0</td>\n",
       "      <td>Healthy BMI range. High HbA1c level, indicativ...</td>\n",
       "    </tr>\n",
       "  </tbody>\n",
       "</table>\n",
       "</div>"
      ],
      "text/plain": [
       "   year  gender   age location  race:AfricanAmerican  race:Asian  \\\n",
       "0  2020  Female  32.0  Alabama                     0           0   \n",
       "1  2015  Female  29.0  Alabama                     0           1   \n",
       "2  2015    Male  18.0  Alabama                     0           0   \n",
       "3  2015    Male  41.0  Alabama                     0           0   \n",
       "4  2016  Female  52.0  Alabama                     1           0   \n",
       "\n",
       "   race:Caucasian  race:Hispanic  race:Other  hypertension  heart_disease  \\\n",
       "0               0              0           1             0              0   \n",
       "1               0              0           0             0              0   \n",
       "2               0              0           1             0              0   \n",
       "3               1              0           0             0              0   \n",
       "4               0              0           0             0              0   \n",
       "\n",
       "  smoking_history    bmi  hbA1c_level  blood_glucose_level  diabetes  \\\n",
       "0           never  27.32          5.0                  100         0   \n",
       "1           never  19.95          5.0                   90         0   \n",
       "2           never  23.76          4.8                  160         0   \n",
       "3           never  27.32          4.0                  159         0   \n",
       "4           never  23.75          6.5                   90         0   \n",
       "\n",
       "                                      clinical_notes  \n",
       "0  Overweight, advised dietary and exercise modif...  \n",
       "1                                 Healthy BMI range.  \n",
       "2  Young patient, generally lower risk but needs ...  \n",
       "3  Overweight, advised dietary and exercise modif...  \n",
       "4  Healthy BMI range. High HbA1c level, indicativ...  "
      ]
     },
     "execution_count": 4,
     "metadata": {},
     "output_type": "execute_result"
    }
   ],
   "source": [
    "df.head()"
   ]
  },
  {
   "cell_type": "code",
   "execution_count": 5,
   "id": "e5cd986f",
   "metadata": {},
   "outputs": [
    {
     "data": {
      "text/html": [
       "<div>\n",
       "<style scoped>\n",
       "    .dataframe tbody tr th:only-of-type {\n",
       "        vertical-align: middle;\n",
       "    }\n",
       "\n",
       "    .dataframe tbody tr th {\n",
       "        vertical-align: top;\n",
       "    }\n",
       "\n",
       "    .dataframe thead th {\n",
       "        text-align: right;\n",
       "    }\n",
       "</style>\n",
       "<table border=\"1\" class=\"dataframe\">\n",
       "  <thead>\n",
       "    <tr style=\"text-align: right;\">\n",
       "      <th></th>\n",
       "      <th>year</th>\n",
       "      <th>gender</th>\n",
       "      <th>age</th>\n",
       "      <th>location</th>\n",
       "      <th>race:AfricanAmerican</th>\n",
       "      <th>race:Asian</th>\n",
       "      <th>race:Caucasian</th>\n",
       "      <th>race:Hispanic</th>\n",
       "      <th>race:Other</th>\n",
       "      <th>hypertension</th>\n",
       "      <th>heart_disease</th>\n",
       "      <th>smoking_history</th>\n",
       "      <th>bmi</th>\n",
       "      <th>hbA1c_level</th>\n",
       "      <th>blood_glucose_level</th>\n",
       "      <th>diabetes</th>\n",
       "      <th>clinical_notes</th>\n",
       "    </tr>\n",
       "  </thead>\n",
       "  <tbody>\n",
       "    <tr>\n",
       "      <th>99995</th>\n",
       "      <td>2018</td>\n",
       "      <td>Female</td>\n",
       "      <td>33.0</td>\n",
       "      <td>Wyoming</td>\n",
       "      <td>0</td>\n",
       "      <td>0</td>\n",
       "      <td>0</td>\n",
       "      <td>0</td>\n",
       "      <td>1</td>\n",
       "      <td>0</td>\n",
       "      <td>0</td>\n",
       "      <td>never</td>\n",
       "      <td>21.21</td>\n",
       "      <td>6.5</td>\n",
       "      <td>90</td>\n",
       "      <td>0</td>\n",
       "      <td>Healthy BMI range. High HbA1c level, indicativ...</td>\n",
       "    </tr>\n",
       "    <tr>\n",
       "      <th>99996</th>\n",
       "      <td>2016</td>\n",
       "      <td>Female</td>\n",
       "      <td>80.0</td>\n",
       "      <td>Wyoming</td>\n",
       "      <td>0</td>\n",
       "      <td>1</td>\n",
       "      <td>0</td>\n",
       "      <td>0</td>\n",
       "      <td>0</td>\n",
       "      <td>0</td>\n",
       "      <td>0</td>\n",
       "      <td>No Info</td>\n",
       "      <td>36.66</td>\n",
       "      <td>5.7</td>\n",
       "      <td>100</td>\n",
       "      <td>0</td>\n",
       "      <td>Elderly patient with increased risk of chronic...</td>\n",
       "    </tr>\n",
       "    <tr>\n",
       "      <th>99997</th>\n",
       "      <td>2018</td>\n",
       "      <td>Male</td>\n",
       "      <td>46.0</td>\n",
       "      <td>Wyoming</td>\n",
       "      <td>0</td>\n",
       "      <td>1</td>\n",
       "      <td>0</td>\n",
       "      <td>0</td>\n",
       "      <td>0</td>\n",
       "      <td>0</td>\n",
       "      <td>0</td>\n",
       "      <td>ever</td>\n",
       "      <td>36.12</td>\n",
       "      <td>6.2</td>\n",
       "      <td>158</td>\n",
       "      <td>0</td>\n",
       "      <td>Obese category, increased risk for diabetes an...</td>\n",
       "    </tr>\n",
       "    <tr>\n",
       "      <th>99998</th>\n",
       "      <td>2018</td>\n",
       "      <td>Female</td>\n",
       "      <td>51.0</td>\n",
       "      <td>Wyoming</td>\n",
       "      <td>1</td>\n",
       "      <td>0</td>\n",
       "      <td>0</td>\n",
       "      <td>0</td>\n",
       "      <td>0</td>\n",
       "      <td>0</td>\n",
       "      <td>0</td>\n",
       "      <td>not current</td>\n",
       "      <td>29.29</td>\n",
       "      <td>6.0</td>\n",
       "      <td>155</td>\n",
       "      <td>0</td>\n",
       "      <td>Overweight, advised dietary and exercise modif...</td>\n",
       "    </tr>\n",
       "    <tr>\n",
       "      <th>99999</th>\n",
       "      <td>2016</td>\n",
       "      <td>Male</td>\n",
       "      <td>13.0</td>\n",
       "      <td>Wyoming</td>\n",
       "      <td>0</td>\n",
       "      <td>0</td>\n",
       "      <td>0</td>\n",
       "      <td>1</td>\n",
       "      <td>0</td>\n",
       "      <td>0</td>\n",
       "      <td>0</td>\n",
       "      <td>No Info</td>\n",
       "      <td>17.16</td>\n",
       "      <td>5.0</td>\n",
       "      <td>90</td>\n",
       "      <td>0</td>\n",
       "      <td>Young patient, generally lower risk but needs ...</td>\n",
       "    </tr>\n",
       "  </tbody>\n",
       "</table>\n",
       "</div>"
      ],
      "text/plain": [
       "       year  gender   age location  race:AfricanAmerican  race:Asian  \\\n",
       "99995  2018  Female  33.0  Wyoming                     0           0   \n",
       "99996  2016  Female  80.0  Wyoming                     0           1   \n",
       "99997  2018    Male  46.0  Wyoming                     0           1   \n",
       "99998  2018  Female  51.0  Wyoming                     1           0   \n",
       "99999  2016    Male  13.0  Wyoming                     0           0   \n",
       "\n",
       "       race:Caucasian  race:Hispanic  race:Other  hypertension  heart_disease  \\\n",
       "99995               0              0           1             0              0   \n",
       "99996               0              0           0             0              0   \n",
       "99997               0              0           0             0              0   \n",
       "99998               0              0           0             0              0   \n",
       "99999               0              1           0             0              0   \n",
       "\n",
       "      smoking_history    bmi  hbA1c_level  blood_glucose_level  diabetes  \\\n",
       "99995           never  21.21          6.5                   90         0   \n",
       "99996         No Info  36.66          5.7                  100         0   \n",
       "99997            ever  36.12          6.2                  158         0   \n",
       "99998     not current  29.29          6.0                  155         0   \n",
       "99999         No Info  17.16          5.0                   90         0   \n",
       "\n",
       "                                          clinical_notes  \n",
       "99995  Healthy BMI range. High HbA1c level, indicativ...  \n",
       "99996  Elderly patient with increased risk of chronic...  \n",
       "99997  Obese category, increased risk for diabetes an...  \n",
       "99998  Overweight, advised dietary and exercise modif...  \n",
       "99999  Young patient, generally lower risk but needs ...  "
      ]
     },
     "execution_count": 5,
     "metadata": {},
     "output_type": "execute_result"
    }
   ],
   "source": [
    "df.tail()"
   ]
  },
  {
   "cell_type": "code",
   "execution_count": 6,
   "id": "1dca7dc6",
   "metadata": {},
   "outputs": [
    {
     "data": {
      "text/plain": [
       "Index(['year', 'gender', 'age', 'location', 'race:AfricanAmerican',\n",
       "       'race:Asian', 'race:Caucasian', 'race:Hispanic', 'race:Other',\n",
       "       'hypertension', 'heart_disease', 'smoking_history', 'bmi',\n",
       "       'hbA1c_level', 'blood_glucose_level', 'diabetes', 'clinical_notes'],\n",
       "      dtype='object')"
      ]
     },
     "execution_count": 6,
     "metadata": {},
     "output_type": "execute_result"
    }
   ],
   "source": [
    "df.columns"
   ]
  },
  {
   "cell_type": "markdown",
   "id": "3bca285d",
   "metadata": {},
   "source": [
    "In this project, I will remove the `clinical_notes` column because it is not relevant to the scope of the project."
   ]
  },
  {
   "cell_type": "code",
   "execution_count": 7,
   "id": "57e88329",
   "metadata": {},
   "outputs": [
    {
     "data": {
      "text/html": [
       "<div>\n",
       "<style scoped>\n",
       "    .dataframe tbody tr th:only-of-type {\n",
       "        vertical-align: middle;\n",
       "    }\n",
       "\n",
       "    .dataframe tbody tr th {\n",
       "        vertical-align: top;\n",
       "    }\n",
       "\n",
       "    .dataframe thead th {\n",
       "        text-align: right;\n",
       "    }\n",
       "</style>\n",
       "<table border=\"1\" class=\"dataframe\">\n",
       "  <thead>\n",
       "    <tr style=\"text-align: right;\">\n",
       "      <th></th>\n",
       "      <th>year</th>\n",
       "      <th>age</th>\n",
       "      <th>race:AfricanAmerican</th>\n",
       "      <th>race:Asian</th>\n",
       "      <th>race:Caucasian</th>\n",
       "      <th>race:Hispanic</th>\n",
       "      <th>race:Other</th>\n",
       "      <th>hypertension</th>\n",
       "      <th>heart_disease</th>\n",
       "      <th>bmi</th>\n",
       "      <th>hbA1c_level</th>\n",
       "      <th>blood_glucose_level</th>\n",
       "      <th>diabetes</th>\n",
       "    </tr>\n",
       "  </thead>\n",
       "  <tbody>\n",
       "    <tr>\n",
       "      <th>count</th>\n",
       "      <td>100000.000000</td>\n",
       "      <td>100000.000000</td>\n",
       "      <td>100000.000000</td>\n",
       "      <td>100000.000000</td>\n",
       "      <td>100000.000000</td>\n",
       "      <td>100000.00000</td>\n",
       "      <td>100000.000000</td>\n",
       "      <td>100000.00000</td>\n",
       "      <td>100000.000000</td>\n",
       "      <td>100000.000000</td>\n",
       "      <td>100000.000000</td>\n",
       "      <td>100000.000000</td>\n",
       "      <td>100000.000000</td>\n",
       "    </tr>\n",
       "    <tr>\n",
       "      <th>mean</th>\n",
       "      <td>2018.360820</td>\n",
       "      <td>41.885856</td>\n",
       "      <td>0.202230</td>\n",
       "      <td>0.200150</td>\n",
       "      <td>0.198760</td>\n",
       "      <td>0.19888</td>\n",
       "      <td>0.199980</td>\n",
       "      <td>0.07485</td>\n",
       "      <td>0.039420</td>\n",
       "      <td>27.320767</td>\n",
       "      <td>5.527507</td>\n",
       "      <td>138.058060</td>\n",
       "      <td>0.085000</td>\n",
       "    </tr>\n",
       "    <tr>\n",
       "      <th>std</th>\n",
       "      <td>1.345239</td>\n",
       "      <td>22.516840</td>\n",
       "      <td>0.401665</td>\n",
       "      <td>0.400114</td>\n",
       "      <td>0.399069</td>\n",
       "      <td>0.39916</td>\n",
       "      <td>0.399987</td>\n",
       "      <td>0.26315</td>\n",
       "      <td>0.194593</td>\n",
       "      <td>6.636783</td>\n",
       "      <td>1.070672</td>\n",
       "      <td>40.708136</td>\n",
       "      <td>0.278883</td>\n",
       "    </tr>\n",
       "    <tr>\n",
       "      <th>min</th>\n",
       "      <td>2015.000000</td>\n",
       "      <td>0.080000</td>\n",
       "      <td>0.000000</td>\n",
       "      <td>0.000000</td>\n",
       "      <td>0.000000</td>\n",
       "      <td>0.00000</td>\n",
       "      <td>0.000000</td>\n",
       "      <td>0.00000</td>\n",
       "      <td>0.000000</td>\n",
       "      <td>10.010000</td>\n",
       "      <td>3.500000</td>\n",
       "      <td>80.000000</td>\n",
       "      <td>0.000000</td>\n",
       "    </tr>\n",
       "    <tr>\n",
       "      <th>25%</th>\n",
       "      <td>2019.000000</td>\n",
       "      <td>24.000000</td>\n",
       "      <td>0.000000</td>\n",
       "      <td>0.000000</td>\n",
       "      <td>0.000000</td>\n",
       "      <td>0.00000</td>\n",
       "      <td>0.000000</td>\n",
       "      <td>0.00000</td>\n",
       "      <td>0.000000</td>\n",
       "      <td>23.630000</td>\n",
       "      <td>4.800000</td>\n",
       "      <td>100.000000</td>\n",
       "      <td>0.000000</td>\n",
       "    </tr>\n",
       "    <tr>\n",
       "      <th>50%</th>\n",
       "      <td>2019.000000</td>\n",
       "      <td>43.000000</td>\n",
       "      <td>0.000000</td>\n",
       "      <td>0.000000</td>\n",
       "      <td>0.000000</td>\n",
       "      <td>0.00000</td>\n",
       "      <td>0.000000</td>\n",
       "      <td>0.00000</td>\n",
       "      <td>0.000000</td>\n",
       "      <td>27.320000</td>\n",
       "      <td>5.800000</td>\n",
       "      <td>140.000000</td>\n",
       "      <td>0.000000</td>\n",
       "    </tr>\n",
       "    <tr>\n",
       "      <th>75%</th>\n",
       "      <td>2019.000000</td>\n",
       "      <td>60.000000</td>\n",
       "      <td>0.000000</td>\n",
       "      <td>0.000000</td>\n",
       "      <td>0.000000</td>\n",
       "      <td>0.00000</td>\n",
       "      <td>0.000000</td>\n",
       "      <td>0.00000</td>\n",
       "      <td>0.000000</td>\n",
       "      <td>29.580000</td>\n",
       "      <td>6.200000</td>\n",
       "      <td>159.000000</td>\n",
       "      <td>0.000000</td>\n",
       "    </tr>\n",
       "    <tr>\n",
       "      <th>max</th>\n",
       "      <td>2022.000000</td>\n",
       "      <td>80.000000</td>\n",
       "      <td>1.000000</td>\n",
       "      <td>1.000000</td>\n",
       "      <td>1.000000</td>\n",
       "      <td>1.00000</td>\n",
       "      <td>1.000000</td>\n",
       "      <td>1.00000</td>\n",
       "      <td>1.000000</td>\n",
       "      <td>95.690000</td>\n",
       "      <td>9.000000</td>\n",
       "      <td>300.000000</td>\n",
       "      <td>1.000000</td>\n",
       "    </tr>\n",
       "  </tbody>\n",
       "</table>\n",
       "</div>"
      ],
      "text/plain": [
       "                year            age  race:AfricanAmerican     race:Asian  \\\n",
       "count  100000.000000  100000.000000         100000.000000  100000.000000   \n",
       "mean     2018.360820      41.885856              0.202230       0.200150   \n",
       "std         1.345239      22.516840              0.401665       0.400114   \n",
       "min      2015.000000       0.080000              0.000000       0.000000   \n",
       "25%      2019.000000      24.000000              0.000000       0.000000   \n",
       "50%      2019.000000      43.000000              0.000000       0.000000   \n",
       "75%      2019.000000      60.000000              0.000000       0.000000   \n",
       "max      2022.000000      80.000000              1.000000       1.000000   \n",
       "\n",
       "       race:Caucasian  race:Hispanic     race:Other  hypertension  \\\n",
       "count   100000.000000   100000.00000  100000.000000  100000.00000   \n",
       "mean         0.198760        0.19888       0.199980       0.07485   \n",
       "std          0.399069        0.39916       0.399987       0.26315   \n",
       "min          0.000000        0.00000       0.000000       0.00000   \n",
       "25%          0.000000        0.00000       0.000000       0.00000   \n",
       "50%          0.000000        0.00000       0.000000       0.00000   \n",
       "75%          0.000000        0.00000       0.000000       0.00000   \n",
       "max          1.000000        1.00000       1.000000       1.00000   \n",
       "\n",
       "       heart_disease            bmi    hbA1c_level  blood_glucose_level  \\\n",
       "count  100000.000000  100000.000000  100000.000000        100000.000000   \n",
       "mean        0.039420      27.320767       5.527507           138.058060   \n",
       "std         0.194593       6.636783       1.070672            40.708136   \n",
       "min         0.000000      10.010000       3.500000            80.000000   \n",
       "25%         0.000000      23.630000       4.800000           100.000000   \n",
       "50%         0.000000      27.320000       5.800000           140.000000   \n",
       "75%         0.000000      29.580000       6.200000           159.000000   \n",
       "max         1.000000      95.690000       9.000000           300.000000   \n",
       "\n",
       "            diabetes  \n",
       "count  100000.000000  \n",
       "mean        0.085000  \n",
       "std         0.278883  \n",
       "min         0.000000  \n",
       "25%         0.000000  \n",
       "50%         0.000000  \n",
       "75%         0.000000  \n",
       "max         1.000000  "
      ]
     },
     "execution_count": 7,
     "metadata": {},
     "output_type": "execute_result"
    }
   ],
   "source": [
    "df.describe()"
   ]
  },
  {
   "cell_type": "markdown",
   "id": "9b7527ec",
   "metadata": {},
   "source": [
    "### **Explore some columns**"
   ]
  },
  {
   "cell_type": "markdown",
   "id": "4c7c9cd3",
   "metadata": {},
   "source": [
    "#### **Year**"
   ]
  },
  {
   "cell_type": "markdown",
   "id": "28cf7af1",
   "metadata": {},
   "source": [
    "This data collected diabetes information from 2015 - 2022"
   ]
  },
  {
   "cell_type": "code",
   "execution_count": 8,
   "id": "3001462d",
   "metadata": {},
   "outputs": [
    {
     "data": {
      "text/plain": [
       "year\n",
       "2015     8760\n",
       "2016     8760\n",
       "2018     2678\n",
       "2019    79745\n",
       "2020       42\n",
       "2021        7\n",
       "2022        8\n",
       "Name: count, dtype: int64"
      ]
     },
     "execution_count": 8,
     "metadata": {},
     "output_type": "execute_result"
    }
   ],
   "source": [
    "years = df['year'].value_counts().sort_index()\n",
    "years"
   ]
  },
  {
   "cell_type": "markdown",
   "id": "b7122a96",
   "metadata": {},
   "source": [
    "We can see that this dataset peaks dramatically in 2019, with a count of 79,731, which covers approximately 80% of the data. However, I believe this feature can be removed from the dataset, since we only need information from the healthy records and want to disregard technological developments over the years."
   ]
  },
  {
   "cell_type": "markdown",
   "id": "45d10013",
   "metadata": {},
   "source": [
    "#### **Gender**"
   ]
  },
  {
   "cell_type": "markdown",
   "id": "77a6f96b",
   "metadata": {},
   "source": [
    "This data include 3 genders: \"Male\", \"Female\", and \"Other\""
   ]
  },
  {
   "cell_type": "code",
   "execution_count": 9,
   "id": "5b0be70f",
   "metadata": {},
   "outputs": [
    {
     "data": {
      "text/plain": [
       "gender\n",
       "Female    58552\n",
       "Male      41430\n",
       "Other        18\n",
       "Name: count, dtype: int64"
      ]
     },
     "execution_count": 9,
     "metadata": {},
     "output_type": "execute_result"
    }
   ],
   "source": [
    "genders = df[\"gender\"].value_counts()\n",
    "genders"
   ]
  },
  {
   "cell_type": "code",
   "execution_count": 10,
   "id": "7ee0223c",
   "metadata": {},
   "outputs": [
    {
     "data": {
      "image/png": "[encoded data removed]",
      "text/plain": [
       "<Figure size 800x600 with 1 Axes>"
      ]
     },
     "metadata": {},
     "output_type": "display_data"
    }
   ],
   "source": [
    "plt.figure(figsize=(8,6))\n",
    "plt.bar(genders.index, genders.values,color=['#ADD8E6', 'pink', '#CBAACB'])\n",
    "plt.title(\"Gender Distribution\", fontsize=14, fontweight=\"bold\")\n",
    "plt.xlabel(\"Gender\")\n",
    "plt.ylabel(\"Number of Entries\")\n",
    "plt.grid(axis='y', linestyle='--', alpha=0.7)\n",
    "plt.tight_layout()\n",
    "plt.show()"
   ]
  },
  {
   "cell_type": "markdown",
   "id": "7cc40b9d",
   "metadata": {},
   "source": [
    "From the chart, we observe that the dataset is imbalanced across the three gender categories: the number of \"Female\" samples is slightly higher than \"Male\", while both are significantly larger than \"Other\". To maintain a consistent distribution between the training and test sets, it is advisable to remove the \"Other\" category due to its very small representation.\n",
    "\n",
    "Additionally, since machine learning models typically perform better with numerical inputs, we should convert the categorical gender values into numeric form. A common approach is to apply One-Hot Encoding, which transforms each category into a separate binary feature."
   ]
  },
  {
   "cell_type": "code",
   "execution_count": 11,
   "id": "4098d716",
   "metadata": {},
   "outputs": [
    {
     "data": {
      "text/plain": [
       "(99982, 17)"
      ]
     },
     "execution_count": 11,
     "metadata": {},
     "output_type": "execute_result"
    }
   ],
   "source": [
    "df = df[df[\"gender\"] != \"Other\"]\n",
    "df.shape"
   ]
  },
  {
   "cell_type": "markdown",
   "id": "147daef9",
   "metadata": {},
   "source": [
    "#### **Age**"
   ]
  },
  {
   "cell_type": "code",
   "execution_count": 12,
   "id": "892328df",
   "metadata": {},
   "outputs": [
    {
     "data": {
      "text/plain": [
       "age\n",
       "80.00    5621\n",
       "51.00    1619\n",
       "47.00    1572\n",
       "48.00    1568\n",
       "49.00    1541\n",
       "         ... \n",
       "0.48       83\n",
       "1.00       83\n",
       "0.40       66\n",
       "0.16       59\n",
       "0.08       36\n",
       "Name: count, Length: 102, dtype: int64"
      ]
     },
     "execution_count": 12,
     "metadata": {},
     "output_type": "execute_result"
    }
   ],
   "source": [
    "ages = df[\"age\"].value_counts()\n",
    "ages"
   ]
  },
  {
   "cell_type": "code",
   "execution_count": 13,
   "id": "aaa15f42",
   "metadata": {},
   "outputs": [
    {
     "data": {
      "image/png": "[encoded data removed]",
      "text/plain": [
       "<Figure size 1000x600 with 1 Axes>"
      ]
     },
     "metadata": {},
     "output_type": "display_data"
    }
   ],
   "source": [
    "import seaborn as sns\n",
    "import matplotlib.pyplot as plt\n",
    "\n",
    "plt.figure(figsize=(10, 6))\n",
    "sns.histplot(\n",
    "    df[\"age\"], \n",
    "    bins=8, \n",
    "    kde=False, \n",
    "    color=\"#FFB347\",\n",
    "    edgecolor=\"white\",\n",
    ")\n",
    "\n",
    "plt.xlabel(\"Age\", fontsize=12)\n",
    "plt.ylabel(\"Frequency\", fontsize=12)\n",
    "plt.title(\"Age Distribution in Dataset\", fontsize=14, fontweight=\"bold\")\n",
    "plt.grid(axis='y', linestyle='--', alpha=0.7)\n",
    "plt.show()\n"
   ]
  },
  {
   "cell_type": "markdown",
   "id": "31aa8c4c",
   "metadata": {},
   "source": [
    "The histogram shows that the dataset has a relatively balanced distribution across different age groups. Most age ranges between 20 and 60 years old are well represented, with peaks around the 40–50 and 50–60 groups. The younger population (below 20) and the older population (above 70) have fewer samples compared to the middle-aged groups, but they are still significantly present. Overall, the distribution indicates that the dataset covers a broad spectrum of ages, with the majority concentrated in the working-age population."
   ]
  },
  {
   "cell_type": "markdown",
   "id": "1ea82084",
   "metadata": {},
   "source": [
    "#### **Race**"
   ]
  },
  {
   "cell_type": "code",
   "execution_count": 14,
   "id": "48212ef6",
   "metadata": {},
   "outputs": [],
   "source": [
    "race = df[['race:AfricanAmerican', 'race:Asian', 'race:Caucasian', 'race:Hispanic','race:Other']]"
   ]
  },
  {
   "cell_type": "code",
   "execution_count": 15,
   "id": "9d0bab24",
   "metadata": {},
   "outputs": [
    {
     "data": {
      "text/html": [
       "<div>\n",
       "<style scoped>\n",
       "    .dataframe tbody tr th:only-of-type {\n",
       "        vertical-align: middle;\n",
       "    }\n",
       "\n",
       "    .dataframe tbody tr th {\n",
       "        vertical-align: top;\n",
       "    }\n",
       "\n",
       "    .dataframe thead th {\n",
       "        text-align: right;\n",
       "    }\n",
       "</style>\n",
       "<table border=\"1\" class=\"dataframe\">\n",
       "  <thead>\n",
       "    <tr style=\"text-align: right;\">\n",
       "      <th></th>\n",
       "      <th>zero</th>\n",
       "      <th>one</th>\n",
       "    </tr>\n",
       "  </thead>\n",
       "  <tbody>\n",
       "    <tr>\n",
       "      <th>African American</th>\n",
       "      <td>79761</td>\n",
       "      <td>20221</td>\n",
       "    </tr>\n",
       "    <tr>\n",
       "      <th>Asian</th>\n",
       "      <td>79969</td>\n",
       "      <td>20013</td>\n",
       "    </tr>\n",
       "    <tr>\n",
       "      <th>Caucasian</th>\n",
       "      <td>80115</td>\n",
       "      <td>19867</td>\n",
       "    </tr>\n",
       "    <tr>\n",
       "      <th>Hispanic</th>\n",
       "      <td>80097</td>\n",
       "      <td>19885</td>\n",
       "    </tr>\n",
       "    <tr>\n",
       "      <th>Other</th>\n",
       "      <td>79986</td>\n",
       "      <td>19996</td>\n",
       "    </tr>\n",
       "  </tbody>\n",
       "</table>\n",
       "</div>"
      ],
      "text/plain": [
       "                   zero    one\n",
       "African American  79761  20221\n",
       "Asian             79969  20013\n",
       "Caucasian         80115  19867\n",
       "Hispanic          80097  19885\n",
       "Other             79986  19996"
      ]
     },
     "execution_count": 15,
     "metadata": {},
     "output_type": "execute_result"
    }
   ],
   "source": [
    "zeros = (race==0).sum()\n",
    "ones = (race==1).sum()\n",
    "race_counts = pd.DataFrame({'zero':zeros,'one':ones})\n",
    "race_counts.index = [\n",
    "    \"African American\", \n",
    "    \"Asian\", \n",
    "    \"Caucasian\", \n",
    "    \"Hispanic\", \n",
    "    \"Other\"\n",
    "]\n",
    "race_counts"
   ]
  },
  {
   "cell_type": "code",
   "execution_count": 16,
   "id": "56b4029a",
   "metadata": {},
   "outputs": [
    {
     "data": {
      "image/png": "[encoded data removed]",
      "text/plain": [
       "<Figure size 1000x600 with 1 Axes>"
      ]
     },
     "metadata": {},
     "output_type": "display_data"
    }
   ],
   "source": [
    "plt.figure(figsize=(10,6))\n",
    "race_counts['one'].plot(kind='bar',color=['#ADD8E6', '#FFB347', '#77DD77', '#FF6961', '#CBAACB'])\n",
    "plt.title('Count of the races represented in the dataset', fontsize=14, fontweight=\"bold\")\n",
    "plt.xticks(rotation=0, fontsize=10)\n",
    "plt.xlabel('Races')\n",
    "plt.ylabel('Count')\n",
    "plt.grid(axis='y', linestyle='--', alpha=0.7)"
   ]
  },
  {
   "cell_type": "markdown",
   "id": "d434c80b",
   "metadata": {},
   "source": [
    "The distribution is quite balanced across all groups, with African American, Asian, Caucasian, Hispanic, and Other categories each having close to 20,000 records."
   ]
  },
  {
   "cell_type": "markdown",
   "id": "99bef1e9",
   "metadata": {},
   "source": [
    "#### **Location**"
   ]
  },
  {
   "cell_type": "code",
   "execution_count": 17,
   "id": "83e8a380",
   "metadata": {},
   "outputs": [
    {
     "data": {
      "text/plain": [
       "location\n",
       "Hawaii                  2038\n",
       "Kentucky                2038\n",
       "Nebraska                2038\n",
       "Minnesota               2037\n",
       "New Jersey              2037\n",
       "Iowa                    2037\n",
       "Delaware                2036\n",
       "Massachusetts           2036\n",
       "Maine                   2036\n",
       "Louisiana               2036\n",
       "District of Columbia    2036\n",
       "Georgia                 2036\n",
       "Arkansas                2036\n",
       "Kansas                  2036\n",
       "Illinois                2036\n",
       "Michigan                2036\n",
       "Oregon                  2036\n",
       "Pennsylvania            2036\n",
       "Florida                 2035\n",
       "Maryland                2035\n",
       "Colorado                2035\n",
       "Alabama                 2035\n",
       "Connecticut             2035\n",
       "Rhode Island            2035\n",
       "Mississippi             2035\n",
       "New Hampshire           2035\n",
       "New York                2035\n",
       "Missouri                2034\n",
       "Alaska                  2033\n",
       "North Dakota            2033\n",
       "Montana                 2033\n",
       "North Carolina          2033\n",
       "South Dakota            2033\n",
       "New Mexico              2032\n",
       "Idaho                   1988\n",
       "South Carolina          1987\n",
       "Indiana                 1987\n",
       "California              1986\n",
       "Ohio                    1986\n",
       "Oklahoma                1986\n",
       "Arizona                 1984\n",
       "Nevada                  1984\n",
       "Tennessee               1574\n",
       "United States           1401\n",
       "Washington              1363\n",
       "Utah                    1359\n",
       "Virginia                1350\n",
       "Vermont                 1338\n",
       "Texas                   1337\n",
       "Puerto Rico             1295\n",
       "Guam                    1203\n",
       "West Virginia           1132\n",
       "Virgin Islands           763\n",
       "Wisconsin                388\n",
       "Wyoming                  388\n",
       "Name: count, dtype: int64"
      ]
     },
     "execution_count": 17,
     "metadata": {},
     "output_type": "execute_result"
    }
   ],
   "source": [
    "locations = df[\"location\"].value_counts()\n",
    "locations"
   ]
  },
  {
   "cell_type": "markdown",
   "id": "837639cb",
   "metadata": {},
   "source": [
    "Virgin Islands, Wisconsin and Wyoming have lesser entires as compared to other locations. We can combine these to one location named \"Others\"."
   ]
  },
  {
   "cell_type": "markdown",
   "id": "2a7460fd",
   "metadata": {},
   "source": [
    "#### **Hypertension**"
   ]
  },
  {
   "cell_type": "code",
   "execution_count": 18,
   "id": "ac92f032",
   "metadata": {},
   "outputs": [
    {
     "data": {
      "text/plain": [
       "No Hypertension      92497\n",
       "Have Hypertension     7485\n",
       "Name: count, dtype: int64"
      ]
     },
     "execution_count": 18,
     "metadata": {},
     "output_type": "execute_result"
    }
   ],
   "source": [
    "hypertension = df[\"hypertension\"].value_counts()\n",
    "hypertension.index=['No Hypertension', 'Have Hypertension']\n",
    "hypertension"
   ]
  },
  {
   "cell_type": "code",
   "execution_count": 19,
   "id": "b3ddbe22",
   "metadata": {},
   "outputs": [
    {
     "data": {
      "image/png": "[encoded data removed]",
      "text/plain": [
       "<Figure size 800x600 with 1 Axes>"
      ]
     },
     "metadata": {},
     "output_type": "display_data"
    }
   ],
   "source": [
    "plt.figure(figsize=(8,6))\n",
    "plt.bar(hypertension.index, hypertension.values,color=['#77DD77', '#FF6961'])\n",
    "plt.title(\"Hypertension Distribution\", fontsize=14, fontweight=\"bold\")\n",
    "plt.xlabel(\"Hypertension Status\")\n",
    "plt.ylabel(\"Number of Entries\")\n",
    "plt.grid(axis='y', linestyle='--', alpha=0.7)\n",
    "plt.tight_layout()\n",
    "plt.show()"
   ]
  },
  {
   "cell_type": "markdown",
   "id": "c5d9b68f",
   "metadata": {},
   "source": [
    "We can see that, most of the people do not have hypertension."
   ]
  },
  {
   "cell_type": "markdown",
   "id": "61519090",
   "metadata": {},
   "source": [
    "#### **Heart Disease**"
   ]
  },
  {
   "cell_type": "code",
   "execution_count": 20,
   "id": "c56bf0e3",
   "metadata": {},
   "outputs": [
    {
     "data": {
      "text/plain": [
       "No Heart Disease      96040\n",
       "Have Heart Disease     3942\n",
       "Name: count, dtype: int64"
      ]
     },
     "execution_count": 20,
     "metadata": {},
     "output_type": "execute_result"
    }
   ],
   "source": [
    "heart_disease = df['heart_disease'].value_counts()\n",
    "heart_disease.index=['No Heart Disease', 'Have Heart Disease']\n",
    "heart_disease\n"
   ]
  },
  {
   "cell_type": "code",
   "execution_count": 21,
   "id": "5b092b7d",
   "metadata": {},
   "outputs": [
    {
     "data": {
      "image/png": "[encoded data removed]",
      "text/plain": [
       "<Figure size 800x600 with 1 Axes>"
      ]
     },
     "metadata": {},
     "output_type": "display_data"
    }
   ],
   "source": [
    "plt.figure(figsize=(8,6))\n",
    "plt.bar(heart_disease.index, heart_disease.values,color=['#77DD77', '#FF6961'])\n",
    "plt.title(\"Heart Disease Distribution\", fontsize=14, fontweight=\"bold\")\n",
    "plt.xlabel(\"Heart Disease Status\")\n",
    "plt.ylabel(\"Number of Entries\")\n",
    "plt.grid(axis='y', linestyle='--', alpha=0.7)\n",
    "plt.tight_layout()\n",
    "plt.show()"
   ]
  },
  {
   "cell_type": "markdown",
   "id": "0f2ebc1b",
   "metadata": {},
   "source": [
    "We can see that, most of the people do not have heart disease."
   ]
  },
  {
   "cell_type": "markdown",
   "id": "64cb7814",
   "metadata": {},
   "source": [
    "#### **Smoking History**"
   ]
  },
  {
   "cell_type": "code",
   "execution_count": 22,
   "id": "1addac2c",
   "metadata": {},
   "outputs": [
    {
     "data": {
      "text/plain": [
       "smoking_history\n",
       "No Info        35810\n",
       "never          35092\n",
       "former          9352\n",
       "current         9286\n",
       "not current     6439\n",
       "ever            4003\n",
       "Name: count, dtype: int64"
      ]
     },
     "execution_count": 22,
     "metadata": {},
     "output_type": "execute_result"
    }
   ],
   "source": [
    "smoke = df['smoking_history'].value_counts()\n",
    "smoke"
   ]
  },
  {
   "cell_type": "code",
   "execution_count": 23,
   "id": "8eb5b5d4",
   "metadata": {},
   "outputs": [
    {
     "data": {
      "image/png": "[encoded data removed]",
      "text/plain": [
       "<Figure size 1000x600 with 1 Axes>"
      ]
     },
     "metadata": {},
     "output_type": "display_data"
    }
   ],
   "source": [
    "plt.figure(figsize=(10,6))\n",
    "smoke.plot(kind='bar',color=['#ADD8E6', '#FFB347', '#77DD77', '#FF6961', '#CBAACB', '#8c564b'])\n",
    "plt.title('Count of Smoking History Categories', fontsize=14, fontweight=\"bold\")\n",
    "plt.xticks(rotation=0, fontsize=10)\n",
    "plt.xlabel('Smoking History')\n",
    "plt.ylabel('Count')\n",
    "plt.grid(axis='y', linestyle='--', alpha=0.7)"
   ]
  },
  {
   "cell_type": "markdown",
   "id": "2fb4ad2a",
   "metadata": {},
   "source": [
    "In this feature, the “No Info” category has the highest count (over 35,000). This indicates a large portion of missing information regarding individuals’ smoking history. Since such a high level of missing data can reduce the reliability and usefulness of this feature, it would be reasonable to remove it from further analysis."
   ]
  },
  {
   "cell_type": "markdown",
   "id": "a9fb085b",
   "metadata": {},
   "source": [
    "#### **BMI**"
   ]
  },
  {
   "cell_type": "code",
   "execution_count": 24,
   "id": "56cb976a",
   "metadata": {},
   "outputs": [
    {
     "data": {
      "text/plain": [
       "bmi\n",
       "27.32    25488\n",
       "23.00      103\n",
       "27.12      101\n",
       "27.80      100\n",
       "24.96      100\n",
       "         ...  \n",
       "64.27        1\n",
       "64.26        1\n",
       "47.85        1\n",
       "45.04        1\n",
       "58.09        1\n",
       "Name: count, Length: 4247, dtype: int64"
      ]
     },
     "execution_count": 24,
     "metadata": {},
     "output_type": "execute_result"
    }
   ],
   "source": [
    "bmi = df[\"bmi\"].value_counts()\n",
    "bmi"
   ]
  },
  {
   "cell_type": "code",
   "execution_count": 25,
   "id": "d570ac99",
   "metadata": {},
   "outputs": [],
   "source": [
    "adults = df[df['age'] >= 20] \n",
    "children = df[df['age'] < 20]"
   ]
  },
  {
   "cell_type": "markdown",
   "id": "06b83a54",
   "metadata": {},
   "source": [
    "For adults, BMI is interpreted the same way for men and women of all ages. The categories are:\n",
    "- Underweight: BMI < 18.5   \n",
    "- Normal weight: 18.5 ≤ BMI < 24.9\n",
    "- Overweight: 25.0 ≤ BMI < 29.9\n",
    "- Obesity (Class I): 30.0 ≤ BMI < 34.9\n",
    "- Obesity (Class II): 35.0 ≤ BMI < 39.9\n",
    "- Obesity (Class III / Severe): BMI ≥ 40.0"
   ]
  },
  {
   "cell_type": "code",
   "execution_count": 26,
   "id": "04f2a927",
   "metadata": {},
   "outputs": [],
   "source": [
    "underweight_adult = adults[adults['bmi'] < 18.5].bmi.count()\n",
    "normal_adult = adults[(adults['bmi'] >= 18.5) & (adults['bmi'] < 25)].bmi.count()\n",
    "overweight_adult = adults[(adults['bmi'] >= 25) & (adults['bmi'] < 30)].bmi.count()\n",
    "obese_adult = adults[adults['bmi'] >=30].bmi.count()"
   ]
  },
  {
   "cell_type": "code",
   "execution_count": 27,
   "id": "f1d9d4e9",
   "metadata": {},
   "outputs": [
    {
     "name": "stdout",
     "output_type": "stream",
     "text": [
      "Underweight:  931\n",
      "Normal weight:  16349\n",
      "Overweight:  40532\n",
      "Obese:  22509\n"
     ]
    }
   ],
   "source": [
    "print(\"Underweight: \",underweight_adult)\n",
    "print(\"Normal weight: \",normal_adult)\n",
    "print(\"Overweight: \",overweight_adult)\n",
    "print(\"Obese: \",obese_adult)"
   ]
  },
  {
   "cell_type": "code",
   "execution_count": 28,
   "id": "062317d9",
   "metadata": {},
   "outputs": [
    {
     "name": "stdout",
     "output_type": "stream",
     "text": [
      "Class1 Obese count:  12132\n",
      "Class2 Obese count:  5906\n",
      "Class3 Obese count:  4471\n"
     ]
    }
   ],
   "source": [
    "class1_Obese = adults[(adults['bmi'] >= 30) & (adults['bmi'] < 35)].bmi.count()\n",
    "class2_Obese = adults[(adults['bmi'] >= 35) & (adults['bmi'] < 40)].bmi.count()\n",
    "class3_Obese = adults[adults['bmi'] >= 40].bmi.count()\n",
    "print('Class1 Obese count: ',class1_Obese)\n",
    "print('Class2 Obese count: ',class2_Obese)\n",
    "print('Class3 Obese count: ',class3_Obese)"
   ]
  },
  {
   "cell_type": "markdown",
   "id": "2780c90f",
   "metadata": {},
   "source": [
    "For children and adolescents, BMI is age- and sex-specific and is expressed as a percentile based on growth charts (CDC or WHO).\n",
    "- Underweight: BMI < 5th percentile\n",
    "- Normal weight: 5th percentile ≤ BMI < 85th percentile\n",
    "- Overweight: 85th percentile ≤ BMI < 95th percentile\n",
    "- Obesity: BMI ≥ 95th percentile"
   ]
  },
  {
   "cell_type": "code",
   "execution_count": 29,
   "id": "255daeb2",
   "metadata": {},
   "outputs": [],
   "source": [
    "def years_to_years_months(age_years: float):\n",
    "    \"\"\"\n",
    "    Convert age in float years into (years, months).\n",
    "    Example: 5.5 -> (5, 6)\n",
    "             10.25 -> (10, 3)\n",
    "    \"\"\"\n",
    "    if age_years is None:\n",
    "        return None\n",
    "    \n",
    "    years = int(age_years)  # whole years\n",
    "    months = int(round((age_years - years) * 12))  # convert decimal to months\n",
    "    \n",
    "    return f\"{years}-{months}\""
   ]
  },
  {
   "cell_type": "code",
   "execution_count": 30,
   "id": "527c08a0",
   "metadata": {},
   "outputs": [],
   "source": [
    "children.loc[:, 'age_scaled'] = (\n",
    "    children['age'].apply(lambda x: years_to_years_months(x) if pd.notna(x) else pd.NA)\n",
    ")"
   ]
  },
  {
   "cell_type": "code",
   "execution_count": 31,
   "id": "535ab98c",
   "metadata": {},
   "outputs": [],
   "source": [
    "import pandas as pd\n",
    "\n",
    "bmi_percentile = pd.DataFrame([\n",
    "    # age,   sex,      p5,    p85,   p95\n",
    "    (\"0-0\",  \"Male\", 11.5, 14.8, 15.8),\n",
    "    (\"0-1\",  \"Male\", 12.8, 16.4, 17.3),\n",
    "    (\"0-2\",  \"Male\", 13.8, 17.3, 17.8),\n",
    "    (\"0-3\",  \"Male\", 14.7, 18.5, 19.4),\n",
    "    (\"0-4\",  \"Male\", 15.0, 18.7, 19.7),\n",
    "    (\"0-5\",  \"Male\", 15.1, 18.9, 19.8),\n",
    "    (\"0-6\",  \"Male\", 15.2, 18.9, 19.9),\n",
    "    (\"0-7\",  \"Male\", 15.2, 18.9, 19.9),\n",
    "    (\"0-8\",  \"Male\", 15.1, 18.8, 19.8),\n",
    "    (\"0-9\",  \"Male\", 15.1, 18.7, 19.7),\n",
    "    (\"0-10\", \"Male\", 15.0, 18.6, 19.5),\n",
    "    (\"0-11\", \"Male\", 14.9, 18.4, 19.4),\n",
    "    \n",
    "    (\"1-0\",  \"Male\", 14.8, 18.3, 19.3),\n",
    "    (\"1-1\",  \"Male\", 14.7, 18.1, 19.1),\n",
    "    (\"1-2\",  \"Male\", 14.6, 18.0, 19.0),\n",
    "    (\"1-3\",  \"Male\", 14.5, 17.9, 18.9),\n",
    "    (\"1-4\",  \"Male\", 14.5, 17.8, 18.7),\n",
    "    (\"1-5\",  \"Male\", 14.3, 18.6, 18.9),\n",
    "    (\"1-6\",  \"Male\", 14.2, 17.5, 18.5),\n",
    "    (\"1-7\",  \"Male\", 14.2, 17.4, 18.4),\n",
    "    (\"1-8\",  \"Male\", 14.1, 17.4, 18.6),\n",
    "    (\"1-9\",  \"Male\", 14.1, 17.3, 18.3),\n",
    "    (\"1-10\", \"Male\", 14.0, 17.2, 18.1),\n",
    "    (\"1-11\", \"Male\", 13.9, 17.1, 18.0),\n",
    "    \n",
    "    (\"2-0\",  \"Male\", 14.2, 17.4, 18.3),\n",
    "    (\"2-1\",  \"Male\", 14.1, 17.4, 18.3),\n",
    "    (\"2-2\",  \"Male\", 14.1, 17.3, 18.2),\n",
    "    (\"2-3\",  \"Male\", 14.0, 17.2, 18.2),\n",
    "    (\"2-4\",  \"Male\", 14.0, 17.2, 18.1),\n",
    "    (\"2-5\",  \"Male\", 13.9, 17.2, 18.2),\n",
    "    (\"2-6\",  \"Male\", 13.9, 17.2, 18.0),\n",
    "    (\"2-7\",  \"Male\", 13.9, 17.1, 18.0),\n",
    "    (\"2-8\",  \"Male\", 13.8, 17.1, 18.0),\n",
    "    (\"2-9\",  \"Male\", 13.8, 17.0, 18.0),\n",
    "    (\"2-10\", \"Male\", 13.8, 17.0, 17.9),\n",
    "    (\"2-11\", \"Male\", 13.7, 17.0, 17.9),\n",
    "    \n",
    "    (\"3-0\",  \"Male\", 13.7, 17.0, 17.9),\n",
    "    (\"3-1\",  \"Male\", 13.7, 16.9, 17.8),\n",
    "    (\"3-2\",  \"Male\", 13.6, 16.9, 17.8),\n",
    "    (\"3-3\",  \"Male\", 13.6, 16.9, 17.8),\n",
    "    (\"3-4\",  \"Male\", 13.6, 16.9, 17.7),\n",
    "    (\"3-5\",  \"Male\", 13.6, 16.9, 17.7),\n",
    "    (\"3-6\",  \"Male\", 13.6, 16.8, 17.7),\n",
    "    (\"3-7\",  \"Male\", 13.5, 16.8, 17.7),\n",
    "    (\"3-8\",  \"Male\", 13.5, 16.8, 17.7),\n",
    "    (\"3-9\",  \"Male\", 13.5, 16.8, 17.7),\n",
    "    (\"3-10\", \"Male\", 13.5, 16.8, 17.6),\n",
    "    (\"3-11\", \"Male\", 13.5, 16.7, 17.6),\n",
    "    \n",
    "    (\"4-0\",  \"Male\", 13.4, 16.7, 17.6),\n",
    "    (\"4-1\",  \"Male\", 13.4, 16.7, 17.6),\n",
    "    (\"4-2\",  \"Male\", 13.4, 16.7, 17.6),\n",
    "    (\"4-3\",  \"Male\", 13.4, 16.7, 17.6),\n",
    "    (\"4-4\",  \"Male\", 13.4, 16.7, 17.6),\n",
    "    (\"4-5\",  \"Male\", 13.3, 16.7, 17.6),\n",
    "    (\"4-6\",  \"Male\", 13.3, 16.7, 17.6),\n",
    "    (\"4-7\",  \"Male\", 13.3, 16.7, 17.6),\n",
    "    (\"4-8\",  \"Male\", 13.3, 16.7, 17.6),\n",
    "    (\"4-9\",  \"Male\", 13.3, 16.7, 17.6),\n",
    "    (\"4-10\", \"Male\", 13.2, 16.7, 17.6),\n",
    "    (\"4-11\", \"Male\", 13.2, 16.7, 17.6),\n",
    "    \n",
    "    (\"5-0\",  \"Male\", 13.2, 16.7, 17.7),\n",
    "    (\"5-1\",  \"Male\", 13.4, 16.7, 17.7),\n",
    "    (\"5-2\",  \"Male\", 13.4, 16.7, 17.7),\n",
    "    (\"5-3\",  \"Male\", 13.4, 16.7, 17.7),\n",
    "    (\"5-4\",  \"Male\", 13.4, 16.7, 17.7),\n",
    "    (\"5-5\",  \"Male\", 13.4, 16.7, 17.7),\n",
    "    (\"5-6\",  \"Male\", 13.4, 16.7, 17.7),\n",
    "    (\"5-7\",  \"Male\", 13.4, 16.7, 17.7),\n",
    "    (\"5-8\",  \"Male\", 13.4, 16.8, 17.8),\n",
    "    (\"5-9\",  \"Male\", 13.4, 16.8, 17.8),\n",
    "    (\"5-10\",  \"Male\", 13.4, 16.8, 17.8),\n",
    "    (\"5-11\",  \"Male\", 13.4, 16.8, 17.8),\n",
    "    \n",
    "    (\"6-0\",  \"Male\", 13.4, 16.8, 17.9),\n",
    "    (\"6-1\",  \"Male\", 13.4, 16.8, 17.9),\n",
    "    (\"6-2\",  \"Male\", 13.4, 16.9, 17.9),\n",
    "    (\"6-3\",  \"Male\", 13.4, 16.9, 17.9),\n",
    "    (\"6-4\",  \"Male\", 13.4, 16.9, 18.0),\n",
    "    (\"6-5\",  \"Male\", 13.4, 16.9, 18.0),\n",
    "    (\"6-6\",  \"Male\", 13.4, 16.9, 18.0),\n",
    "    (\"6-7\",  \"Male\", 13.4, 17.0, 18.1),\n",
    "    (\"6-8\",  \"Male\", 13.5, 17.0, 18.1),\n",
    "    (\"6-9\",  \"Male\", 13.5, 17.0, 18.1),\n",
    "    (\"6-10\",  \"Male\", 13.5, 17.1, 18.2),\n",
    "    (\"6-11\",  \"Male\", 13.5, 17.1, 18.2),\n",
    "    \n",
    "    (\"7-0\",  \"Male\", 13.5, 17.1, 18.3),\n",
    "    (\"7-1\",  \"Male\", 13.5, 17.1, 18.3),\n",
    "    (\"7-2\",  \"Male\", 13.5, 17.2, 18.3),\n",
    "    (\"7-3\",  \"Male\", 13.5, 17.2, 18.4),\n",
    "    (\"7-4\",  \"Male\", 13.6, 17.2, 18.4),\n",
    "    (\"7-5\",  \"Male\", 13.6, 17.3, 18.5),\n",
    "    (\"7-6\",  \"Male\", 13.6, 17.3, 18.5),\n",
    "    (\"7-7\",  \"Male\", 13.6, 17.3, 18.6),\n",
    "    (\"7-8\",  \"Male\", 13.6, 17.4, 18.6),\n",
    "    (\"7-9\",  \"Male\", 13.6, 17.4, 18.7),\n",
    "    (\"7-10\",  \"Male\", 13.6, 17.4, 18.7),\n",
    "    (\"7-11\",  \"Male\", 13.7, 17.5, 18.8),\n",
    "    \n",
    "    (\"8-0\",  \"Male\", 13.7, 17.5, 18.8),\n",
    "    (\"8-1\",  \"Male\", 13.7, 17.5, 18.9),\n",
    "    (\"8-2\",  \"Male\", 13.7, 17.6, 18.9),\n",
    "    (\"8-3\",  \"Male\", 13.7, 17.6, 19.0),\n",
    "    (\"8-4\",  \"Male\", 13.7, 17.7, 19.0),\n",
    "    (\"8-5\",  \"Male\", 13.7, 17.7, 19.1),\n",
    "    (\"8-6\",  \"Male\", 13.8, 17.7, 19.1),\n",
    "    (\"8-7\",  \"Male\", 13.8, 17.8, 19.2),\n",
    "    (\"8-8\",  \"Male\", 13.8, 17.8, 19.2),\n",
    "    (\"8-9\",  \"Male\", 13.8, 17.9, 19.3),\n",
    "    (\"8-10\",  \"Male\", 13.8, 17.9, 19.3),\n",
    "    (\"8-11\",  \"Male\", 13.8, 17.9, 19.4),\n",
    "    \n",
    "    (\"9-0\",  \"Male\", 13.9, 18.0, 19.5),\n",
    "    (\"9-1\",  \"Male\", 13.9, 18.0, 19.5),\n",
    "    (\"9-2\",  \"Male\", 13.9, 18.1, 19.6),\n",
    "    (\"9-3\",  \"Male\", 13.9, 18.1, 19.6),\n",
    "    (\"9-4\",  \"Male\", 13.9, 18.2, 19.7),\n",
    "    (\"9-5\",  \"Male\", 14.0, 18.2, 19.8),\n",
    "    (\"9-6\",  \"Male\", 14.0, 18.3, 19.8),\n",
    "    (\"9-7\",  \"Male\", 14.0, 18.3, 19.9),\n",
    "    (\"9-8\",  \"Male\", 14.0, 18.4, 20.0),\n",
    "    (\"9-9\",  \"Male\", 14.1, 18.4, 20.0),\n",
    "    (\"9-10\",  \"Male\", 14.1, 18.5, 20.1),\n",
    "    (\"9-11\",  \"Male\", 14.1, 18.5, 20.2),\n",
    "    \n",
    "    (\"10-0\",  \"Male\", 14.1, 18.6, 20.2),\n",
    "    (\"10-1\",  \"Male\", 14.2, 18.6, 20.3),\n",
    "    (\"10-2\",  \"Male\", 14.2, 18.7, 20.4),\n",
    "    (\"10-3\",  \"Male\", 14.2, 18.7, 20.4),\n",
    "    (\"10-4\",  \"Male\", 14.2, 18.8, 20.5),\n",
    "    (\"10-5\",  \"Male\", 14.3, 18.8, 20.6),\n",
    "    (\"10-6\",  \"Male\", 14.3, 18.9, 20.7),\n",
    "    (\"10-7\",  \"Male\", 14.3, 19.0, 20.7),\n",
    "    (\"10-8\",  \"Male\", 14.3, 19.0, 20.8),\n",
    "    (\"10-9\",  \"Male\", 14.4, 19.1, 20.9),\n",
    "    (\"10-10\",  \"Male\", 14.4, 19.1, 21.0),\n",
    "    (\"10-11\",  \"Male\", 14.4, 19.2, 21.0),\n",
    "    \n",
    "    (\"11-0\", \"Male\", 14.5, 19.2, 21.1),\n",
    "    (\"11-1\", \"Male\", 14.5, 19.3, 21.2),\n",
    "    (\"11-2\", \"Male\", 14.5, 19.4, 21.3),\n",
    "    (\"11-3\", \"Male\", 14.6, 19.4, 21.4),\n",
    "    (\"11-4\", \"Male\", 14.6, 19.5, 21.4),\n",
    "    (\"11-5\", \"Male\", 14.6, 19.6, 21.5),\n",
    "    (\"11-6\", \"Male\", 14.7, 19.6, 21.6),\n",
    "    (\"11-7\", \"Male\", 14.7, 19.7, 21.7),\n",
    "    (\"11-8\", \"Male\", 14.7, 19.8, 21.8),\n",
    "    (\"11-9\", \"Male\", 14.8, 19.8, 21.8),\n",
    "    (\"11-10\", \"Male\", 14.8, 19.9, 21.9),\n",
    "    (\"11-11\", \"Male\", 14.9, 20.0, 22.0),\n",
    "    \n",
    "    (\"12-0\", \"Male\", 14.9, 20.1, 22.1),\n",
    "    (\"12-1\", \"Male\", 14.9, 20.1, 22.2),\n",
    "    (\"12-2\", \"Male\", 15.0, 20.2, 22.3),\n",
    "    (\"12-3\", \"Male\", 15.0, 20.3, 22.3),\n",
    "    (\"12-4\", \"Male\", 15.1, 20.3, 22.4),\n",
    "    (\"12-5\", \"Male\", 15.1, 20.4, 22.5),\n",
    "    (\"12-6\", \"Male\", 15.1, 20.5, 22.6),\n",
    "    (\"12-7\", \"Male\", 15.2, 20.6, 22.7),\n",
    "    (\"12-8\", \"Male\", 15.2, 20.6, 22.8),\n",
    "    (\"12-9\", \"Male\", 15.3, 20.7, 22.9),\n",
    "    (\"12-10\", \"Male\", 15.3, 20.8, 23.0),\n",
    "    (\"12-11\", \"Male\", 15.4, 20.9, 23.1),\n",
    "    \n",
    "    (\"13-0\", \"Male\", 15.4, 20.9, 23.2),\n",
    "    (\"13-1\", \"Male\", 15.4, 21.0, 23.3),\n",
    "    (\"13-2\", \"Male\", 15.5, 21.1, 23.4),\n",
    "    (\"13-3\", \"Male\", 15.5, 21.2, 23.4),\n",
    "    (\"13-4\", \"Male\", 15.6, 21.3, 23.5),\n",
    "    (\"13-5\", \"Male\", 15.6, 21.3, 23.6),\n",
    "    (\"13-6\", \"Male\", 15.7, 21.4, 23.7),\n",
    "    (\"13-7\", \"Male\", 15.7, 21.5, 23.8),\n",
    "    (\"13-8\", \"Male\", 15.8, 21.6, 23.9),\n",
    "    (\"13-9\", \"Male\", 15.8, 21.7, 24.0),\n",
    "    (\"13-10\", \"Male\", 15.9, 21.7, 24.0),\n",
    "    (\"13-11\", \"Male\", 15.9, 21.8, 24.1),\n",
    "    \n",
    "    (\"14-0\", \"Male\", 16.0, 21.9, 24.2),\n",
    "    (\"14-1\", \"Male\", 16.0, 22.0, 24.3),\n",
    "    (\"14-2\", \"Male\", 16.1, 22.1, 24.4),\n",
    "    (\"14-3\", \"Male\", 16.1, 22.1, 24.5),\n",
    "    (\"14-4\", \"Male\", 16.2, 22.2, 24.6),\n",
    "    (\"14-5\", \"Male\", 16.2, 22.3, 24.7),\n",
    "    (\"14-6\", \"Male\", 16.3, 22.4, 24.7),\n",
    "    (\"14-7\", \"Male\", 16.3, 22.4, 24.8),\n",
    "    (\"14-8\", \"Male\", 16.4, 22.5, 24.9),\n",
    "    (\"14-9\", \"Male\", 16.4, 22.6, 25.0),\n",
    "    (\"14-10\", \"Male\", 16.5, 22.7, 25.1),\n",
    "    (\"14-11\", \"Male\", 16.5, 22.7, 25.1),\n",
    "    \n",
    "    (\"15-0\", \"Male\", 16.5, 22.8, 25.2),\n",
    "    (\"15-1\", \"Male\", 16.6, 22.9, 25.3),\n",
    "    (\"15-2\", \"Male\", 16.6, 23.0, 25.4),\n",
    "    (\"15-3\", \"Male\", 16.7, 23.0, 25.5),\n",
    "    (\"15-4\", \"Male\", 16.7, 23.1, 25.5),\n",
    "    (\"15-5\", \"Male\", 16.8, 23.2, 25.6),\n",
    "    (\"15-6\", \"Male\", 16.8, 23.2, 25.7),\n",
    "    (\"15-7\", \"Male\", 16.9, 23.3, 25.8),\n",
    "    (\"15-8\", \"Male\", 16.9, 23.4, 25.9),\n",
    "    (\"15-9\", \"Male\", 17.0, 23.5, 25.9),\n",
    "    (\"15-10\", \"Male\", 17.0, 23.5, 26.0),\n",
    "    (\"15-11\", \"Male\", 17.0, 23.6, 26.1),\n",
    "    \n",
    "    (\"16-0\", \"Male\", 17.1, 23.7, 26.1),\n",
    "    (\"16-1\", \"Male\", 17.1, 23.7, 26.2),\n",
    "    (\"16-2\", \"Male\", 17.2, 23.8, 26.3),\n",
    "    (\"16-3\", \"Male\", 17.2, 23.9, 26.3),\n",
    "    (\"16-4\", \"Male\", 17.2, 23.9, 26.4),\n",
    "    (\"16-5\", \"Male\", 17.3, 24.0, 26.5),\n",
    "    (\"16-6\", \"Male\", 17.3, 24.0, 26.5),\n",
    "    (\"16-7\", \"Male\", 17.4, 24.1, 26.6),\n",
    "    (\"16-8\", \"Male\", 17.4, 24.2, 26.7),\n",
    "    (\"16-9\", \"Male\", 17.4, 24.2, 26.7),\n",
    "    (\"16-10\", \"Male\", 17.5, 24.3, 26.8),\n",
    "    (\"16-11\", \"Male\", 17.5, 24.3, 26.8),\n",
    "    \n",
    "    (\"17-0\", \"Male\", 17.5, 24.4, 26.9),\n",
    "    (\"17-1\", \"Male\", 17.6, 24.5, 27.0),\n",
    "    (\"17-2\", \"Male\", 17.6, 24.5, 27.0),\n",
    "    (\"17-3\", \"Male\", 17.6, 24.6, 27.1),\n",
    "    (\"17-4\", \"Male\", 17.7, 24.6, 27.1),\n",
    "    (\"17-5\", \"Male\", 17.7, 24.7, 27.2),\n",
    "    (\"17-6\", \"Male\", 17.7, 24.7, 27.2),\n",
    "    (\"17-7\", \"Male\", 17.8, 24.8, 27.3),\n",
    "    (\"17-8\", \"Male\", 17.8, 24.8, 27.3),\n",
    "    (\"17-9\", \"Male\", 17.9, 24.9, 27.4),\n",
    "    (\"17-10\",\"Male\", 17.9, 24.9, 27.4),\n",
    "    (\"17-11\",\"Male\", 17.9, 25.0, 27.5),\n",
    "    \n",
    "    (\"18-0\", \"Male\", 17.9, 25.0, 27.5),\n",
    "    (\"18-1\", \"Male\", 18.0, 25.1, 27.6),\n",
    "    (\"18-2\", \"Male\", 18.0, 25.1, 27.6),\n",
    "    (\"18-3\", \"Male\", 18.0, 25.2, 27.7),\n",
    "    (\"18-4\", \"Male\", 18.0, 25.2, 27.7),\n",
    "    (\"18-5\", \"Male\", 18.1, 25.3, 27.8),\n",
    "    (\"18-6\", \"Male\", 18.1, 25.3, 27.8),\n",
    "    (\"18-7\", \"Male\", 18.1, 25.4, 27.9),\n",
    "    (\"18-8\", \"Male\", 18.1, 25.4, 27.9),\n",
    "    (\"18-9\", \"Male\", 18.2, 25.5, 28.0),\n",
    "    (\"18-10\",\"Male\", 18.2, 25.5, 28.0),\n",
    "    (\"18-11\",\"Male\", 18.2, 25.5, 28.1),\n",
    "    \n",
    "    (\"19-0\", \"Male\", 18.2, 25.6, 28.1),\n",
    "    \n",
    "    (\"0-0\",  \"Female\", 11.5, 14.7, 15.5),\n",
    "    (\"0-1\",  \"Female\", 12.4, 15.5, 16.1),\n",
    "    (\"0-2\",  \"Female\", 13.5, 16.8, 17.4),\n",
    "    (\"0-3\",  \"Female\", 14.0, 17.4, 18.0),\n",
    "    (\"0-4\",  \"Female\", 14.3, 17.7, 18.3),\n",
    "    (\"0-5\",  \"Female\", 14.5, 17.9, 18.5),\n",
    "    (\"0-6\",  \"Female\", 14.6, 18.0, 18.6),\n",
    "    (\"0-7\",  \"Female\", 14.6, 18.0, 18.6),\n",
    "    (\"0-8\",  \"Female\", 14.5, 17.8, 18.4),\n",
    "    (\"0-9\",  \"Female\", 14.5, 17.8, 18.4),\n",
    "    (\"0-10\", \"Female\", 14.5, 17.7, 18.2),\n",
    "    (\"0-11\", \"Female\", 14.4, 17.5, 18.1),\n",
    "    \n",
    "    (\"1-0\",  \"Female\", 14.4, 17.4, 17.9),\n",
    "    (\"1-1\",  \"Female\", 14.4, 17.2, 17.8),\n",
    "    (\"1-2\",  \"Female\", 14.3, 17.2, 17.7),\n",
    "    (\"1-3\",  \"Female\", 14.2, 17.0, 17.5),\n",
    "    (\"1-4\",  \"Female\", 14.2, 16.8, 17.4),\n",
    "    (\"1-5\",  \"Female\", 14.1, 16.8, 17.3),\n",
    "    (\"1-6\",  \"Female\", 14.0, 16.7, 17.2),\n",
    "    (\"1-7\",  \"Female\", 13.9, 16.6, 17.2),\n",
    "    (\"1-8\",  \"Female\", 13.9, 16.6, 17.2),\n",
    "    (\"1-9\",  \"Female\", 13.8, 16.5, 17.0),\n",
    "    (\"1-10\", \"Female\", 13.7, 16.4, 16.9),\n",
    "    (\"1-11\", \"Female\", 13.5, 16.4, 16.9),\n",
    "    \n",
    "    (\"2-0\",  \"Female\", 13.7, 17.2, 18.1),\n",
    "    (\"2-1\",  \"Female\", 13.7, 17.2, 18.1),\n",
    "    (\"2-2\",  \"Female\", 13.7, 17.2, 18.1),\n",
    "    (\"2-3\",  \"Female\", 13.6, 17.1, 18.1),\n",
    "    (\"2-4\",  \"Female\", 13.6, 17.0, 18.0),\n",
    "    (\"2-5\",  \"Female\", 13.6, 17.0, 18.0),\n",
    "    (\"2-6\",  \"Female\", 13.6, 17.0, 18.0),\n",
    "    (\"2-7\",  \"Female\", 13.6, 17.0, 18.0),\n",
    "    (\"2-8\",  \"Female\", 13.5, 16.9, 17.9),\n",
    "    (\"2-9\",  \"Female\", 13.5, 16.9, 17.9),\n",
    "    (\"2-10\", \"Female\", 13.5, 16.9, 17.9),\n",
    "    (\"2-11\", \"Female\", 13.5, 16.9, 17.9),\n",
    "    \n",
    "    (\"3-0\",  \"Female\", 13.5, 16.9, 17.9),\n",
    "    (\"3-1\",  \"Female\", 13.4, 16.8, 17.8),\n",
    "    (\"3-2\",  \"Female\", 13.4, 16.8, 17.8),\n",
    "    (\"3-3\",  \"Female\", 13.4, 16.8, 17.8),\n",
    "    (\"3-4\",  \"Female\", 13.4, 16.7, 17.7),\n",
    "    (\"3-5\",  \"Female\", 13.4, 16.7, 17.7),\n",
    "    (\"3-6\",  \"Female\", 13.3, 16.7, 17.7),\n",
    "    (\"3-7\",  \"Female\", 13.3, 16.7, 17.8),\n",
    "    (\"3-8\",  \"Female\", 13.3, 16.7, 17.8),\n",
    "    (\"3-9\",  \"Female\", 13.3, 16.7, 17.8),\n",
    "    (\"3-10\",\"Female\", 13.2, 16.7, 17.8),\n",
    "    (\"3-11\",\"Female\", 13.2, 16.7, 17.9),\n",
    "    \n",
    "    (\"4-0\",  \"Female\", 13.2, 16.7, 17.9),\n",
    "    (\"4-1\",  \"Female\", 13.2, 16.7, 17.9),\n",
    "    (\"4-2\",  \"Female\", 13.2, 16.7, 17.9),\n",
    "    (\"4-3\",  \"Female\", 13.2, 16.7, 17.9),\n",
    "    (\"4-4\",  \"Female\", 13.2, 16.7, 17.9),\n",
    "    (\"4-5\",  \"Female\", 13.2, 16.7, 17.9),\n",
    "    (\"4-6\",  \"Female\", 13.1, 16.7, 17.9),\n",
    "    (\"4-7\",  \"Female\", 13.1, 16.7, 18.0),\n",
    "    (\"4-8\",  \"Female\", 13.1, 16.7, 18.0),\n",
    "    (\"4-9\",  \"Female\", 13.1, 16.7, 18.0),\n",
    "    (\"4-10\",\"Female\", 13.1, 16.7, 18.0),\n",
    "    (\"4-11\",\"Female\", 13.1, 16.7, 18.1),\n",
    "    \n",
    "    (\"5-0\",  \"Female\", 13.1, 16.9, 18.1),\n",
    "    (\"5-1\", \"Female\", 13.1, 16.9, 18.1),\n",
    "    (\"5-2\", \"Female\", 13.1, 16.9, 18.1),\n",
    "    (\"5-3\", \"Female\", 13.1, 17.0, 18.2),\n",
    "    (\"5-4\", \"Female\", 13.1, 17.0, 18.2),\n",
    "    (\"5-5\", \"Female\", 13.1, 17.0, 18.2),\n",
    "    (\"5-6\", \"Female\", 13.1, 17.0, 18.2),\n",
    "    (\"5-7\", \"Female\", 13.1, 17.0, 18.2),\n",
    "    (\"5-8\", \"Female\", 13.1, 17.0, 18.3),\n",
    "    (\"5-9\", \"Female\", 13.1, 17.0, 18.3),\n",
    "    (\"5-10\", \"Female\", 13.1, 17.0, 18.3),\n",
    "    (\"5-11\", \"Female\", 13.1, 17.0, 18.3),\n",
    "    \n",
    "    (\"6-0\", \"Female\", 13.1, 17.1, 18.4),\n",
    "    (\"6-1\", \"Female\", 13.1, 17.1, 18.4),\n",
    "    (\"6-2\", \"Female\", 13.1, 17.1, 18.5),\n",
    "    (\"6-3\", \"Female\", 13.1, 17.1, 18.5),\n",
    "    (\"6-4\", \"Female\", 13.1, 17.2, 18.6),\n",
    "    (\"6-5\", \"Female\", 13.1, 17.2, 18.6),\n",
    "    (\"6-6\", \"Female\", 13.1, 17.2, 18.6),\n",
    "    (\"6-7\", \"Female\", 13.1, 17.2, 18.6),\n",
    "    (\"6-8\", \"Female\", 13.2, 17.3, 18.7),\n",
    "    (\"6-9\", \"Female\", 13.2, 17.3, 18.7),\n",
    "    (\"6-10\",\"Female\", 13.2, 17.3, 18.7),\n",
    "    (\"6-11\",\"Female\", 13.2, 17.3, 18.7),\n",
    "    \n",
    "    (\"7-0\", \"Female\", 13.2, 17.4, 18.8),\n",
    "    (\"7-1\", \"Female\", 13.2, 17.4, 18.9),\n",
    "    (\"7-2\", \"Female\", 13.2, 17.4, 18.9),\n",
    "    (\"7-3\", \"Female\", 13.2, 17.5, 19.0),\n",
    "    (\"7-4\", \"Female\", 13.2, 17.5, 19.1),\n",
    "    (\"7-5\", \"Female\", 13.2, 17.5, 19.1),\n",
    "    (\"7-6\", \"Female\", 13.2, 17.6, 19.1),\n",
    "    (\"7-7\", \"Female\", 13.2, 17.6, 19.2),\n",
    "    (\"7-8\", \"Female\", 13.2, 17.6, 19.2),\n",
    "    (\"7-9\", \"Female\", 13.3, 17.7, 19.3),\n",
    "    (\"7-10\",\"Female\", 13.3, 17.7, 19.3),\n",
    "    (\"7-11\",\"Female\", 13.3, 17.8, 19.4),\n",
    "    \n",
    "    (\"8-0\", \"Female\", 13.3, 17.8, 19.4),\n",
    "    (\"8-1\", \"Female\", 13.3, 17.9, 19.5),\n",
    "    (\"8-2\", \"Female\", 13.3, 17.9, 19.6),\n",
    "    (\"8-3\", \"Female\", 13.4, 18.0, 19.6),\n",
    "    (\"8-4\", \"Female\", 13.4, 18.0, 19.7),\n",
    "    (\"8-5\", \"Female\", 13.4, 18.1, 19.8),\n",
    "    (\"8-6\", \"Female\", 13.4, 18.1, 19.8),\n",
    "    (\"8-7\", \"Female\", 13.4, 18.2, 19.9),\n",
    "    (\"8-8\", \"Female\", 13.5, 18.2, 20.0),\n",
    "    (\"8-9\", \"Female\", 13.5, 18.3, 20.0),\n",
    "    (\"8-10\",\"Female\", 13.5, 18.3, 20.1),\n",
    "    (\"8-11\",\"Female\", 13.5, 18.4, 20.2),\n",
    "    \n",
    "    (\"9-0\", \"Female\", 13.6, 18.4, 20.2),\n",
    "    (\"9-1\", \"Female\", 13.6, 18.5, 20.3),\n",
    "    (\"9-2\", \"Female\", 13.6, 18.5, 20.3),\n",
    "    (\"9-3\", \"Female\", 13.6, 18.6, 20.5),\n",
    "    (\"9-4\",  \"Female\", 13.7, 18.7, 20.5),\n",
    "    (\"9-5\",  \"Female\", 13.7, 18.7, 20.6),\n",
    "    (\"9-6\",  \"Female\", 13.7, 18.8, 20.7),\n",
    "    (\"9-7\",  \"Female\", 13.8, 18.8, 20.8),\n",
    "    (\"9-8\",  \"Female\", 13.8, 18.9, 20.9),\n",
    "    (\"9-9\",  \"Female\", 13.9, 19.0, 21.0),\n",
    "    (\"9-10\", \"Female\", 13.9, 19.0, 21.0),\n",
    "    (\"9-11\", \"Female\", 13.9, 19.1, 21.1),\n",
    "    \n",
    "    (\"10-0\", \"Female\", 13.9, 19.1, 21.1),\n",
    "    (\"10-1\", \"Female\", 14.0, 19.2, 21.2),\n",
    "    (\"10-2\", \"Female\", 14.0, 19.3, 21.3),\n",
    "    (\"10-3\", \"Female\", 14.0, 19.3, 21.3),\n",
    "    (\"10-4\", \"Female\", 14.1, 19.4, 21.4),\n",
    "    (\"10-5\", \"Female\", 14.1, 19.5, 21.5),\n",
    "    (\"10-6\", \"Female\", 14.1, 19.5, 21.6),\n",
    "    (\"10-7\", \"Female\", 14.2, 19.6, 21.7),\n",
    "    (\"10-8\", \"Female\", 14.2, 19.7, 21.8),\n",
    "    (\"10-9\", \"Female\", 14.2, 19.8, 21.9),\n",
    "    (\"10-10\",\"Female\", 14.3, 19.8, 22.0),\n",
    "    (\"10-11\",\"Female\", 14.3, 19.9, 22.1),\n",
    "    \n",
    "    (\"11-0\", \"Female\", 14.3, 20.0, 22.2),\n",
    "    (\"11-1\", \"Female\", 14.4, 20.0, 22.3),\n",
    "    (\"11-2\", \"Female\", 14.5, 20.1, 22.3),\n",
    "    (\"11-3\", \"Female\", 14.5, 20.2, 22.4),\n",
    "    (\"11-4\", \"Female\", 14.5, 20.3, 22.5),\n",
    "    (\"11-5\", \"Female\", 14.6, 20.4, 22.6),\n",
    "    (\"11-6\", \"Female\", 14.6, 20.4, 22.7),\n",
    "    (\"11-7\", \"Female\", 14.7, 20.5, 22.8),\n",
    "    (\"11-8\", \"Female\", 14.7, 20.6, 22.9),\n",
    "    (\"11-9\", \"Female\", 14.8, 20.7, 23.0),\n",
    "    (\"11-10\",\"Female\", 14.8, 20.8, 23.1),\n",
    "    (\"11-11\",\"Female\", 14.9, 20.8, 23.2),\n",
    "    \n",
    "    (\"12-0\", \"Female\", 14.9, 20.9, 23.3),\n",
    "    (\"12-1\", \"Female\", 15.0, 21.0, 23.4),\n",
    "    (\"12-2\", \"Female\", 15.0, 21.1, 23.5),\n",
    "    (\"12-3\", \"Female\", 15.1, 21.2, 23.6),\n",
    "    (\"12-4\", \"Female\", 15.1, 21.2, 23.7),\n",
    "    (\"12-5\", \"Female\", 15.1, 21.3, 23.8),\n",
    "    (\"12-6\", \"Female\", 15.2, 21.4, 23.9),\n",
    "    (\"12-7\", \"Female\", 15.2, 21.5, 23.9),\n",
    "    (\"12-8\", \"Female\", 15.3, 21.6, 24.0),\n",
    "    (\"12-9\", \"Female\", 15.3, 21.7, 24.1),\n",
    "    (\"12-10\",\"Female\", 15.4, 21.8, 24.2),\n",
    "    (\"12-11\",\"Female\", 15.4, 21.8, 24.3),\n",
    "    \n",
    "    (\"13-0\", \"Female\", 15.5, 21.9, 24.4),\n",
    "    (\"13-1\", \"Female\", 15.5, 22.0, 24.5),\n",
    "    (\"13-2\", \"Female\", 15.6, 22.1, 24.6),\n",
    "    (\"13-3\", \"Female\", 15.6, 22.2, 24.7),\n",
    "    (\"13-4\", \"Female\", 15.7, 22.3, 24.8),\n",
    "    (\"13-5\", \"Female\", 15.7, 22.3, 24.9),\n",
    "    (\"13-6\", \"Female\", 15.8, 22.4, 25.0),\n",
    "    (\"13-7\", \"Female\", 15.8, 22.5, 25.1),\n",
    "    (\"13-8\", \"Female\", 15.9, 22.6, 25.1),\n",
    "    (\"13-9\", \"Female\", 15.9, 22.7, 25.3),\n",
    "    (\"13-10\",\"Female\", 15.9, 22.7, 25.3),\n",
    "    (\"13-11\",\"Female\", 16.0, 22.8, 25.4),\n",
    "    \n",
    "    (\"14-0\", \"Female\", 16.0, 22.9, 25.5),\n",
    "    (\"14-1\", \"Female\", 16.1, 23.0, 25.6),\n",
    "    (\"14-2\", \"Female\", 16.1, 23.0, 25.6),\n",
    "    (\"14-3\", \"Female\", 16.2, 23.1, 25.7),\n",
    "    (\"14-4\", \"Female\", 16.2, 23.1, 25.7),\n",
    "    (\"14-5\", \"Female\", 16.2, 23.2, 25.8),\n",
    "    (\"14-6\", \"Female\", 16.2, 23.2, 25.9),\n",
    "    (\"14-7\", \"Female\", 16.3, 23.4, 26.0),\n",
    "    (\"14-8\", \"Female\", 16.4, 23.4, 26.1),\n",
    "    (\"14-9\", \"Female\", 16.4, 23.5, 26.2),\n",
    "    (\"14-10\",\"Female\", 16.4, 23.5, 26.2),\n",
    "    (\"14-11\",\"Female\", 16.5, 23.6, 26.3),\n",
    "    \n",
    "    (\"15-0\", \"Female\", 16.5, 23.7, 26.4),\n",
    "    (\"15-1\", \"Female\", 16.6, 23.8, 26.5),\n",
    "    (\"15-2\", \"Female\", 16.6, 23.8, 26.5),\n",
    "    (\"15-3\", \"Female\", 16.6, 23.8, 26.5),\n",
    "    (\"15-4\", \"Female\", 16.6, 23.9, 26.6),\n",
    "    (\"15-5\", \"Female\", 16.6, 23.9, 26.7),\n",
    "    (\"15-6\", \"Female\", 16.7, 24.0, 26.7),\n",
    "    (\"15-7\", \"Female\", 16.7, 24.0, 26.8),\n",
    "    (\"15-8\", \"Female\", 16.8, 24.1, 26.8),\n",
    "    (\"15-9\", \"Female\", 16.8, 24.1, 26.8),\n",
    "    (\"15-10\",\"Female\", 16.8, 24.2, 26.9),\n",
    "    (\"15-11\",\"Female\", 16.8, 24.2, 26.9),\n",
    "    \n",
    "    (\"16-0\", \"Female\", 16.9, 24.2, 27.0),\n",
    "    (\"16-1\", \"Female\", 16.9, 24.3, 27.0),\n",
    "    (\"16-2\", \"Female\", 16.9, 24.3, 27.1),\n",
    "    (\"16-3\", \"Female\", 17.0, 24.4, 27.1),\n",
    "    (\"16-4\", \"Female\", 17.0, 24.4, 27.1),\n",
    "    (\"16-5\", \"Female\", 17.0, 24.4, 27.2),\n",
    "    (\"16-6\", \"Female\", 17.0, 24.5, 27.2),\n",
    "    (\"16-7\", \"Female\", 17.0, 24.5, 27.2),\n",
    "    (\"16-8\", \"Female\", 17.0, 24.5, 27.3),\n",
    "    (\"16-9\", \"Female\", 17.1, 24.6, 27.3),\n",
    "    (\"16-10\",\"Female\", 17.1, 24.6, 27.3),\n",
    "    (\"16-11\",\"Female\", 17.1, 24.6, 27.3),\n",
    "    \n",
    "    (\"17-0\", \"Female\", 17.1, 24.7, 27.4),\n",
    "    (\"17-1\", \"Female\", 17.1, 24.7, 27.4),\n",
    "    (\"17-2\", \"Female\", 17.1, 24.7, 27.4),\n",
    "    (\"17-3\", \"Female\", 17.1, 24.7, 27.5),\n",
    "    (\"17-4\", \"Female\", 17.2, 24.8, 27.5),\n",
    "    (\"17-5\", \"Female\", 17.2, 24.8, 27.5),\n",
    "    (\"17-6\", \"Female\", 17.2, 24.8, 27.5),\n",
    "    (\"17-7\", \"Female\", 17.2, 24.8, 27.6),\n",
    "    (\"17-8\", \"Female\", 17.2, 24.8, 27.6),\n",
    "    (\"17-9\", \"Female\", 17.2, 24.9, 27.6),\n",
    "    (\"17-10\",\"Female\", 17.2, 24.9, 27.6),\n",
    "    (\"17-11\",\"Female\", 17.2, 24.9, 27.6),\n",
    "    \n",
    "    (\"18-0\", \"Female\", 17.2, 25.0, 27.7),\n",
    "    (\"18-1\", \"Female\", 17.2, 25.0, 27.7),\n",
    "    (\"18-2\", \"Female\", 17.2, 25.0, 27.7),\n",
    "    (\"18-3\", \"Female\", 17.2, 25.0, 27.8),\n",
    "    (\"18-4\", \"Female\", 17.2, 25.0, 27.8),\n",
    "    (\"18-5\", \"Female\", 17.2, 25.0, 27.8),\n",
    "    (\"18-6\", \"Female\", 17.2, 25.0, 27.8),\n",
    "    (\"18-7\", \"Female\", 17.2, 25.0, 27.8),\n",
    "    (\"18-8\", \"Female\", 17.2, 25.1, 27.8),\n",
    "    (\"18-9\", \"Female\", 17.2, 25.1, 27.8),\n",
    "    (\"18-10\",\"Female\", 17.2, 25.1, 27.8),\n",
    "    (\"18-11\",\"Female\", 17.2, 25.1, 27.8),\n",
    "    \n",
    "    (\"19-0\", \"Female\", 17.2, 25.1, 27.8),\n",
    "    \n",
    "], columns=[\"age_scaled\", \"gender\", \"p5\", \"p85\", \"p95\"])\n"
   ]
  },
  {
   "cell_type": "code",
   "execution_count": 32,
   "id": "1082ba90",
   "metadata": {},
   "outputs": [],
   "source": [
    "children_merged = children.merge(\n",
    "    bmi_percentile, how=\"left\", on=[\"age_scaled\", \"gender\"], validate=\"m:1\"\n",
    ")"
   ]
  },
  {
   "cell_type": "code",
   "execution_count": 33,
   "id": "1b444a59",
   "metadata": {},
   "outputs": [],
   "source": [
    "underweight_children = children_merged[children_merged['bmi'] < children_merged[\"p5\"]].bmi.count()\n",
    "normal_children = children_merged[(children_merged['bmi'] >= children_merged[\"p5\"]) & (children_merged['bmi'] < children_merged[\"p85\"])].bmi.count()\n",
    "overweight_children = children_merged[(children_merged['bmi'] >= children_merged[\"p85\"]) & (children_merged['bmi'] < children_merged[\"p95\"])].bmi.count()\n",
    "obese_children = children_merged[children_merged['bmi'] >= children_merged[\"p95\"]].bmi.count()"
   ]
  },
  {
   "cell_type": "code",
   "execution_count": 34,
   "id": "77f20f69",
   "metadata": {},
   "outputs": [
    {
     "name": "stdout",
     "output_type": "stream",
     "text": [
      "Underweight:  600\n",
      "Normal weight:  8518\n",
      "Overweight:  2983\n",
      "Obese:  7560\n"
     ]
    }
   ],
   "source": [
    "print(\"Underweight: \",underweight_children)\n",
    "print(\"Normal weight: \",normal_children)\n",
    "print(\"Overweight: \",overweight_children)\n",
    "print(\"Obese: \",obese_children)"
   ]
  },
  {
   "cell_type": "code",
   "execution_count": 35,
   "id": "45319a9d",
   "metadata": {},
   "outputs": [],
   "source": [
    "underweight = underweight_children + underweight_adult\n",
    "normal = normal_children + normal_adult\n",
    "overweight = overweight_children + overweight_adult\n",
    "obese = obese_children + obese_adult"
   ]
  },
  {
   "cell_type": "code",
   "execution_count": 36,
   "id": "01f95331",
   "metadata": {},
   "outputs": [],
   "source": [
    "bmi_categories = pd.Series([underweight, normal, overweight, obese], index=[\"Underweight\",\"Normal\", \"Overweight\", \"Obese\"])"
   ]
  },
  {
   "cell_type": "code",
   "execution_count": 37,
   "id": "5d020f8d",
   "metadata": {},
   "outputs": [
    {
     "data": {
      "image/png": "[encoded data removed]",
      "text/plain": [
       "<Figure size 1000x600 with 1 Axes>"
      ]
     },
     "metadata": {},
     "output_type": "display_data"
    }
   ],
   "source": [
    "plt.figure(figsize=(10,6))\n",
    "bmi_categories.plot(kind='bar',color=['#ADD8E6', '#77DD77', '#FFB347', '#FF6961'])\n",
    "plt.title('Count of BMI Categories', fontsize=14, fontweight=\"bold\")\n",
    "plt.xticks(rotation=0, fontsize=10)\n",
    "plt.xlabel('BMI Category')\n",
    "plt.ylabel('Count')\n",
    "plt.grid(axis='y', linestyle='--', alpha=0.7)   "
   ]
  },
  {
   "cell_type": "markdown",
   "id": "f8219d6f",
   "metadata": {},
   "source": [
    "We will explore two different ways of using the BMI feature:\n",
    "\n",
    "1. Raw values – Use the original continuous BMI values directly as a numeric feature.\n",
    "\n",
    "2. Categorical labels – Convert BMI values into four categories:\n",
    "\n",
    "    - Underweight\n",
    "\n",
    "    - Normal weight\n",
    "\n",
    "    - Overweight\n",
    "\n",
    "    - Obese\n",
    "\n",
    "Then apply One-Hot Encoding to transform these categories into numerical features.\n",
    "\n",
    "Both approaches will be compared to evaluate which representation of BMI leads to better model performance"
   ]
  },
  {
   "cell_type": "markdown",
   "id": "063c01d2",
   "metadata": {},
   "source": [
    "#### **HbA1c_level**"
   ]
  },
  {
   "cell_type": "markdown",
   "id": "76f6fae6",
   "metadata": {},
   "source": [
    "An A1C test measures the percentage of your red blood cells that have glucose-coated hemoglobin. High A1C levels are a sign of high blood glucose from diabetes. Diabetes can cause serious health problems, including heart disease, kidney disease, and nerve damage. \n",
    "\n",
    "![A1C](../hba1c.jpg)"
   ]
  },
  {
   "cell_type": "code",
   "execution_count": 38,
   "id": "252246ec",
   "metadata": {},
   "outputs": [
    {
     "name": "stdout",
     "output_type": "stream",
     "text": [
      "Normal :  37850\n",
      "Caution :  41338\n",
      "Danger :  20794\n"
     ]
    }
   ],
   "source": [
    "normal = df[df['hbA1c_level'] < 5.7].hbA1c_level.count()\n",
    "caution = df[(df['hbA1c_level']>=5.7) & (df['hbA1c_level'] <=6.4)].hbA1c_level.count()\n",
    "danger = df[df['hbA1c_level'] >= 6.5].hbA1c_level.count()\n",
    "print(\"Normal : \",normal)\n",
    "print(\"Caution : \",caution)\n",
    "print(\"Danger : \",danger)"
   ]
  },
  {
   "cell_type": "code",
   "execution_count": 39,
   "id": "03774770",
   "metadata": {},
   "outputs": [
    {
     "data": {
      "text/plain": [
       "Normal     37850\n",
       "Caution    41338\n",
       "Danger     20794\n",
       "dtype: int64"
      ]
     },
     "execution_count": 39,
     "metadata": {},
     "output_type": "execute_result"
    }
   ],
   "source": [
    "HbA1c = pd.Series([normal, caution, danger], index=[\"Normal\",\"Caution\", \"Danger\" ])\n",
    "HbA1c"
   ]
  },
  {
   "cell_type": "code",
   "execution_count": 40,
   "id": "7bb68e8d",
   "metadata": {},
   "outputs": [
    {
     "data": {
      "image/png": "[encoded data removed]",
      "text/plain": [
       "<Figure size 800x600 with 1 Axes>"
      ]
     },
     "metadata": {},
     "output_type": "display_data"
    }
   ],
   "source": [
    "plt.figure(figsize=(8,6))\n",
    "plt.bar(HbA1c.index, HbA1c.values,color=['#77DD77', '#FFB347', '#FF6961'])\n",
    "plt.title(\"HbA1c Distribution\", fontsize=14, fontweight=\"bold\")\n",
    "plt.xlabel(\"HbA1c Level\")\n",
    "plt.ylabel(\"Number of Entries\")\n",
    "plt.grid(axis='y', linestyle='--', alpha=0.7)\n",
    "plt.tight_layout()\n",
    "plt.show()"
   ]
  },
  {
   "cell_type": "markdown",
   "id": "d237bf68",
   "metadata": {},
   "source": [
    "Based on the definition of the A1C test and our preprocessing of the data, we observe that a large portion of individuals fall into the prediabetic range. However, to gain deeper insights, we will further investigate the relationship between HbA1c levels and the actual classification of diabetes. In particular, we will examine whether individuals with an HbA1c value greater than 6.4% are consistently categorized as diabetic in the dataset."
   ]
  },
  {
   "cell_type": "markdown",
   "id": "b6c58c17",
   "metadata": {},
   "source": [
    "#### **Blood glucose level**"
   ]
  },
  {
   "cell_type": "code",
   "execution_count": 41,
   "id": "695e2598",
   "metadata": {},
   "outputs": [
    {
     "data": {
      "text/plain": [
       "blood_glucose_level\n",
       "130    7794\n",
       "159    7756\n",
       "140    7730\n",
       "160    7708\n",
       "126    7700\n",
       "145    7679\n",
       "200    7599\n",
       "155    7575\n",
       "90     7110\n",
       "80     7105\n",
       "100    7025\n",
       "158    7024\n",
       "85     6900\n",
       "280     729\n",
       "300     674\n",
       "240     636\n",
       "260     635\n",
       "220     603\n",
       "Name: count, dtype: int64"
      ]
     },
     "execution_count": 41,
     "metadata": {},
     "output_type": "execute_result"
    }
   ],
   "source": [
    "bgl = df[\"blood_glucose_level\"].value_counts()\n",
    "bgl"
   ]
  },
  {
   "cell_type": "code",
   "execution_count": 42,
   "id": "fe26d20d",
   "metadata": {},
   "outputs": [
    {
     "name": "stdout",
     "output_type": "stream",
     "text": [
      "Normal:  51364\n",
      "Prediabetic:  37742\n",
      "Diabetic :  10876\n"
     ]
    }
   ],
   "source": [
    "normal = df[(df['blood_glucose_level'] >= 80) & (df['blood_glucose_level'] <= 140)].blood_glucose_level.count()\n",
    "prediabetic = df[(df['blood_glucose_level'] > 140 ) & (df['blood_glucose_level'] < 200)].blood_glucose_level.count()\n",
    "diabetic = df[df['blood_glucose_level'] >= 200].blood_glucose_level.count()\n",
    "\n",
    "print(\"Normal: \", normal)\n",
    "print(\"Prediabetic: \", prediabetic)\n",
    "print(\"Diabetic : \", diabetic)"
   ]
  },
  {
   "cell_type": "code",
   "execution_count": 43,
   "id": "4a241bef",
   "metadata": {},
   "outputs": [
    {
     "data": {
      "text/plain": [
       "Normal         51364\n",
       "Prediabetic    37742\n",
       "Diabetic       10876\n",
       "dtype: int64"
      ]
     },
     "execution_count": 43,
     "metadata": {},
     "output_type": "execute_result"
    }
   ],
   "source": [
    "blood_glucose = pd.Series([normal,prediabetic,diabetic], index=[\"Normal\", \"Prediabetic\", \"Diabetic\"])\n",
    "blood_glucose"
   ]
  },
  {
   "cell_type": "code",
   "execution_count": 44,
   "id": "d2561822",
   "metadata": {},
   "outputs": [
    {
     "data": {
      "image/png": "[encoded data removed]",
      "text/plain": [
       "<Figure size 800x600 with 1 Axes>"
      ]
     },
     "metadata": {},
     "output_type": "display_data"
    }
   ],
   "source": [
    "plt.figure(figsize=(8,6))\n",
    "plt.bar(blood_glucose.index, blood_glucose.values,color=['#77DD77', '#FFB347', '#FF6961'])\n",
    "plt.title(\"Blood Glucose Distribution\", fontsize=14, fontweight=\"bold\")\n",
    "plt.xlabel(\"Blood Glucose Level\")\n",
    "plt.ylabel(\"Number of Entries\")\n",
    "plt.grid(axis='y', linestyle='--', alpha=0.7)\n",
    "plt.tight_layout()\n",
    "plt.show()"
   ]
  },
  {
   "cell_type": "markdown",
   "id": "7fe9dcaf",
   "metadata": {},
   "source": [
    "Based on the definition of blood glucose thresholds and our preprocessing of the data, we observe that a large portion of individuals fall into the prediabetic range. However, to gain deeper insights, we will further investigate the relationship between blood glucose levels and the actual classification of diabetes. In particular, we will examine whether individuals with a blood glucose level greater than 200 mg/dL are consistently categorized as diabetic in the dataset."
   ]
  },
  {
   "cell_type": "markdown",
   "id": "17984a65",
   "metadata": {},
   "source": [
    "#### **Diabetes**"
   ]
  },
  {
   "cell_type": "code",
   "execution_count": 45,
   "id": "7da95a04",
   "metadata": {},
   "outputs": [
    {
     "data": {
      "text/plain": [
       "Non-Diabetic    91482\n",
       "Diabetic         8500\n",
       "Name: count, dtype: int64"
      ]
     },
     "execution_count": 45,
     "metadata": {},
     "output_type": "execute_result"
    }
   ],
   "source": [
    "diabetes = df[\"diabetes\"].value_counts()\n",
    "diabetes.index = [\"Non-Diabetic\", \"Diabetic\"]\n",
    "diabetes"
   ]
  },
  {
   "cell_type": "code",
   "execution_count": 46,
   "id": "bceb2c8e",
   "metadata": {},
   "outputs": [
    {
     "data": {
      "image/png": "[encoded data removed]",
      "text/plain": [
       "<Figure size 800x600 with 1 Axes>"
      ]
     },
     "metadata": {},
     "output_type": "display_data"
    }
   ],
   "source": [
    "plt.figure(figsize=(8,6))\n",
    "plt.bar(diabetes.index, diabetes.values,color=['#77DD77', '#FF6961'])\n",
    "plt.title(\"Diabetes Distribution\", fontsize=14, fontweight=\"bold\")\n",
    "plt.xlabel(\"Diabetes Status\")\n",
    "plt.ylabel(\"Number of Entries\")\n",
    "plt.grid(axis='y', linestyle='--', alpha=0.7)\n",
    "plt.tight_layout()\n",
    "plt.show()"
   ]
  },
  {
   "cell_type": "markdown",
   "id": "9aaacf5a",
   "metadata": {},
   "source": [
    "We observe that the data is imbalanced between the two classes, Non-Diabetic and Diabetic. To address this and ensure that both classes are proportionally represented in the training and test sets, we will apply a stratified splitting strategy."
   ]
  }
 ],
 "metadata": {
  "kernelspec": {
   "display_name": "env",
   "language": "python",
   "name": "python3"
  },
  "language_info": {
   "codemirror_mode": {
    "name": "ipython",
    "version": 3
   },
   "file_extension": ".py",
   "mimetype": "text/x-python",
   "name": "python",
   "nbconvert_exporter": "python",
   "pygments_lexer": "ipython3",
   "version": "3.11.9"
  }
 },
 "nbformat": 4,
 "nbformat_minor": 5
}
