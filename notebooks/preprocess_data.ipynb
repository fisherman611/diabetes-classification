{
 "cells": [
  {
   "cell_type": "markdown",
   "id": "7a8cf9fc",
   "metadata": {},
   "source": [
    "## **Preprocess dataset**\n",
    "\n",
    "After doing EDA process, we have to pre-process dataset like below:\n",
    "- Check missing values\n",
    "- Check duplicated values\n",
    "- Remove 'Other' from `gender` columns\n",
    "- Remove feature `smoking_history`, `clinical_notes`\n",
    "- Check some columns with `object` type, whether the values in this columns have different form but have the same meanings (e.g. HCM city - Saigon City)\n",
    "- Combine some values\n",
    "- Add BMI class to the dataset\n"
   ]
  },
  {
   "cell_type": "markdown",
   "id": "f818d240",
   "metadata": {},
   "source": [
    "### **Import necessary libraries**"
   ]
  },
  {
   "cell_type": "code",
   "execution_count": 1,
   "id": "b09dbc6b",
   "metadata": {},
   "outputs": [],
   "source": [
    "import pandas as pd\n",
    "import numpy as np\n",
    "import os\n",
    "import sys\n",
    "sys.path.append(os.path.abspath(os.path.join('..')))\n",
    "\n",
    "from utils.function import *\n",
    "from utils.constants import *\n",
    "\n",
    "import warnings\n",
    "warnings.filterwarnings(\"ignore\")"
   ]
  },
  {
   "cell_type": "code",
   "execution_count": 2,
   "id": "2dd7216c",
   "metadata": {},
   "outputs": [],
   "source": [
    "df = pd.read_csv('../data/diabetes_dataset_with_notes.csv')"
   ]
  },
  {
   "cell_type": "markdown",
   "id": "c862ac28",
   "metadata": {},
   "source": [
    "### **Check missing values**"
   ]
  },
  {
   "cell_type": "code",
   "execution_count": 3,
   "id": "f1a36c28",
   "metadata": {},
   "outputs": [
    {
     "name": "stdout",
     "output_type": "stream",
     "text": [
      "<class 'pandas.core.frame.DataFrame'>\n",
      "RangeIndex: 100000 entries, 0 to 99999\n",
      "Data columns (total 17 columns):\n",
      " #   Column                Non-Null Count   Dtype  \n",
      "---  ------                --------------   -----  \n",
      " 0   year                  100000 non-null  int64  \n",
      " 1   gender                100000 non-null  object \n",
      " 2   age                   100000 non-null  float64\n",
      " 3   location              100000 non-null  object \n",
      " 4   race:AfricanAmerican  100000 non-null  int64  \n",
      " 5   race:Asian            100000 non-null  int64  \n",
      " 6   race:Caucasian        100000 non-null  int64  \n",
      " 7   race:Hispanic         100000 non-null  int64  \n",
      " 8   race:Other            100000 non-null  int64  \n",
      " 9   hypertension          100000 non-null  int64  \n",
      " 10  heart_disease         100000 non-null  int64  \n",
      " 11  smoking_history       100000 non-null  object \n",
      " 12  bmi                   100000 non-null  float64\n",
      " 13  hbA1c_level           100000 non-null  float64\n",
      " 14  blood_glucose_level   100000 non-null  int64  \n",
      " 15  diabetes              100000 non-null  int64  \n",
      " 16  clinical_notes        100000 non-null  object \n",
      "dtypes: float64(3), int64(10), object(4)\n",
      "memory usage: 13.0+ MB\n"
     ]
    }
   ],
   "source": [
    "df.info()"
   ]
  },
  {
   "cell_type": "markdown",
   "id": "4e037b7b",
   "metadata": {},
   "source": [
    "Based on the information above, this dataset has no missing values."
   ]
  },
  {
   "cell_type": "markdown",
   "id": "e88c3c49",
   "metadata": {},
   "source": [
    "### **Check duplicated values**"
   ]
  },
  {
   "cell_type": "code",
   "execution_count": 4,
   "id": "c1a13048",
   "metadata": {},
   "outputs": [
    {
     "name": "stdout",
     "output_type": "stream",
     "text": [
      "Number of Duplicated values: 14\n"
     ]
    }
   ],
   "source": [
    "duplicated = df.duplicated().sum()\n",
    "print(f'Number of Duplicated values: {duplicated}')"
   ]
  },
  {
   "cell_type": "code",
   "execution_count": 5,
   "id": "c11ed316",
   "metadata": {},
   "outputs": [],
   "source": [
    "df.drop_duplicates(inplace=True)"
   ]
  },
  {
   "cell_type": "code",
   "execution_count": 6,
   "id": "2d9b8a39",
   "metadata": {},
   "outputs": [],
   "source": [
    "df.reset_index(drop=True, inplace=True)"
   ]
  },
  {
   "cell_type": "code",
   "execution_count": 7,
   "id": "ba501e47",
   "metadata": {},
   "outputs": [
    {
     "data": {
      "text/plain": [
       "(99986, 17)"
      ]
     },
     "execution_count": 7,
     "metadata": {},
     "output_type": "execute_result"
    }
   ],
   "source": [
    "df.shape"
   ]
  },
  {
   "cell_type": "code",
   "execution_count": 8,
   "id": "8105360b",
   "metadata": {},
   "outputs": [
    {
     "name": "stdout",
     "output_type": "stream",
     "text": [
      "Number of Duplicated values: 0\n"
     ]
    }
   ],
   "source": [
    "duplicated = df.duplicated().sum()\n",
    "print(f'Number of Duplicated values: {duplicated}')"
   ]
  },
  {
   "cell_type": "markdown",
   "id": "a102f389",
   "metadata": {},
   "source": [
    "### **Remove \"Other\" from `gender` feature**"
   ]
  },
  {
   "cell_type": "code",
   "execution_count": 9,
   "id": "61d27910",
   "metadata": {},
   "outputs": [
    {
     "data": {
      "text/plain": [
       "(99968, 17)"
      ]
     },
     "execution_count": 9,
     "metadata": {},
     "output_type": "execute_result"
    }
   ],
   "source": [
    "df = df[df[\"gender\"] != \"Other\"]\n",
    "df.shape"
   ]
  },
  {
   "cell_type": "markdown",
   "id": "d658aa84",
   "metadata": {},
   "source": [
    "### **Remove feature `smoking_history`, `clinical_notes`**"
   ]
  },
  {
   "cell_type": "code",
   "execution_count": 10,
   "id": "57ea200d",
   "metadata": {},
   "outputs": [
    {
     "data": {
      "text/plain": [
       "(99968, 15)"
      ]
     },
     "execution_count": 10,
     "metadata": {},
     "output_type": "execute_result"
    }
   ],
   "source": [
    "df = df.drop(columns=['smoking_history', 'clinical_notes']).reset_index(drop=True)\n",
    "df.shape"
   ]
  },
  {
   "cell_type": "markdown",
   "id": "68cd8f57",
   "metadata": {},
   "source": [
    "### **Check some columns with `object` type**\n",
    "\n",
    "We will check `location` feature"
   ]
  },
  {
   "cell_type": "code",
   "execution_count": 11,
   "id": "1e9be60b",
   "metadata": {},
   "outputs": [
    {
     "data": {
      "text/plain": [
       "array(['Alabama', 'Alaska', 'Arizona', 'Arkansas', 'California',\n",
       "       'Colorado', 'Connecticut', 'Delaware', 'District of Columbia',\n",
       "       'Florida', 'Georgia', 'Guam', 'Hawaii', 'Idaho', 'Illinois',\n",
       "       'Indiana', 'Iowa', 'Kansas', 'Kentucky', 'Louisiana', 'Maine',\n",
       "       'Maryland', 'Massachusetts', 'Michigan', 'Minnesota',\n",
       "       'Mississippi', 'Missouri', 'Montana', 'Nebraska', 'Nevada',\n",
       "       'New Hampshire', 'New Jersey', 'New Mexico', 'New York',\n",
       "       'North Carolina', 'North Dakota', 'Ohio', 'Oklahoma', 'Oregon',\n",
       "       'Pennsylvania', 'Puerto Rico', 'Rhode Island', 'South Carolina',\n",
       "       'South Dakota', 'Tennessee', 'Texas', 'United States', 'Utah',\n",
       "       'Vermont', 'Virgin Islands', 'Virginia', 'Washington',\n",
       "       'West Virginia', 'Wisconsin', 'Wyoming'], dtype=object)"
      ]
     },
     "execution_count": 11,
     "metadata": {},
     "output_type": "execute_result"
    }
   ],
   "source": [
    "df[\"location\"].unique()"
   ]
  },
  {
   "cell_type": "markdown",
   "id": "92ffcba5",
   "metadata": {},
   "source": [
    "The `location` columns seem correct, do not have the different categories with the same meaning!!! But in the EDA process, we can see Virgin Islands, Wisconsin and Wyoming have lesser entires as compared to other locations, so we can combine these to one location named \"Others\"."
   ]
  },
  {
   "cell_type": "markdown",
   "id": "dda7747d",
   "metadata": {},
   "source": [
    "### **Combine some values**"
   ]
  },
  {
   "cell_type": "code",
   "execution_count": 12,
   "id": "44c8b7f3",
   "metadata": {},
   "outputs": [],
   "source": [
    "mapping = {\n",
    "    \"Virgin Islands\": \"Others\",\n",
    "    \"Wisconsin\": \"Others\",\n",
    "    \"Wyoming\": \"Others\",\n",
    "}\n",
    "\n",
    "df['location'] = df['location'].replace(mapping)"
   ]
  },
  {
   "cell_type": "code",
   "execution_count": 13,
   "id": "1431d0b4",
   "metadata": {},
   "outputs": [
    {
     "data": {
      "text/plain": [
       "array(['Alabama', 'Alaska', 'Arizona', 'Arkansas', 'California',\n",
       "       'Colorado', 'Connecticut', 'Delaware', 'District of Columbia',\n",
       "       'Florida', 'Georgia', 'Guam', 'Hawaii', 'Idaho', 'Illinois',\n",
       "       'Indiana', 'Iowa', 'Kansas', 'Kentucky', 'Louisiana', 'Maine',\n",
       "       'Maryland', 'Massachusetts', 'Michigan', 'Minnesota',\n",
       "       'Mississippi', 'Missouri', 'Montana', 'Nebraska', 'Nevada',\n",
       "       'New Hampshire', 'New Jersey', 'New Mexico', 'New York',\n",
       "       'North Carolina', 'North Dakota', 'Ohio', 'Oklahoma', 'Oregon',\n",
       "       'Pennsylvania', 'Puerto Rico', 'Rhode Island', 'South Carolina',\n",
       "       'South Dakota', 'Tennessee', 'Texas', 'United States', 'Utah',\n",
       "       'Vermont', 'Others', 'Virginia', 'Washington', 'West Virginia'],\n",
       "      dtype=object)"
      ]
     },
     "execution_count": 13,
     "metadata": {},
     "output_type": "execute_result"
    }
   ],
   "source": [
    "df['location'].unique()"
   ]
  },
  {
   "cell_type": "markdown",
   "id": "ba3e4b4b",
   "metadata": {},
   "source": [
    "### **Add BMI class to the dataset**"
   ]
  },
  {
   "cell_type": "markdown",
   "id": "3c6015c4",
   "metadata": {},
   "source": [
    "Convert BMI values into four categories (Underweight, Normal, Overweight, Obese)"
   ]
  },
  {
   "cell_type": "code",
   "execution_count": 14,
   "id": "83c1ba04",
   "metadata": {},
   "outputs": [],
   "source": [
    "adults = df[df['age'] >= 20] \n",
    "children = df[df['age'] < 20]"
   ]
  },
  {
   "cell_type": "code",
   "execution_count": 15,
   "id": "b230ac2c",
   "metadata": {},
   "outputs": [],
   "source": [
    "df.loc[:, 'age_scaled'] = (\n",
    "    df['age'].apply(lambda x: years_to_years_months(x) if pd.notna(x) else pd.NA)\n",
    ")"
   ]
  },
  {
   "cell_type": "code",
   "execution_count": 16,
   "id": "fc868ff8",
   "metadata": {},
   "outputs": [],
   "source": [
    "df[\"bmi_class\"] = df.apply(\n",
    "    lambda row: classify_bmi_row(row, bmi_percentile), axis=1\n",
    ")\n"
   ]
  },
  {
   "cell_type": "code",
   "execution_count": 17,
   "id": "0890d923",
   "metadata": {},
   "outputs": [
    {
     "data": {
      "text/html": [
       "<div>\n",
       "<style scoped>\n",
       "    .dataframe tbody tr th:only-of-type {\n",
       "        vertical-align: middle;\n",
       "    }\n",
       "\n",
       "    .dataframe tbody tr th {\n",
       "        vertical-align: top;\n",
       "    }\n",
       "\n",
       "    .dataframe thead th {\n",
       "        text-align: right;\n",
       "    }\n",
       "</style>\n",
       "<table border=\"1\" class=\"dataframe\">\n",
       "  <thead>\n",
       "    <tr style=\"text-align: right;\">\n",
       "      <th></th>\n",
       "      <th>year</th>\n",
       "      <th>gender</th>\n",
       "      <th>age</th>\n",
       "      <th>location</th>\n",
       "      <th>race:AfricanAmerican</th>\n",
       "      <th>race:Asian</th>\n",
       "      <th>race:Caucasian</th>\n",
       "      <th>race:Hispanic</th>\n",
       "      <th>race:Other</th>\n",
       "      <th>hypertension</th>\n",
       "      <th>heart_disease</th>\n",
       "      <th>bmi</th>\n",
       "      <th>hbA1c_level</th>\n",
       "      <th>blood_glucose_level</th>\n",
       "      <th>diabetes</th>\n",
       "      <th>age_scaled</th>\n",
       "      <th>bmi_class</th>\n",
       "    </tr>\n",
       "  </thead>\n",
       "  <tbody>\n",
       "    <tr>\n",
       "      <th>0</th>\n",
       "      <td>2020</td>\n",
       "      <td>Female</td>\n",
       "      <td>32.0</td>\n",
       "      <td>Alabama</td>\n",
       "      <td>0</td>\n",
       "      <td>0</td>\n",
       "      <td>0</td>\n",
       "      <td>0</td>\n",
       "      <td>1</td>\n",
       "      <td>0</td>\n",
       "      <td>0</td>\n",
       "      <td>27.32</td>\n",
       "      <td>5.0</td>\n",
       "      <td>100</td>\n",
       "      <td>0</td>\n",
       "      <td>32-0</td>\n",
       "      <td>Overweight</td>\n",
       "    </tr>\n",
       "    <tr>\n",
       "      <th>1</th>\n",
       "      <td>2015</td>\n",
       "      <td>Female</td>\n",
       "      <td>29.0</td>\n",
       "      <td>Alabama</td>\n",
       "      <td>0</td>\n",
       "      <td>1</td>\n",
       "      <td>0</td>\n",
       "      <td>0</td>\n",
       "      <td>0</td>\n",
       "      <td>0</td>\n",
       "      <td>0</td>\n",
       "      <td>19.95</td>\n",
       "      <td>5.0</td>\n",
       "      <td>90</td>\n",
       "      <td>0</td>\n",
       "      <td>29-0</td>\n",
       "      <td>Normal weight</td>\n",
       "    </tr>\n",
       "    <tr>\n",
       "      <th>2</th>\n",
       "      <td>2015</td>\n",
       "      <td>Male</td>\n",
       "      <td>18.0</td>\n",
       "      <td>Alabama</td>\n",
       "      <td>0</td>\n",
       "      <td>0</td>\n",
       "      <td>0</td>\n",
       "      <td>0</td>\n",
       "      <td>1</td>\n",
       "      <td>0</td>\n",
       "      <td>0</td>\n",
       "      <td>23.76</td>\n",
       "      <td>4.8</td>\n",
       "      <td>160</td>\n",
       "      <td>0</td>\n",
       "      <td>18-0</td>\n",
       "      <td>Normal weight</td>\n",
       "    </tr>\n",
       "    <tr>\n",
       "      <th>3</th>\n",
       "      <td>2015</td>\n",
       "      <td>Male</td>\n",
       "      <td>41.0</td>\n",
       "      <td>Alabama</td>\n",
       "      <td>0</td>\n",
       "      <td>0</td>\n",
       "      <td>1</td>\n",
       "      <td>0</td>\n",
       "      <td>0</td>\n",
       "      <td>0</td>\n",
       "      <td>0</td>\n",
       "      <td>27.32</td>\n",
       "      <td>4.0</td>\n",
       "      <td>159</td>\n",
       "      <td>0</td>\n",
       "      <td>41-0</td>\n",
       "      <td>Overweight</td>\n",
       "    </tr>\n",
       "    <tr>\n",
       "      <th>4</th>\n",
       "      <td>2016</td>\n",
       "      <td>Female</td>\n",
       "      <td>52.0</td>\n",
       "      <td>Alabama</td>\n",
       "      <td>1</td>\n",
       "      <td>0</td>\n",
       "      <td>0</td>\n",
       "      <td>0</td>\n",
       "      <td>0</td>\n",
       "      <td>0</td>\n",
       "      <td>0</td>\n",
       "      <td>23.75</td>\n",
       "      <td>6.5</td>\n",
       "      <td>90</td>\n",
       "      <td>0</td>\n",
       "      <td>52-0</td>\n",
       "      <td>Normal weight</td>\n",
       "    </tr>\n",
       "  </tbody>\n",
       "</table>\n",
       "</div>"
      ],
      "text/plain": [
       "   year  gender   age location  race:AfricanAmerican  race:Asian  \\\n",
       "0  2020  Female  32.0  Alabama                     0           0   \n",
       "1  2015  Female  29.0  Alabama                     0           1   \n",
       "2  2015    Male  18.0  Alabama                     0           0   \n",
       "3  2015    Male  41.0  Alabama                     0           0   \n",
       "4  2016  Female  52.0  Alabama                     1           0   \n",
       "\n",
       "   race:Caucasian  race:Hispanic  race:Other  hypertension  heart_disease  \\\n",
       "0               0              0           1             0              0   \n",
       "1               0              0           0             0              0   \n",
       "2               0              0           1             0              0   \n",
       "3               1              0           0             0              0   \n",
       "4               0              0           0             0              0   \n",
       "\n",
       "     bmi  hbA1c_level  blood_glucose_level  diabetes age_scaled      bmi_class  \n",
       "0  27.32          5.0                  100         0       32-0     Overweight  \n",
       "1  19.95          5.0                   90         0       29-0  Normal weight  \n",
       "2  23.76          4.8                  160         0       18-0  Normal weight  \n",
       "3  27.32          4.0                  159         0       41-0     Overweight  \n",
       "4  23.75          6.5                   90         0       52-0  Normal weight  "
      ]
     },
     "execution_count": 17,
     "metadata": {},
     "output_type": "execute_result"
    }
   ],
   "source": [
    "df.head()"
   ]
  },
  {
   "cell_type": "code",
   "execution_count": 18,
   "id": "c70054d8",
   "metadata": {},
   "outputs": [
    {
     "data": {
      "text/plain": [
       "(99968, 16)"
      ]
     },
     "execution_count": 18,
     "metadata": {},
     "output_type": "execute_result"
    }
   ],
   "source": [
    "df = df.drop(columns=[\"age_scaled\"]).reset_index(drop=True)\n",
    "df.shape"
   ]
  },
  {
   "cell_type": "code",
   "execution_count": 19,
   "id": "82199391",
   "metadata": {},
   "outputs": [
    {
     "name": "stdout",
     "output_type": "stream",
     "text": [
      "<class 'pandas.core.frame.DataFrame'>\n",
      "RangeIndex: 99968 entries, 0 to 99967\n",
      "Data columns (total 16 columns):\n",
      " #   Column                Non-Null Count  Dtype  \n",
      "---  ------                --------------  -----  \n",
      " 0   year                  99968 non-null  int64  \n",
      " 1   gender                99968 non-null  object \n",
      " 2   age                   99968 non-null  float64\n",
      " 3   location              99968 non-null  object \n",
      " 4   race:AfricanAmerican  99968 non-null  int64  \n",
      " 5   race:Asian            99968 non-null  int64  \n",
      " 6   race:Caucasian        99968 non-null  int64  \n",
      " 7   race:Hispanic         99968 non-null  int64  \n",
      " 8   race:Other            99968 non-null  int64  \n",
      " 9   hypertension          99968 non-null  int64  \n",
      " 10  heart_disease         99968 non-null  int64  \n",
      " 11  bmi                   99968 non-null  float64\n",
      " 12  hbA1c_level           99968 non-null  float64\n",
      " 13  blood_glucose_level   99968 non-null  int64  \n",
      " 14  diabetes              99968 non-null  int64  \n",
      " 15  bmi_class             99968 non-null  object \n",
      "dtypes: float64(3), int64(10), object(3)\n",
      "memory usage: 12.2+ MB\n"
     ]
    }
   ],
   "source": [
    "df.info()"
   ]
  },
  {
   "cell_type": "markdown",
   "id": "777d7c9e",
   "metadata": {},
   "source": [
    "### **Stores the preprocessed data**"
   ]
  },
  {
   "cell_type": "code",
   "execution_count": 20,
   "id": "5f27fa21",
   "metadata": {},
   "outputs": [],
   "source": [
    "df.to_csv('../data/preprocessed_diabetes.csv', index=False)"
   ]
  }
 ],
 "metadata": {
  "kernelspec": {
   "display_name": "env",
   "language": "python",
   "name": "python3"
  },
  "language_info": {
   "codemirror_mode": {
    "name": "ipython",
    "version": 3
   },
   "file_extension": ".py",
   "mimetype": "text/x-python",
   "name": "python",
   "nbconvert_exporter": "python",
   "pygments_lexer": "ipython3",
   "version": "3.11.9"
  }
 },
 "nbformat": 4,
 "nbformat_minor": 5
}
