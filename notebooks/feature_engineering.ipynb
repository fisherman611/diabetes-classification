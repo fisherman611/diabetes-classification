{
 "cells": [
  {
   "cell_type": "markdown",
   "id": "11369ecd",
   "metadata": {},
   "source": [
    "## **Feature engineering**"
   ]
  },
  {
   "cell_type": "markdown",
   "id": "e8ebe9fb",
   "metadata": {},
   "source": [
    "### **Import necessary libraries**"
   ]
  },
  {
   "cell_type": "code",
   "execution_count": 7,
   "id": "37711bed",
   "metadata": {},
   "outputs": [],
   "source": [
    "\n",
    "import pandas as pd\n",
    "import numpy as np\n",
    "import os\n",
    "import sys\n",
    "sys.path.append(os.path.abspath(os.path.join('..')))\n",
    "\n",
    "from utils.function import *\n",
    "from utils.constants import *\n",
    "\n",
    "import warnings\n",
    "warnings.filterwarnings(\"ignore\")\n",
    "\n",
    "from sklearn.preprocessing import StandardScaler, OneHotEncoder"
   ]
  },
  {
   "cell_type": "code",
   "execution_count": 8,
   "id": "ade9ebcd",
   "metadata": {},
   "outputs": [],
   "source": [
    "df = pd.read_csv('../data/preprocessed_diabetes.csv')"
   ]
  },
  {
   "cell_type": "code",
   "execution_count": 9,
   "id": "777b9dbe",
   "metadata": {},
   "outputs": [
    {
     "name": "stdout",
     "output_type": "stream",
     "text": [
      "<class 'pandas.core.frame.DataFrame'>\n",
      "RangeIndex: 99968 entries, 0 to 99967\n",
      "Data columns (total 15 columns):\n",
      " #   Column                Non-Null Count  Dtype  \n",
      "---  ------                --------------  -----  \n",
      " 0   gender                99968 non-null  object \n",
      " 1   age                   99968 non-null  float64\n",
      " 2   location              99968 non-null  object \n",
      " 3   race:AfricanAmerican  99968 non-null  int64  \n",
      " 4   race:Asian            99968 non-null  int64  \n",
      " 5   race:Caucasian        99968 non-null  int64  \n",
      " 6   race:Hispanic         99968 non-null  int64  \n",
      " 7   race:Other            99968 non-null  int64  \n",
      " 8   hypertension          99968 non-null  int64  \n",
      " 9   heart_disease         99968 non-null  int64  \n",
      " 10  bmi                   99968 non-null  float64\n",
      " 11  hbA1c_level           99968 non-null  float64\n",
      " 12  blood_glucose_level   99968 non-null  int64  \n",
      " 13  diabetes              99968 non-null  int64  \n",
      " 14  bmi_class             99968 non-null  object \n",
      "dtypes: float64(3), int64(9), object(3)\n",
      "memory usage: 11.4+ MB\n"
     ]
    }
   ],
   "source": [
    "df.info()"
   ]
  },
  {
   "cell_type": "code",
   "execution_count": 10,
   "id": "ae45a98e",
   "metadata": {},
   "outputs": [
    {
     "data": {
      "text/html": [
       "<div>\n",
       "<style scoped>\n",
       "    .dataframe tbody tr th:only-of-type {\n",
       "        vertical-align: middle;\n",
       "    }\n",
       "\n",
       "    .dataframe tbody tr th {\n",
       "        vertical-align: top;\n",
       "    }\n",
       "\n",
       "    .dataframe thead th {\n",
       "        text-align: right;\n",
       "    }\n",
       "</style>\n",
       "<table border=\"1\" class=\"dataframe\">\n",
       "  <thead>\n",
       "    <tr style=\"text-align: right;\">\n",
       "      <th></th>\n",
       "      <th>gender</th>\n",
       "      <th>age</th>\n",
       "      <th>location</th>\n",
       "      <th>race:AfricanAmerican</th>\n",
       "      <th>race:Asian</th>\n",
       "      <th>race:Caucasian</th>\n",
       "      <th>race:Hispanic</th>\n",
       "      <th>race:Other</th>\n",
       "      <th>hypertension</th>\n",
       "      <th>heart_disease</th>\n",
       "      <th>bmi</th>\n",
       "      <th>hbA1c_level</th>\n",
       "      <th>blood_glucose_level</th>\n",
       "      <th>diabetes</th>\n",
       "      <th>bmi_class</th>\n",
       "    </tr>\n",
       "  </thead>\n",
       "  <tbody>\n",
       "    <tr>\n",
       "      <th>0</th>\n",
       "      <td>Female</td>\n",
       "      <td>32.0</td>\n",
       "      <td>Alabama</td>\n",
       "      <td>0</td>\n",
       "      <td>0</td>\n",
       "      <td>0</td>\n",
       "      <td>0</td>\n",
       "      <td>1</td>\n",
       "      <td>0</td>\n",
       "      <td>0</td>\n",
       "      <td>27.32</td>\n",
       "      <td>5.0</td>\n",
       "      <td>100</td>\n",
       "      <td>0</td>\n",
       "      <td>Overweight</td>\n",
       "    </tr>\n",
       "    <tr>\n",
       "      <th>1</th>\n",
       "      <td>Female</td>\n",
       "      <td>29.0</td>\n",
       "      <td>Alabama</td>\n",
       "      <td>0</td>\n",
       "      <td>1</td>\n",
       "      <td>0</td>\n",
       "      <td>0</td>\n",
       "      <td>0</td>\n",
       "      <td>0</td>\n",
       "      <td>0</td>\n",
       "      <td>19.95</td>\n",
       "      <td>5.0</td>\n",
       "      <td>90</td>\n",
       "      <td>0</td>\n",
       "      <td>Normal weight</td>\n",
       "    </tr>\n",
       "    <tr>\n",
       "      <th>2</th>\n",
       "      <td>Male</td>\n",
       "      <td>18.0</td>\n",
       "      <td>Alabama</td>\n",
       "      <td>0</td>\n",
       "      <td>0</td>\n",
       "      <td>0</td>\n",
       "      <td>0</td>\n",
       "      <td>1</td>\n",
       "      <td>0</td>\n",
       "      <td>0</td>\n",
       "      <td>23.76</td>\n",
       "      <td>4.8</td>\n",
       "      <td>160</td>\n",
       "      <td>0</td>\n",
       "      <td>Normal weight</td>\n",
       "    </tr>\n",
       "    <tr>\n",
       "      <th>3</th>\n",
       "      <td>Male</td>\n",
       "      <td>41.0</td>\n",
       "      <td>Alabama</td>\n",
       "      <td>0</td>\n",
       "      <td>0</td>\n",
       "      <td>1</td>\n",
       "      <td>0</td>\n",
       "      <td>0</td>\n",
       "      <td>0</td>\n",
       "      <td>0</td>\n",
       "      <td>27.32</td>\n",
       "      <td>4.0</td>\n",
       "      <td>159</td>\n",
       "      <td>0</td>\n",
       "      <td>Overweight</td>\n",
       "    </tr>\n",
       "    <tr>\n",
       "      <th>4</th>\n",
       "      <td>Female</td>\n",
       "      <td>52.0</td>\n",
       "      <td>Alabama</td>\n",
       "      <td>1</td>\n",
       "      <td>0</td>\n",
       "      <td>0</td>\n",
       "      <td>0</td>\n",
       "      <td>0</td>\n",
       "      <td>0</td>\n",
       "      <td>0</td>\n",
       "      <td>23.75</td>\n",
       "      <td>6.5</td>\n",
       "      <td>90</td>\n",
       "      <td>0</td>\n",
       "      <td>Normal weight</td>\n",
       "    </tr>\n",
       "  </tbody>\n",
       "</table>\n",
       "</div>"
      ],
      "text/plain": [
       "   gender   age location  race:AfricanAmerican  race:Asian  race:Caucasian  \\\n",
       "0  Female  32.0  Alabama                     0           0               0   \n",
       "1  Female  29.0  Alabama                     0           1               0   \n",
       "2    Male  18.0  Alabama                     0           0               0   \n",
       "3    Male  41.0  Alabama                     0           0               1   \n",
       "4  Female  52.0  Alabama                     1           0               0   \n",
       "\n",
       "   race:Hispanic  race:Other  hypertension  heart_disease    bmi  hbA1c_level  \\\n",
       "0              0           1             0              0  27.32          5.0   \n",
       "1              0           0             0              0  19.95          5.0   \n",
       "2              0           1             0              0  23.76          4.8   \n",
       "3              0           0             0              0  27.32          4.0   \n",
       "4              0           0             0              0  23.75          6.5   \n",
       "\n",
       "   blood_glucose_level  diabetes      bmi_class  \n",
       "0                  100         0     Overweight  \n",
       "1                   90         0  Normal weight  \n",
       "2                  160         0  Normal weight  \n",
       "3                  159         0     Overweight  \n",
       "4                   90         0  Normal weight  "
      ]
     },
     "execution_count": 10,
     "metadata": {},
     "output_type": "execute_result"
    }
   ],
   "source": [
    "df.head()"
   ]
  },
  {
   "cell_type": "markdown",
   "id": "28f00ecf",
   "metadata": {},
   "source": [
    "### **Apply `StandardScaler`**"
   ]
  },
  {
   "cell_type": "markdown",
   "id": "bb4c438c",
   "metadata": {},
   "source": [
    "We will apply `StandardScaler` to some numerical columns."
   ]
  },
  {
   "cell_type": "code",
   "execution_count": 11,
   "id": "7c32a4ac",
   "metadata": {},
   "outputs": [],
   "source": [
    "scaler = StandardScaler()"
   ]
  },
  {
   "cell_type": "code",
   "execution_count": 12,
   "id": "a2bf187a",
   "metadata": {},
   "outputs": [],
   "source": [
    "df[[\"age\", \"bmi\", \"hbA1c_level\", \"blood_glucose_level\"]] = scaler.fit_transform(df[[\"age\", \"bmi\", \"hbA1c_level\", \"blood_glucose_level\"]])"
   ]
  },
  {
   "cell_type": "code",
   "execution_count": 14,
   "id": "47dc9e21",
   "metadata": {},
   "outputs": [
    {
     "data": {
      "text/html": [
       "<div>\n",
       "<style scoped>\n",
       "    .dataframe tbody tr th:only-of-type {\n",
       "        vertical-align: middle;\n",
       "    }\n",
       "\n",
       "    .dataframe tbody tr th {\n",
       "        vertical-align: top;\n",
       "    }\n",
       "\n",
       "    .dataframe thead th {\n",
       "        text-align: right;\n",
       "    }\n",
       "</style>\n",
       "<table border=\"1\" class=\"dataframe\">\n",
       "  <thead>\n",
       "    <tr style=\"text-align: right;\">\n",
       "      <th></th>\n",
       "      <th>gender</th>\n",
       "      <th>age</th>\n",
       "      <th>location</th>\n",
       "      <th>race:AfricanAmerican</th>\n",
       "      <th>race:Asian</th>\n",
       "      <th>race:Caucasian</th>\n",
       "      <th>race:Hispanic</th>\n",
       "      <th>race:Other</th>\n",
       "      <th>hypertension</th>\n",
       "      <th>heart_disease</th>\n",
       "      <th>bmi</th>\n",
       "      <th>hbA1c_level</th>\n",
       "      <th>blood_glucose_level</th>\n",
       "      <th>diabetes</th>\n",
       "      <th>bmi_class</th>\n",
       "    </tr>\n",
       "  </thead>\n",
       "  <tbody>\n",
       "    <tr>\n",
       "      <th>0</th>\n",
       "      <td>Female</td>\n",
       "      <td>-0.439148</td>\n",
       "      <td>Alabama</td>\n",
       "      <td>0</td>\n",
       "      <td>0</td>\n",
       "      <td>0</td>\n",
       "      <td>0</td>\n",
       "      <td>1</td>\n",
       "      <td>0</td>\n",
       "      <td>0</td>\n",
       "      <td>-0.000114</td>\n",
       "      <td>-0.492723</td>\n",
       "      <td>-0.934892</td>\n",
       "      <td>0</td>\n",
       "      <td>Overweight</td>\n",
       "    </tr>\n",
       "    <tr>\n",
       "      <th>1</th>\n",
       "      <td>Female</td>\n",
       "      <td>-0.572383</td>\n",
       "      <td>Alabama</td>\n",
       "      <td>0</td>\n",
       "      <td>1</td>\n",
       "      <td>0</td>\n",
       "      <td>0</td>\n",
       "      <td>0</td>\n",
       "      <td>0</td>\n",
       "      <td>0</td>\n",
       "      <td>-1.110508</td>\n",
       "      <td>-0.492723</td>\n",
       "      <td>-1.180533</td>\n",
       "      <td>0</td>\n",
       "      <td>Normal weight</td>\n",
       "    </tr>\n",
       "    <tr>\n",
       "      <th>2</th>\n",
       "      <td>Male</td>\n",
       "      <td>-1.060910</td>\n",
       "      <td>Alabama</td>\n",
       "      <td>0</td>\n",
       "      <td>0</td>\n",
       "      <td>0</td>\n",
       "      <td>0</td>\n",
       "      <td>1</td>\n",
       "      <td>0</td>\n",
       "      <td>0</td>\n",
       "      <td>-0.536478</td>\n",
       "      <td>-0.679523</td>\n",
       "      <td>0.538955</td>\n",
       "      <td>0</td>\n",
       "      <td>Normal weight</td>\n",
       "    </tr>\n",
       "    <tr>\n",
       "      <th>3</th>\n",
       "      <td>Male</td>\n",
       "      <td>-0.039444</td>\n",
       "      <td>Alabama</td>\n",
       "      <td>0</td>\n",
       "      <td>0</td>\n",
       "      <td>1</td>\n",
       "      <td>0</td>\n",
       "      <td>0</td>\n",
       "      <td>0</td>\n",
       "      <td>0</td>\n",
       "      <td>-0.000114</td>\n",
       "      <td>-1.426725</td>\n",
       "      <td>0.514390</td>\n",
       "      <td>0</td>\n",
       "      <td>Overweight</td>\n",
       "    </tr>\n",
       "    <tr>\n",
       "      <th>4</th>\n",
       "      <td>Female</td>\n",
       "      <td>0.449083</td>\n",
       "      <td>Alabama</td>\n",
       "      <td>1</td>\n",
       "      <td>0</td>\n",
       "      <td>0</td>\n",
       "      <td>0</td>\n",
       "      <td>0</td>\n",
       "      <td>0</td>\n",
       "      <td>0</td>\n",
       "      <td>-0.537985</td>\n",
       "      <td>0.908281</td>\n",
       "      <td>-1.180533</td>\n",
       "      <td>0</td>\n",
       "      <td>Normal weight</td>\n",
       "    </tr>\n",
       "  </tbody>\n",
       "</table>\n",
       "</div>"
      ],
      "text/plain": [
       "   gender       age location  race:AfricanAmerican  race:Asian  \\\n",
       "0  Female -0.439148  Alabama                     0           0   \n",
       "1  Female -0.572383  Alabama                     0           1   \n",
       "2    Male -1.060910  Alabama                     0           0   \n",
       "3    Male -0.039444  Alabama                     0           0   \n",
       "4  Female  0.449083  Alabama                     1           0   \n",
       "\n",
       "   race:Caucasian  race:Hispanic  race:Other  hypertension  heart_disease  \\\n",
       "0               0              0           1             0              0   \n",
       "1               0              0           0             0              0   \n",
       "2               0              0           1             0              0   \n",
       "3               1              0           0             0              0   \n",
       "4               0              0           0             0              0   \n",
       "\n",
       "        bmi  hbA1c_level  blood_glucose_level  diabetes      bmi_class  \n",
       "0 -0.000114    -0.492723            -0.934892         0     Overweight  \n",
       "1 -1.110508    -0.492723            -1.180533         0  Normal weight  \n",
       "2 -0.536478    -0.679523             0.538955         0  Normal weight  \n",
       "3 -0.000114    -1.426725             0.514390         0     Overweight  \n",
       "4 -0.537985     0.908281            -1.180533         0  Normal weight  "
      ]
     },
     "execution_count": 14,
     "metadata": {},
     "output_type": "execute_result"
    }
   ],
   "source": [
    "df.head()"
   ]
  },
  {
   "cell_type": "markdown",
   "id": "7c5aecb5",
   "metadata": {},
   "source": [
    "### **Apply `OneHotEncoder`**"
   ]
  },
  {
   "cell_type": "markdown",
   "id": "c645ca83",
   "metadata": {},
   "source": [
    "We will apply `OneHotEncoder` for some columns."
   ]
  },
  {
   "cell_type": "code",
   "execution_count": 23,
   "id": "f0ba63f2",
   "metadata": {},
   "outputs": [],
   "source": [
    "categorical_cols = [\"gender\", \"location\", \"bmi_class\"]"
   ]
  },
  {
   "cell_type": "code",
   "execution_count": 24,
   "id": "55c38b7d",
   "metadata": {},
   "outputs": [],
   "source": [
    "encoder = OneHotEncoder(sparse_output=False, drop=None)"
   ]
  },
  {
   "cell_type": "code",
   "execution_count": 25,
   "id": "e0b9d138",
   "metadata": {},
   "outputs": [],
   "source": [
    "encoded = encoder.fit_transform(df[categorical_cols])\n",
    "encoded_df = pd.DataFrame(\n",
    "    encoded,\n",
    "    columns=encoder.get_feature_names_out(categorical_cols),\n",
    "    index=df.index\n",
    ")\n",
    "encoded_df = encoded_df.astype(int)"
   ]
  },
  {
   "cell_type": "code",
   "execution_count": 26,
   "id": "d93de9a5",
   "metadata": {},
   "outputs": [],
   "source": [
    "df_encoded = pd.concat([df.drop(columns=categorical_cols), encoded_df], axis=1)"
   ]
  },
  {
   "cell_type": "code",
   "execution_count": 29,
   "id": "6a8b82c3",
   "metadata": {},
   "outputs": [
    {
     "data": {
      "text/plain": [
       "(99968, 71)"
      ]
     },
     "execution_count": 29,
     "metadata": {},
     "output_type": "execute_result"
    }
   ],
   "source": [
    "df_encoded.shape"
   ]
  },
  {
   "cell_type": "markdown",
   "id": "5f2908b7",
   "metadata": {},
   "source": [
    "### **Store final data**"
   ]
  },
  {
   "cell_type": "code",
   "execution_count": 30,
   "id": "6a983cd4",
   "metadata": {},
   "outputs": [],
   "source": [
    "df_encoded.to_csv('../data/feature_engineered_diabetes.csv', index=False)"
   ]
  }
 ],
 "metadata": {
  "kernelspec": {
   "display_name": "env",
   "language": "python",
   "name": "python3"
  },
  "language_info": {
   "codemirror_mode": {
    "name": "ipython",
    "version": 3
   },
   "file_extension": ".py",
   "mimetype": "text/x-python",
   "name": "python",
   "nbconvert_exporter": "python",
   "pygments_lexer": "ipython3",
   "version": "3.11.9"
  }
 },
 "nbformat": 4,
 "nbformat_minor": 5
}
